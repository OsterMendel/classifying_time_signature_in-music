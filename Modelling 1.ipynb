{
 "cells": [
  {
   "cell_type": "code",
   "execution_count": 121,
   "metadata": {},
   "outputs": [],
   "source": [
    "import numpy as np\n",
    "import pandas as pd\n",
    "import matplotlib.pyplot as plt\n",
    "import seaborn as sns\n",
    "\n",
    "from sklearn.metrics import accuracy_score, recall_score, precision_score, f1_score, confusion_matrix\n",
    "\n",
    "from sklearn.neighbors import KNeighborsClassifier\n",
    "from sklearn.preprocessing import StandardScaler\n",
    "from sklearn.model_selection import train_test_split\n",
    "from sklearn.dummy import DummyClassifier\n",
    "from sklearn.model_selection import GridSearchCV\n",
    "from sklearn.model_selection import RandomizedSearchCV, KFold\n",
    "from sklearn.ensemble import RandomForestClassifier\n",
    "from sklearn.svm import SVC\n",
    "\n",
    "from xgboost import XGBClassifier\n",
    "# for class imbalance\n",
    "from imblearn.over_sampling import SMOTE\n",
    "from sklearn.utils import resample\n",
    "\n",
    "from keras import models\n",
    "from keras import layers\n",
    "from keras import optimizers"
   ]
  },
  {
   "cell_type": "markdown",
   "metadata": {},
   "source": [
    "-----"
   ]
  },
  {
   "cell_type": "markdown",
   "metadata": {},
   "source": [
    "### --In the process & Further steps--"
   ]
  },
  {
   "cell_type": "markdown",
   "metadata": {},
   "source": [
    "-Model tuninig<br>\n",
    "-remove 5/4 timing, try predicting the two most common classes in time signature 4/4 and 3/4<br>\n",
    "-check on time signature confidence, set a threshold and remove rows which don't pass the threshold feed this into models<br>\n",
    "-More feature engineering, the mean for each MFCC vector may not be the correct choice\n",
    "-Use the full MFCC vector and feed into Sequential neural net"
   ]
  },
  {
   "cell_type": "markdown",
   "metadata": {},
   "source": [
    "----"
   ]
  },
  {
   "cell_type": "markdown",
   "metadata": {},
   "source": [
    "### Baseline Model"
   ]
  },
  {
   "cell_type": "code",
   "execution_count": 3,
   "metadata": {
    "scrolled": true
   },
   "outputs": [
    {
     "data": {
      "text/html": [
       "<div>\n",
       "<style scoped>\n",
       "    .dataframe tbody tr th:only-of-type {\n",
       "        vertical-align: middle;\n",
       "    }\n",
       "\n",
       "    .dataframe tbody tr th {\n",
       "        vertical-align: top;\n",
       "    }\n",
       "\n",
       "    .dataframe thead th {\n",
       "        text-align: right;\n",
       "    }\n",
       "</style>\n",
       "<table border=\"1\" class=\"dataframe\">\n",
       "  <thead>\n",
       "    <tr style=\"text-align: right;\">\n",
       "      <th></th>\n",
       "      <th>track_id</th>\n",
       "      <th>mfcc1</th>\n",
       "      <th>mfcc2</th>\n",
       "      <th>mfcc3</th>\n",
       "      <th>mfcc4</th>\n",
       "      <th>mfcc5</th>\n",
       "      <th>mfcc6</th>\n",
       "      <th>mfcc7</th>\n",
       "      <th>mfcc8</th>\n",
       "      <th>mfcc9</th>\n",
       "      <th>...</th>\n",
       "      <th>mfcc12</th>\n",
       "      <th>mfcc13</th>\n",
       "      <th>mfcc14</th>\n",
       "      <th>mfcc15</th>\n",
       "      <th>mfcc16</th>\n",
       "      <th>mfcc17</th>\n",
       "      <th>mfcc18</th>\n",
       "      <th>mfcc19</th>\n",
       "      <th>mfcc20</th>\n",
       "      <th>time_signature</th>\n",
       "    </tr>\n",
       "  </thead>\n",
       "  <tbody>\n",
       "    <tr>\n",
       "      <th>0</th>\n",
       "      <td>10.0</td>\n",
       "      <td>-17.238174</td>\n",
       "      <td>94.442024</td>\n",
       "      <td>-48.614548</td>\n",
       "      <td>32.370766</td>\n",
       "      <td>-4.550584</td>\n",
       "      <td>2.220590</td>\n",
       "      <td>-2.271865</td>\n",
       "      <td>2.682117</td>\n",
       "      <td>-5.288854</td>\n",
       "      <td>...</td>\n",
       "      <td>2.239940</td>\n",
       "      <td>-6.416430</td>\n",
       "      <td>2.677109</td>\n",
       "      <td>-5.104513</td>\n",
       "      <td>-0.911098</td>\n",
       "      <td>-3.207996</td>\n",
       "      <td>3.043154</td>\n",
       "      <td>-1.036512</td>\n",
       "      <td>3.882601</td>\n",
       "      <td>4.0</td>\n",
       "    </tr>\n",
       "    <tr>\n",
       "      <th>1</th>\n",
       "      <td>141.0</td>\n",
       "      <td>-208.569260</td>\n",
       "      <td>116.633934</td>\n",
       "      <td>-1.723712</td>\n",
       "      <td>26.018599</td>\n",
       "      <td>9.688706</td>\n",
       "      <td>-4.179668</td>\n",
       "      <td>7.235491</td>\n",
       "      <td>-5.119752</td>\n",
       "      <td>-0.052033</td>\n",
       "      <td>...</td>\n",
       "      <td>-3.396803</td>\n",
       "      <td>-4.810870</td>\n",
       "      <td>3.130367</td>\n",
       "      <td>-2.126665</td>\n",
       "      <td>5.053833</td>\n",
       "      <td>-0.170090</td>\n",
       "      <td>3.087436</td>\n",
       "      <td>-8.665928</td>\n",
       "      <td>-1.098168</td>\n",
       "      <td>3.0</td>\n",
       "    </tr>\n",
       "    <tr>\n",
       "      <th>2</th>\n",
       "      <td>213.0</td>\n",
       "      <td>-264.020782</td>\n",
       "      <td>160.387070</td>\n",
       "      <td>0.499303</td>\n",
       "      <td>15.058126</td>\n",
       "      <td>12.012090</td>\n",
       "      <td>-8.957160</td>\n",
       "      <td>-10.785332</td>\n",
       "      <td>0.959413</td>\n",
       "      <td>-8.229311</td>\n",
       "      <td>...</td>\n",
       "      <td>-5.370893</td>\n",
       "      <td>-4.490613</td>\n",
       "      <td>-11.134265</td>\n",
       "      <td>-18.518158</td>\n",
       "      <td>-2.583431</td>\n",
       "      <td>-4.884125</td>\n",
       "      <td>1.371706</td>\n",
       "      <td>4.428988</td>\n",
       "      <td>-3.584380</td>\n",
       "      <td>4.0</td>\n",
       "    </tr>\n",
       "  </tbody>\n",
       "</table>\n",
       "<p>3 rows × 22 columns</p>\n",
       "</div>"
      ],
      "text/plain": [
       "   track_id       mfcc1       mfcc2      mfcc3      mfcc4      mfcc5  \\\n",
       "0      10.0  -17.238174   94.442024 -48.614548  32.370766  -4.550584   \n",
       "1     141.0 -208.569260  116.633934  -1.723712  26.018599   9.688706   \n",
       "2     213.0 -264.020782  160.387070   0.499303  15.058126  12.012090   \n",
       "\n",
       "      mfcc6      mfcc7     mfcc8     mfcc9  ...    mfcc12    mfcc13  \\\n",
       "0  2.220590  -2.271865  2.682117 -5.288854  ...  2.239940 -6.416430   \n",
       "1 -4.179668   7.235491 -5.119752 -0.052033  ... -3.396803 -4.810870   \n",
       "2 -8.957160 -10.785332  0.959413 -8.229311  ... -5.370893 -4.490613   \n",
       "\n",
       "      mfcc14     mfcc15    mfcc16    mfcc17    mfcc18    mfcc19    mfcc20  \\\n",
       "0   2.677109  -5.104513 -0.911098 -3.207996  3.043154 -1.036512  3.882601   \n",
       "1   3.130367  -2.126665  5.053833 -0.170090  3.087436 -8.665928 -1.098168   \n",
       "2 -11.134265 -18.518158 -2.583431 -4.884125  1.371706  4.428988 -3.584380   \n",
       "\n",
       "   time_signature  \n",
       "0             4.0  \n",
       "1             3.0  \n",
       "2             4.0  \n",
       "\n",
       "[3 rows x 22 columns]"
      ]
     },
     "execution_count": 3,
     "metadata": {},
     "output_type": "execute_result"
    }
   ],
   "source": [
    "df = pd.read_csv('final_df.csv', index_col=0)\n",
    "df.head(3)"
   ]
  },
  {
   "cell_type": "code",
   "execution_count": 4,
   "metadata": {},
   "outputs": [
    {
     "data": {
      "text/plain": [
       "4.0    1034\n",
       "3.0     128\n",
       "5.0      42\n",
       "1.0      17\n",
       "0.0       1\n",
       "Name: time_signature, dtype: int64"
      ]
     },
     "execution_count": 4,
     "metadata": {},
     "output_type": "execute_result"
    }
   ],
   "source": [
    "df['time_signature'].value_counts()"
   ]
  },
  {
   "cell_type": "code",
   "execution_count": 5,
   "metadata": {},
   "outputs": [],
   "source": [
    "# dropping all rows where the time signature is 1 or 0\n",
    "df = df[(df['time_signature'] != 0) & (df['time_signature'] != 1)]"
   ]
  },
  {
   "cell_type": "code",
   "execution_count": 6,
   "metadata": {},
   "outputs": [
    {
     "data": {
      "text/plain": [
       "4.0    1034\n",
       "3.0     128\n",
       "5.0      42\n",
       "Name: time_signature, dtype: int64"
      ]
     },
     "execution_count": 6,
     "metadata": {},
     "output_type": "execute_result"
    }
   ],
   "source": [
    "df['time_signature'].value_counts()"
   ]
  },
  {
   "cell_type": "code",
   "execution_count": 7,
   "metadata": {},
   "outputs": [],
   "source": [
    "X = df.drop(columns=['track_id', 'time_signature'])\n",
    "y = df['time_signature']"
   ]
  },
  {
   "cell_type": "code",
   "execution_count": 8,
   "metadata": {},
   "outputs": [
    {
     "data": {
      "text/plain": [
       "0.8588039867109635"
      ]
     },
     "execution_count": 8,
     "metadata": {},
     "output_type": "execute_result"
    }
   ],
   "source": [
    "dummy_clf = DummyClassifier(strategy=\"most_frequent\")\n",
    "dummy_clf.fit(X, y)\n",
    "dummy_clf.predict(X)\n",
    "dummy_clf.score(X, y)"
   ]
  },
  {
   "cell_type": "code",
   "execution_count": 9,
   "metadata": {},
   "outputs": [],
   "source": [
    "colors =  ['#73997b','#617f8c','#675970']"
   ]
  },
  {
   "cell_type": "code",
   "execution_count": 12,
   "metadata": {},
   "outputs": [
    {
     "data": {
      "image/png": "[encoded data removed]",
      "text/plain": [
       "<Figure size 576x432 with 1 Axes>"
      ]
     },
     "metadata": {},
     "output_type": "display_data"
    }
   ],
   "source": [
    "plt.figure(figsize=(8,6));\n",
    "plt.pie(y_train.value_counts(), colors=colors);\n",
    "plt.text(.03,.4,'4')\n",
    "plt.text(.7,-.09,'5')\n",
    "plt.text(.4,-.4,'3')\n",
    "plt.title('Class imbalance');\n",
    "plt.savefig('class_imbalance.png')"
   ]
  },
  {
   "cell_type": "code",
   "execution_count": 13,
   "metadata": {},
   "outputs": [
    {
     "data": {
      "text/plain": [
       "4.0    0.859813\n",
       "3.0    0.106957\n",
       "5.0    0.033229\n",
       "Name: time_signature, dtype: float64"
      ]
     },
     "execution_count": 13,
     "metadata": {},
     "output_type": "execute_result"
    }
   ],
   "source": [
    "y_train.value_counts(normalize=True)"
   ]
  },
  {
   "cell_type": "markdown",
   "metadata": {},
   "source": [
    "#### Train test split"
   ]
  },
  {
   "cell_type": "code",
   "execution_count": 11,
   "metadata": {},
   "outputs": [],
   "source": [
    "X_train, X_test, y_train, y_test = train_test_split(X, y, test_size=.20, random_state=12)"
   ]
  },
  {
   "cell_type": "code",
   "execution_count": 14,
   "metadata": {},
   "outputs": [
    {
     "name": "stdout",
     "output_type": "stream",
     "text": [
      "(963, 20)\n",
      "(241, 20)\n",
      "(963,)\n",
      "(241,)\n"
     ]
    }
   ],
   "source": [
    "print(X_train.shape)\n",
    "print(X_test.shape)\n",
    "print(y_train.shape)\n",
    "print(y_test.shape)"
   ]
  },
  {
   "cell_type": "markdown",
   "metadata": {},
   "source": [
    "### Upsampling the smaller classes"
   ]
  },
  {
   "cell_type": "code",
   "execution_count": 15,
   "metadata": {},
   "outputs": [],
   "source": [
    "sm = SMOTE(random_state=42)\n",
    "X_res, y_res = sm.fit_resample(X_train, y_train)"
   ]
  },
  {
   "cell_type": "code",
   "execution_count": 16,
   "metadata": {},
   "outputs": [
    {
     "name": "stdout",
     "output_type": "stream",
     "text": [
      "(2484, 20)\n",
      "(2484,)\n"
     ]
    }
   ],
   "source": [
    "print(X_res.shape)\n",
    "print(y_res.shape)"
   ]
  },
  {
   "cell_type": "code",
   "execution_count": 17,
   "metadata": {},
   "outputs": [
    {
     "data": {
      "text/plain": [
       "3.0    0.333333\n",
       "5.0    0.333333\n",
       "4.0    0.333333\n",
       "Name: 0, dtype: float64"
      ]
     },
     "execution_count": 17,
     "metadata": {},
     "output_type": "execute_result"
    }
   ],
   "source": [
    "pd.DataFrame(y_res)[0].value_counts(normalize=True)"
   ]
  },
  {
   "cell_type": "markdown",
   "metadata": {},
   "source": [
    "### Knn Model"
   ]
  },
  {
   "cell_type": "code",
   "execution_count": 88,
   "metadata": {},
   "outputs": [],
   "source": [
    "# Need to scale the data"
   ]
  },
  {
   "cell_type": "code",
   "execution_count": 85,
   "metadata": {},
   "outputs": [
    {
     "name": "stdout",
     "output_type": "stream",
     "text": [
      "0.5020746887966805\n",
      "[0.1978022  0.65853659 0.12698413]\n"
     ]
    },
    {
     "data": {
      "text/plain": [
       "array([[  9,  11,   5],\n",
       "       [ 54, 108,  44],\n",
       "       [  3,   3,   4]])"
      ]
     },
     "execution_count": 85,
     "metadata": {},
     "output_type": "execute_result"
    }
   ],
   "source": [
    "knn = KNeighborsClassifier()\n",
    "knn.fit(X_res, y_res)\n",
    "knn_preds = knn.predict(X_test)\n",
    "print(accuracy_score(y_test, knn_preds))\n",
    "print(f1_score(y_test, knn_preds, average=None))\n",
    "confusion_matrix(y_test, knn_preds)"
   ]
  },
  {
   "cell_type": "code",
   "execution_count": null,
   "metadata": {},
   "outputs": [],
   "source": []
  },
  {
   "cell_type": "code",
   "execution_count": null,
   "metadata": {},
   "outputs": [],
   "source": []
  },
  {
   "cell_type": "code",
   "execution_count": null,
   "metadata": {},
   "outputs": [],
   "source": []
  },
  {
   "cell_type": "code",
   "execution_count": null,
   "metadata": {},
   "outputs": [],
   "source": []
  },
  {
   "cell_type": "markdown",
   "metadata": {},
   "source": [
    "### Random Forest"
   ]
  },
  {
   "cell_type": "code",
   "execution_count": 65,
   "metadata": {},
   "outputs": [],
   "source": [
    "rf_clf = RandomForestClassifier(n_estimators=50)\n",
    "rf_clf.fit(X_res, y_res)\n",
    "rf_preds = rf_clf.predict(X_test)"
   ]
  },
  {
   "cell_type": "code",
   "execution_count": 86,
   "metadata": {
    "scrolled": true
   },
   "outputs": [
    {
     "name": "stdout",
     "output_type": "stream",
     "text": [
      "0.7717842323651453\n",
      "[0.12       0.87290168 0.13333333]\n",
      "[[  3  22   0]\n",
      " [ 20 182   4]\n",
      " [  2   7   1]]\n"
     ]
    }
   ],
   "source": [
    "print(accuracy_score(y_test, rf_preds))\n",
    "print(f1_score(y_test, rf_preds, average=None))\n",
    "print(confusion_matrix(y_test, rf_preds))"
   ]
  },
  {
   "cell_type": "code",
   "execution_count": 68,
   "metadata": {},
   "outputs": [],
   "source": [
    "########  NOTES\n",
    "\n",
    "# this seems to be working well. got to play with hyper parameters"
   ]
  },
  {
   "cell_type": "code",
   "execution_count": null,
   "metadata": {},
   "outputs": [],
   "source": []
  },
  {
   "cell_type": "code",
   "execution_count": null,
   "metadata": {},
   "outputs": [],
   "source": []
  },
  {
   "cell_type": "code",
   "execution_count": null,
   "metadata": {},
   "outputs": [],
   "source": []
  },
  {
   "cell_type": "code",
   "execution_count": null,
   "metadata": {},
   "outputs": [],
   "source": []
  },
  {
   "cell_type": "code",
   "execution_count": null,
   "metadata": {},
   "outputs": [],
   "source": []
  },
  {
   "cell_type": "markdown",
   "metadata": {},
   "source": [
    "### X gboost"
   ]
  },
  {
   "cell_type": "code",
   "execution_count": 176,
   "metadata": {},
   "outputs": [],
   "source": [
    "xgb_clf = XGBClassifier(objective='multi:softmax')\n",
    "xgb_clf.fit(pd.DataFrame(X_res, columns=X_train.columns), y_res)\n",
    "xgb_preds = xgb_clf.predict(X_test)\n",
    "accuracy_score(y_test, xgb_preds)"
   ]
  },
  {
   "cell_type": "code",
   "execution_count": 180,
   "metadata": {},
   "outputs": [
    {
     "data": {
      "text/plain": [
       "78"
      ]
     },
     "execution_count": 180,
     "metadata": {},
     "output_type": "execute_result"
    }
   ],
   "source": [
    "78"
   ]
  },
  {
   "cell_type": "code",
   "execution_count": 92,
   "metadata": {},
   "outputs": [
    {
     "data": {
      "text/plain": [
       "array([0.17021277, 0.87290168, 0.11111111])"
      ]
     },
     "execution_count": 92,
     "metadata": {},
     "output_type": "execute_result"
    }
   ],
   "source": [
    "f1_score(y_test, xgb_preds, average=None)"
   ]
  },
  {
   "cell_type": "markdown",
   "metadata": {},
   "source": [
    "### GridSearch"
   ]
  },
  {
   "cell_type": "code",
   "execution_count": 178,
   "metadata": {},
   "outputs": [],
   "source": [
    "param_xgb = {'n_estimators': [100,300,500],\n",
    "              'learning_rate': [0.1,0.07,0.05,0.03,0.01],\n",
    "              'max_depth': [3, 4, 5, 6, 7],\n",
    "              'colsample_bytree': [0.5,0.45,0.4],\n",
    "              'min_child_weight': [1, 2, 3]\n",
    "             }"
   ]
  },
  {
   "cell_type": "code",
   "execution_count": 179,
   "metadata": {},
   "outputs": [],
   "source": [
    "gsearch_xgb = GridSearchCV(\n",
    "                estimator = xgb_clf,\n",
    "                param_grid = param_xgb, \n",
    "                scoring='accuracy',\n",
    "                n_jobs=-1,\n",
    "                verbose=1, \n",
    "                cv=5)"
   ]
  },
  {
   "cell_type": "code",
   "execution_count": 96,
   "metadata": {},
   "outputs": [
    {
     "name": "stdout",
     "output_type": "stream",
     "text": [
      "Fitting 5 folds for each of 675 candidates, totalling 3375 fits\n"
     ]
    },
    {
     "name": "stderr",
     "output_type": "stream",
     "text": [
      "[Parallel(n_jobs=-1)]: Using backend LokyBackend with 8 concurrent workers.\n",
      "[Parallel(n_jobs=-1)]: Done  34 tasks      | elapsed:   14.6s\n",
      "[Parallel(n_jobs=-1)]: Done 184 tasks      | elapsed:  1.4min\n",
      "[Parallel(n_jobs=-1)]: Done 434 tasks      | elapsed:  3.6min\n",
      "[Parallel(n_jobs=-1)]: Done 784 tasks      | elapsed:  6.5min\n",
      "[Parallel(n_jobs=-1)]: Done 1234 tasks      | elapsed: 11.7min\n",
      "[Parallel(n_jobs=-1)]: Done 1784 tasks      | elapsed: 20.0min\n",
      "[Parallel(n_jobs=-1)]: Done 2434 tasks      | elapsed: 25.3min\n",
      "[Parallel(n_jobs=-1)]: Done 3184 tasks      | elapsed: 31.1min\n",
      "[Parallel(n_jobs=-1)]: Done 3375 out of 3375 | elapsed: 32.8min finished\n"
     ]
    },
    {
     "data": {
      "text/plain": [
       "GridSearchCV(cv=5, error_score='raise-deprecating',\n",
       "             estimator=XGBClassifier(base_score=0.5, booster='gbtree',\n",
       "                                     colsample_bylevel=1, colsample_bynode=1,\n",
       "                                     colsample_bytree=1, gamma=0, gpu_id=-1,\n",
       "                                     importance_type='gain',\n",
       "                                     interaction_constraints='',\n",
       "                                     learning_rate=0.300000012,\n",
       "                                     max_delta_step=0, max_depth=6,\n",
       "                                     min_child_weight=1, missing=nan,\n",
       "                                     monotone_constraints='()',\n",
       "                                     n_esti...\n",
       "                                     scale_pos_weight=None, subsample=1,\n",
       "                                     tree_method='exact', validate_parameters=1,\n",
       "                                     verbosity=None),\n",
       "             iid='warn', n_jobs=-1,\n",
       "             param_grid={'colsample_bytree': [0.5, 0.45, 0.4],\n",
       "                         'learning_rate': [0.1, 0.07, 0.05, 0.03, 0.01],\n",
       "                         'max_depth': [3, 4, 5, 6, 7],\n",
       "                         'min_child_weight': [1, 2, 3],\n",
       "                         'n_estimators': [100, 300, 500]},\n",
       "             pre_dispatch='2*n_jobs', refit=True, return_train_score=False,\n",
       "             scoring='accuracy', verbose=1)"
      ]
     },
     "execution_count": 96,
     "metadata": {},
     "output_type": "execute_result"
    }
   ],
   "source": [
    "gsearch_xgb.fit(pd.DataFrame(X_res, columns=X_train.columns), y_res)"
   ]
  },
  {
   "cell_type": "code",
   "execution_count": 97,
   "metadata": {},
   "outputs": [],
   "source": [
    "gsxbg_preds = gsearch_xgb.best_estimator_.predict(X_test)"
   ]
  },
  {
   "cell_type": "code",
   "execution_count": 99,
   "metadata": {},
   "outputs": [
    {
     "name": "stdout",
     "output_type": "stream",
     "text": [
      "0.7842323651452282\n",
      "[0.17021277 0.88192771 0.2       ]\n"
     ]
    },
    {
     "data": {
      "text/plain": [
       "array([[  4,  20,   1],\n",
       "       [ 16, 183,   7],\n",
       "       [  2,   6,   2]])"
      ]
     },
     "execution_count": 99,
     "metadata": {},
     "output_type": "execute_result"
    }
   ],
   "source": [
    "print(accuracy_score(y_test, gsxbg_preds))\n",
    "print(f1_score(y_test, gsxbg_preds, average=None))\n",
    "confusion_matrix(y_test, gsxbg_preds)"
   ]
  },
  {
   "cell_type": "markdown",
   "metadata": {},
   "source": [
    "### Neural Nets"
   ]
  },
  {
   "cell_type": "code",
   "execution_count": 101,
   "metadata": {},
   "outputs": [],
   "source": [
    "nn = models.Sequential()"
   ]
  },
  {
   "cell_type": "code",
   "execution_count": null,
   "metadata": {},
   "outputs": [],
   "source": []
  },
  {
   "cell_type": "code",
   "execution_count": null,
   "metadata": {},
   "outputs": [],
   "source": []
  },
  {
   "cell_type": "markdown",
   "metadata": {},
   "source": [
    "## Setting threshold for time sig confidence & removing 5/4 timing"
   ]
  },
  {
   "cell_type": "code",
   "execution_count": 23,
   "metadata": {},
   "outputs": [],
   "source": [
    "# retrieving track id and time signature\n",
    "conf_df = pd.read_csv('clean_track_info.csv',index_col=0)[['tracks_id', 'time_sig_confidence']]"
   ]
  },
  {
   "cell_type": "code",
   "execution_count": 47,
   "metadata": {},
   "outputs": [
    {
     "data": {
      "text/plain": [
       "0.804"
      ]
     },
     "execution_count": 47,
     "metadata": {},
     "output_type": "execute_result"
    }
   ],
   "source": [
    "# checking dist\n",
    "conf_df['time_sig_confidence'].quantile(.25)"
   ]
  },
  {
   "cell_type": "code",
   "execution_count": 53,
   "metadata": {},
   "outputs": [
    {
     "data": {
      "image/png": "[encoded data removed]",
      "text/plain": [
       "<Figure size 576x432 with 1 Axes>"
      ]
     },
     "metadata": {
      "needs_background": "light"
     },
     "output_type": "display_data"
    }
   ],
   "source": [
    "# visualizing dist\n",
    "plt.figure(figsize=(8,6));\n",
    "plt.title('Time Signature confidence histogram');\n",
    "plt.ylabel('count');\n",
    "sns.distplot(conf_df['time_sig_confidence']);\n",
    "plt.axvline(conf_df['time_sig_confidence'].quantile(.25),color='r');"
   ]
  },
  {
   "cell_type": "code",
   "execution_count": 56,
   "metadata": {},
   "outputs": [],
   "source": [
    "# joining tables for filtering later\n",
    "merged_df = pd.merge(df,conf_df,left_on='track_id', right_on='tracks_id').drop(columns=['tracks_id'])"
   ]
  },
  {
   "cell_type": "code",
   "execution_count": 61,
   "metadata": {},
   "outputs": [],
   "source": [
    "# filtered data frame for sig confidence above .8\n",
    "filtered_df = merged_df[(merged_df['time_sig_confidence'] >= .8) & (merged_df['time_signature'] != 5)]"
   ]
  },
  {
   "cell_type": "code",
   "execution_count": 72,
   "metadata": {},
   "outputs": [
    {
     "data": {
      "text/plain": [
       "4.0    841\n",
       "3.0     59\n",
       "Name: time_signature, dtype: int64"
      ]
     },
     "execution_count": 72,
     "metadata": {},
     "output_type": "execute_result"
    }
   ],
   "source": [
    "# checking distribution on filtered dataframe\n",
    "filtered_df['time_signature'].value_counts()"
   ]
  },
  {
   "cell_type": "code",
   "execution_count": 66,
   "metadata": {},
   "outputs": [],
   "source": [
    "# Saving to scv\n",
    "filtered_df.to_csv('filtered_df.csv')"
   ]
  },
  {
   "cell_type": "markdown",
   "metadata": {},
   "source": [
    "From here and down I'll refer to the filtered DataFrame with an 'f' before for example fX, fy"
   ]
  },
  {
   "cell_type": "code",
   "execution_count": 67,
   "metadata": {},
   "outputs": [],
   "source": [
    "fX = filtered_df.drop(columns=['track_id', 'time_signature', 'time_sig_confidence'])\n",
    "fy = filtered_df['time_signature']"
   ]
  },
  {
   "cell_type": "code",
   "execution_count": 70,
   "metadata": {},
   "outputs": [
    {
     "data": {
      "text/html": [
       "<div>\n",
       "<style scoped>\n",
       "    .dataframe tbody tr th:only-of-type {\n",
       "        vertical-align: middle;\n",
       "    }\n",
       "\n",
       "    .dataframe tbody tr th {\n",
       "        vertical-align: top;\n",
       "    }\n",
       "\n",
       "    .dataframe thead th {\n",
       "        text-align: right;\n",
       "    }\n",
       "</style>\n",
       "<table border=\"1\" class=\"dataframe\">\n",
       "  <thead>\n",
       "    <tr style=\"text-align: right;\">\n",
       "      <th></th>\n",
       "      <th>mfcc1</th>\n",
       "      <th>mfcc2</th>\n",
       "      <th>mfcc3</th>\n",
       "      <th>mfcc4</th>\n",
       "      <th>mfcc5</th>\n",
       "      <th>mfcc6</th>\n",
       "      <th>mfcc7</th>\n",
       "      <th>mfcc8</th>\n",
       "      <th>mfcc9</th>\n",
       "      <th>mfcc10</th>\n",
       "      <th>mfcc11</th>\n",
       "      <th>mfcc12</th>\n",
       "      <th>mfcc13</th>\n",
       "      <th>mfcc14</th>\n",
       "      <th>mfcc15</th>\n",
       "      <th>mfcc16</th>\n",
       "      <th>mfcc17</th>\n",
       "      <th>mfcc18</th>\n",
       "      <th>mfcc19</th>\n",
       "      <th>mfcc20</th>\n",
       "    </tr>\n",
       "  </thead>\n",
       "  <tbody>\n",
       "    <tr>\n",
       "      <th>0</th>\n",
       "      <td>-17.238174</td>\n",
       "      <td>94.442024</td>\n",
       "      <td>-48.614548</td>\n",
       "      <td>32.370766</td>\n",
       "      <td>-4.550584</td>\n",
       "      <td>2.220590</td>\n",
       "      <td>-2.271865</td>\n",
       "      <td>2.682117</td>\n",
       "      <td>-5.288854</td>\n",
       "      <td>0.512593</td>\n",
       "      <td>-9.244275</td>\n",
       "      <td>2.239940</td>\n",
       "      <td>-6.41643</td>\n",
       "      <td>2.677109</td>\n",
       "      <td>-5.104513</td>\n",
       "      <td>-0.911098</td>\n",
       "      <td>-3.207996</td>\n",
       "      <td>3.043154</td>\n",
       "      <td>-1.036512</td>\n",
       "      <td>3.882601</td>\n",
       "    </tr>\n",
       "    <tr>\n",
       "      <th>1</th>\n",
       "      <td>-208.569260</td>\n",
       "      <td>116.633934</td>\n",
       "      <td>-1.723712</td>\n",
       "      <td>26.018599</td>\n",
       "      <td>9.688706</td>\n",
       "      <td>-4.179668</td>\n",
       "      <td>7.235491</td>\n",
       "      <td>-5.119752</td>\n",
       "      <td>-0.052033</td>\n",
       "      <td>2.222995</td>\n",
       "      <td>-3.326600</td>\n",
       "      <td>-3.396803</td>\n",
       "      <td>-4.81087</td>\n",
       "      <td>3.130367</td>\n",
       "      <td>-2.126665</td>\n",
       "      <td>5.053833</td>\n",
       "      <td>-0.170090</td>\n",
       "      <td>3.087436</td>\n",
       "      <td>-8.665928</td>\n",
       "      <td>-1.098168</td>\n",
       "    </tr>\n",
       "  </tbody>\n",
       "</table>\n",
       "</div>"
      ],
      "text/plain": [
       "        mfcc1       mfcc2      mfcc3      mfcc4     mfcc5     mfcc6     mfcc7  \\\n",
       "0  -17.238174   94.442024 -48.614548  32.370766 -4.550584  2.220590 -2.271865   \n",
       "1 -208.569260  116.633934  -1.723712  26.018599  9.688706 -4.179668  7.235491   \n",
       "\n",
       "      mfcc8     mfcc9    mfcc10    mfcc11    mfcc12   mfcc13    mfcc14  \\\n",
       "0  2.682117 -5.288854  0.512593 -9.244275  2.239940 -6.41643  2.677109   \n",
       "1 -5.119752 -0.052033  2.222995 -3.326600 -3.396803 -4.81087  3.130367   \n",
       "\n",
       "     mfcc15    mfcc16    mfcc17    mfcc18    mfcc19    mfcc20  \n",
       "0 -5.104513 -0.911098 -3.207996  3.043154 -1.036512  3.882601  \n",
       "1 -2.126665  5.053833 -0.170090  3.087436 -8.665928 -1.098168  "
      ]
     },
     "execution_count": 70,
     "metadata": {},
     "output_type": "execute_result"
    }
   ],
   "source": [
    "fX.head(2)"
   ]
  },
  {
   "cell_type": "code",
   "execution_count": 71,
   "metadata": {},
   "outputs": [
    {
     "data": {
      "text/plain": [
       "0    4.0\n",
       "1    3.0\n",
       "Name: time_signature, dtype: float64"
      ]
     },
     "execution_count": 71,
     "metadata": {},
     "output_type": "execute_result"
    }
   ],
   "source": [
    "fy.head(2)"
   ]
  },
  {
   "cell_type": "code",
   "execution_count": 112,
   "metadata": {},
   "outputs": [],
   "source": [
    "fX_train, fX_test, fy_train, fy_test = train_test_split(fX, fy, test_size=0.25, random_state=42)"
   ]
  },
  {
   "cell_type": "markdown",
   "metadata": {},
   "source": [
    "### Downsampling fX train"
   ]
  },
  {
   "cell_type": "code",
   "execution_count": 137,
   "metadata": {},
   "outputs": [],
   "source": [
    "# Separate majority and minority classes\n",
    "df_majority = fX_train[fy_train==4]\n",
    "df_minority = fX_train[fy_train==3]\n",
    " \n",
    "# Downsample majority class\n",
    "df_majority_downsampled = resample(df_majority, \n",
    "                                 replace=False,    # sample without replacement\n",
    "                                 n_samples=43,     # to match minority class\n",
    "                                 random_state=123) # reproducible results\n",
    " \n",
    "# putting together the minority and donwsampled majority\n",
    "fX_train_res = pd.concat([df_majority_downsampled, df_minority],axis=0)"
   ]
  },
  {
   "cell_type": "code",
   "execution_count": 150,
   "metadata": {},
   "outputs": [],
   "source": [
    "fy_train_res = pd.Series()\n",
    "for i, x in fy_train.items():\n",
    "    if i in fX_train_res.index:\n",
    "        fy_train_res.loc[i] = x"
   ]
  },
  {
   "cell_type": "code",
   "execution_count": 155,
   "metadata": {},
   "outputs": [],
   "source": [
    "ftrain_resampled = pd.concat([fX_train_res, fy_train_res], axis=1)"
   ]
  },
  {
   "cell_type": "code",
   "execution_count": 158,
   "metadata": {},
   "outputs": [],
   "source": [
    "fX_train_resampled = ftrain_resampled.drop(columns=[0])\n",
    "fy_train_resampled = ftrain_resampled[0]"
   ]
  },
  {
   "cell_type": "markdown",
   "metadata": {},
   "source": [
    "### Modelling on downsampled  fX"
   ]
  },
  {
   "cell_type": "markdown",
   "metadata": {},
   "source": [
    "#### Random Forest"
   ]
  },
  {
   "cell_type": "code",
   "execution_count": 171,
   "metadata": {
    "scrolled": true
   },
   "outputs": [
    {
     "name": "stdout",
     "output_type": "stream",
     "text": [
      "0.7111111111111111\n"
     ]
    }
   ],
   "source": [
    "frf_clf = RandomForestClassifier(n_estimators=500)\n",
    "frf_clf.fit(fX_train_resampled, fy_train_resampled)\n",
    "frf_preds = frf_clf.predict(fX_test)\n",
    "print(accuracy_score(fy_test, frf_preds))"
   ]
  },
  {
   "cell_type": "markdown",
   "metadata": {},
   "source": [
    "#### Xgboost"
   ]
  },
  {
   "cell_type": "code",
   "execution_count": 169,
   "metadata": {
    "scrolled": true
   },
   "outputs": [
    {
     "data": {
      "text/plain": [
       "0.7288888888888889"
      ]
     },
     "execution_count": 169,
     "metadata": {},
     "output_type": "execute_result"
    }
   ],
   "source": [
    "fxgb_clf = XGBClassifier()\n",
    "fxgb_clf.fit(fX_train_resampled, fy_train_resampled)\n",
    "fxgb_preds = fxgb_clf.predict(fX_test)\n",
    "accuracy_score(fy_test, fxgb_preds)"
   ]
  },
  {
   "cell_type": "markdown",
   "metadata": {},
   "source": [
    "#### Grid search xgboost"
   ]
  },
  {
   "cell_type": "code",
   "execution_count": 172,
   "metadata": {},
   "outputs": [],
   "source": [
    "fparam_xgb = {'n_estimators': [300,500,750,850],\n",
    "              'learning_rate': [0.1,0.07,0.05,0.03,0.01],\n",
    "              'max_depth': [3, 4, 5, 6, 7],\n",
    "              'colsample_bytree': [0.5,0.45,0.4],\n",
    "              'min_child_weight': [1, 2, 3]\n",
    "             }"
   ]
  },
  {
   "cell_type": "code",
   "execution_count": 181,
   "metadata": {},
   "outputs": [],
   "source": [
    "fgsearch_xgb = GridSearchCV(\n",
    "                estimator = fxgb_clf,\n",
    "                param_grid = fparam_xgb, \n",
    "                scoring='accuracy',\n",
    "                n_jobs=-1,\n",
    "                verbose=1, \n",
    "                cv=5)"
   ]
  },
  {
   "cell_type": "code",
   "execution_count": 182,
   "metadata": {},
   "outputs": [
    {
     "name": "stdout",
     "output_type": "stream",
     "text": [
      "Fitting 5 folds for each of 900 candidates, totalling 4500 fits\n"
     ]
    },
    {
     "name": "stderr",
     "output_type": "stream",
     "text": [
      "[Parallel(n_jobs=-1)]: Using backend LokyBackend with 8 concurrent workers.\n",
      "[Parallel(n_jobs=-1)]: Done  34 tasks      | elapsed:    4.5s\n",
      "[Parallel(n_jobs=-1)]: Done 313 tasks      | elapsed:    7.5s\n",
      "[Parallel(n_jobs=-1)]: Done 813 tasks      | elapsed:   13.7s\n",
      "[Parallel(n_jobs=-1)]: Done 1513 tasks      | elapsed:   23.7s\n",
      "[Parallel(n_jobs=-1)]: Done 2413 tasks      | elapsed:   34.5s\n",
      "[Parallel(n_jobs=-1)]: Done 3513 tasks      | elapsed:   48.9s\n",
      "[Parallel(n_jobs=-1)]: Done 4485 out of 4500 | elapsed:  1.0min remaining:    0.2s\n",
      "[Parallel(n_jobs=-1)]: Done 4500 out of 4500 | elapsed:  1.0min finished\n",
      "/Users/mendeloster/opt/anaconda3/lib/python3.7/site-packages/sklearn/model_selection/_search.py:814: DeprecationWarning: The default of the `iid` parameter will change from True to False in version 0.22 and will be removed in 0.24. This will change numeric results when test-set sizes are unequal.\n",
      "  DeprecationWarning)\n"
     ]
    },
    {
     "data": {
      "text/plain": [
       "GridSearchCV(cv=5, error_score='raise-deprecating',\n",
       "             estimator=XGBClassifier(base_score=0.5, booster='gbtree',\n",
       "                                     colsample_bylevel=1, colsample_bynode=1,\n",
       "                                     colsample_bytree=1, gamma=0, gpu_id=-1,\n",
       "                                     importance_type='gain',\n",
       "                                     interaction_constraints='',\n",
       "                                     learning_rate=0.300000012,\n",
       "                                     max_delta_step=0, max_depth=6,\n",
       "                                     min_child_weight=1, missing=nan,\n",
       "                                     monotone_constraints='()',\n",
       "                                     n_esti...\n",
       "                                     scale_pos_weight=1, subsample=1,\n",
       "                                     tree_method='exact', validate_parameters=1,\n",
       "                                     verbosity=None),\n",
       "             iid='warn', n_jobs=-1,\n",
       "             param_grid={'colsample_bytree': [0.5, 0.45, 0.4],\n",
       "                         'learning_rate': [0.1, 0.07, 0.05, 0.03, 0.01],\n",
       "                         'max_depth': [3, 4, 5, 6, 7],\n",
       "                         'min_child_weight': [1, 2, 3],\n",
       "                         'n_estimators': [300, 500, 750, 850]},\n",
       "             pre_dispatch='2*n_jobs', refit=True, return_train_score=False,\n",
       "             scoring='accuracy', verbose=1)"
      ]
     },
     "execution_count": 182,
     "metadata": {},
     "output_type": "execute_result"
    }
   ],
   "source": [
    "fgsearch_xgb.fit(fX_train_resampled, fy_train_resampled)"
   ]
  },
  {
   "cell_type": "code",
   "execution_count": 183,
   "metadata": {},
   "outputs": [],
   "source": [
    "fgs_sgb_preds = fgsearch_xgb.best_estimator_.predict(fX_test)"
   ]
  },
  {
   "cell_type": "code",
   "execution_count": 184,
   "metadata": {},
   "outputs": [
    {
     "data": {
      "text/plain": [
       "0.7377777777777778"
      ]
     },
     "execution_count": 184,
     "metadata": {},
     "output_type": "execute_result"
    }
   ],
   "source": [
    "accuracy_score(fy_test, fgs_sgb_preds)"
   ]
  },
  {
   "cell_type": "code",
   "execution_count": null,
   "metadata": {},
   "outputs": [],
   "source": []
  },
  {
   "cell_type": "code",
   "execution_count": null,
   "metadata": {},
   "outputs": [],
   "source": []
  },
  {
   "cell_type": "markdown",
   "metadata": {},
   "source": [
    "### PCA on MFCCs"
   ]
  },
  {
   "cell_type": "code",
   "execution_count": 73,
   "metadata": {},
   "outputs": [],
   "source": [
    "from sklearn.decomposition import PCA"
   ]
  },
  {
   "cell_type": "code",
   "execution_count": 92,
   "metadata": {},
   "outputs": [
    {
     "data": {
      "image/png": "[encoded data removed]",
      "text/plain": [
       "<Figure size 432x288 with 1 Axes>"
      ]
     },
     "metadata": {
      "needs_background": "light"
     },
     "output_type": "display_data"
    }
   ],
   "source": [
    "plt.plot(filtered_df[filtered_df['time_signature'] == 4]['mfcc4'],'ro');\n",
    "plt.plot(filtered_df[filtered_df['time_signature'] == 3]['mfcc4'],'ro',color='b');"
   ]
  },
  {
   "cell_type": "code",
   "execution_count": 113,
   "metadata": {
    "scrolled": true
   },
   "outputs": [
    {
     "data": {
      "text/plain": [
       "PCA(copy=True, iterated_power='auto', n_components=0.9, random_state=None,\n",
       "    svd_solver='auto', tol=0.0, whiten=False)"
      ]
     },
     "execution_count": 113,
     "metadata": {},
     "output_type": "execute_result"
    }
   ],
   "source": [
    "pca = PCA(n_components=.9)\n",
    "pca.fit(fX_train)"
   ]
  },
  {
   "cell_type": "code",
   "execution_count": 114,
   "metadata": {},
   "outputs": [
    {
     "data": {
      "text/plain": [
       "2"
      ]
     },
     "execution_count": 114,
     "metadata": {},
     "output_type": "execute_result"
    }
   ],
   "source": [
    "pca.n_components_"
   ]
  },
  {
   "cell_type": "code",
   "execution_count": 115,
   "metadata": {},
   "outputs": [
    {
     "data": {
      "text/plain": [
       "array([0.85939745, 0.06154684])"
      ]
     },
     "execution_count": 115,
     "metadata": {},
     "output_type": "execute_result"
    }
   ],
   "source": [
    "pca.explained_variance_ratio_"
   ]
  },
  {
   "cell_type": "code",
   "execution_count": 117,
   "metadata": {},
   "outputs": [
    {
     "data": {
      "text/plain": [
       "array([-1.09961176e+02,  2.04529733e+01,  8.02210442e+00, -2.83737016e+00,\n",
       "        2.55045375e+00, -1.43160428e+00, -8.69704862e-02, -2.79993384e+00,\n",
       "       -5.38332997e-01, -2.39310971e+00, -5.04040144e-01, -2.40328203e+00,\n",
       "       -4.86852755e-01, -1.63722712e+00, -3.42558626e-01, -1.71417374e+00,\n",
       "        2.14183340e-01, -9.00497730e-01,  2.83777417e-01, -8.90566814e-01])"
      ]
     },
     "execution_count": 117,
     "metadata": {},
     "output_type": "execute_result"
    }
   ],
   "source": [
    "structure_loading_1 = pca.components_[0]* np.sqrt(pca.explained_variance_[0])\n",
    "structure_loading_1"
   ]
  },
  {
   "cell_type": "code",
   "execution_count": 120,
   "metadata": {},
   "outputs": [
    {
     "data": {
      "text/plain": [
       "array([[ -98.37287778,   16.80815387],\n",
       "       [ 220.79394946,   10.00082612],\n",
       "       [-112.71781718,   -7.28936077],\n",
       "       ...,\n",
       "       [ -21.52971385,   -4.4131155 ],\n",
       "       [ -20.31253276,   35.91482028],\n",
       "       [ -75.83908832,  -28.98732278]])"
      ]
     },
     "execution_count": 120,
     "metadata": {},
     "output_type": "execute_result"
    }
   ],
   "source": [
    "pca.fit_transform(fX_train)"
   ]
  },
  {
   "cell_type": "code",
   "execution_count": null,
   "metadata": {},
   "outputs": [],
   "source": []
  }
 ],
 "metadata": {
  "kernelspec": {
   "display_name": "Python 3",
   "language": "python",
   "name": "python3"
  },
  "language_info": {
   "codemirror_mode": {
    "name": "ipython",
    "version": 3
   },
   "file_extension": ".py",
   "mimetype": "text/x-python",
   "name": "python",
   "nbconvert_exporter": "python",
   "pygments_lexer": "ipython3",
   "version": "3.7.4"
  }
 },
 "nbformat": 4,
 "nbformat_minor": 2
}
