{
 "cells": [
  {
   "cell_type": "markdown",
   "metadata": {},
   "source": [
    "I need to decide which songs I want to collect"
   ]
  },
  {
   "cell_type": "code",
   "execution_count": 7,
   "metadata": {},
   "outputs": [],
   "source": [
    "\n",
    "import pandas as pd\n",
    "import numpy as np\n",
    "import matplotlib.pyplot as plt\n",
    "\n",
    "import config\n",
    "import spotipy\n",
    "from spotipy.oauth2 import SpotifyClientCredentials"
   ]
  },
  {
   "cell_type": "code",
   "execution_count": 21,
   "metadata": {},
   "outputs": [
    {
     "name": "stdout",
     "output_type": "stream",
     "text": [
      "C:\\Users\\Mendel Oster\\data_science\\fma_metadata\\fma_metadata\n"
     ]
    }
   ],
   "source": [
    "cd data_science\\fma_metadata\\fma_metadata"
   ]
  },
  {
   "cell_type": "markdown",
   "metadata": {},
   "source": [
    "Get track names, artist names, album names, where set subset = 'small'"
   ]
  },
  {
   "cell_type": "code",
   "execution_count": 23,
   "metadata": {
    "scrolled": true
   },
   "outputs": [
    {
     "name": "stderr",
     "output_type": "stream",
     "text": [
      "C:\\Users\\Mendel Oster\\anaconda3\\lib\\site-packages\\IPython\\core\\interactiveshell.py:3063: DtypeWarning: Columns (0,1,5,6,8,12,18,20,21,22,24,33,34,38,39,44,47,49) have mixed types.Specify dtype option on import or set low_memory=False.\n",
      "  interactivity=interactivity, compiler=compiler, result=result)\n"
     ]
    }
   ],
   "source": [
    "tracks_file_raw = pd.read_csv('tracks.csv')"
   ]
  },
  {
   "cell_type": "code",
   "execution_count": 68,
   "metadata": {},
   "outputs": [],
   "source": [
    "# retrieve the indices for the 'small' subset\n",
    "small_indices = tracks_file_raw[tracks_file_raw['set.1'] == 'small'].index"
   ]
  },
  {
   "cell_type": "code",
   "execution_count": 72,
   "metadata": {},
   "outputs": [
    {
     "data": {
      "text/plain": [
       "(8000, 53)"
      ]
     },
     "execution_count": 72,
     "metadata": {},
     "output_type": "execute_result"
    }
   ],
   "source": [
    "subset_tracks_df = tracks_file_raw.iloc[small_indices]\n",
    "subset_tracks_df.shape"
   ]
  },
  {
   "cell_type": "code",
   "execution_count": 107,
   "metadata": {},
   "outputs": [
    {
     "data": {
      "text/html": [
       "<div>\n",
       "<style scoped>\n",
       "    .dataframe tbody tr th:only-of-type {\n",
       "        vertical-align: middle;\n",
       "    }\n",
       "\n",
       "    .dataframe tbody tr th {\n",
       "        vertical-align: top;\n",
       "    }\n",
       "\n",
       "    .dataframe thead th {\n",
       "        text-align: right;\n",
       "    }\n",
       "</style>\n",
       "<table border=\"1\" class=\"dataframe\">\n",
       "  <thead>\n",
       "    <tr style=\"text-align: right;\">\n",
       "      <th></th>\n",
       "      <th>track</th>\n",
       "      <th>track.1</th>\n",
       "      <th>track.2</th>\n",
       "      <th>track.3</th>\n",
       "      <th>track.4</th>\n",
       "      <th>track.5</th>\n",
       "      <th>track.6</th>\n",
       "      <th>track.7</th>\n",
       "      <th>track.8</th>\n",
       "      <th>track.9</th>\n",
       "      <th>track.10</th>\n",
       "      <th>track.11</th>\n",
       "      <th>track.12</th>\n",
       "      <th>track.13</th>\n",
       "      <th>track.14</th>\n",
       "      <th>track.15</th>\n",
       "      <th>track.16</th>\n",
       "      <th>track.17</th>\n",
       "      <th>track.18</th>\n",
       "      <th>track.19</th>\n",
       "    </tr>\n",
       "  </thead>\n",
       "  <tbody>\n",
       "    <tr>\n",
       "      <th>0</th>\n",
       "      <td>bit_rate</td>\n",
       "      <td>comments</td>\n",
       "      <td>composer</td>\n",
       "      <td>date_created</td>\n",
       "      <td>date_recorded</td>\n",
       "      <td>duration</td>\n",
       "      <td>favorites</td>\n",
       "      <td>genre_top</td>\n",
       "      <td>genres</td>\n",
       "      <td>genres_all</td>\n",
       "      <td>information</td>\n",
       "      <td>interest</td>\n",
       "      <td>language_code</td>\n",
       "      <td>license</td>\n",
       "      <td>listens</td>\n",
       "      <td>lyricist</td>\n",
       "      <td>number</td>\n",
       "      <td>publisher</td>\n",
       "      <td>tags</td>\n",
       "      <td>title</td>\n",
       "    </tr>\n",
       "  </tbody>\n",
       "</table>\n",
       "</div>"
      ],
      "text/plain": [
       "      track   track.1   track.2       track.3        track.4   track.5  \\\n",
       "0  bit_rate  comments  composer  date_created  date_recorded  duration   \n",
       "\n",
       "     track.6    track.7 track.8     track.9     track.10  track.11  \\\n",
       "0  favorites  genre_top  genres  genres_all  information  interest   \n",
       "\n",
       "        track.12 track.13 track.14  track.15 track.16   track.17 track.18  \\\n",
       "0  language_code  license  listens  lyricist   number  publisher     tags   \n",
       "\n",
       "  track.19  \n",
       "0    title  "
      ]
     },
     "execution_count": 107,
     "metadata": {},
     "output_type": "execute_result"
    }
   ],
   "source": [
    "tracks_file_raw.loc[[0]].iloc[:,33:53]"
   ]
  },
  {
   "cell_type": "code",
   "execution_count": 119,
   "metadata": {},
   "outputs": [
    {
     "name": "stdout",
     "output_type": "stream",
     "text": [
      "There are 0 nulls in the artists name column\n",
      "There are 0 nulls in the album name column\n",
      "There are 0 nulls in the track name column\n",
      "There are 0 nulls in the track bit rate column\n"
     ]
    }
   ],
   "source": [
    "# slicing the tracks file to find the artist name, album name, track name, and track bit rate\n",
    "artists = subset_tracks_df['artist.12']\n",
    "albums = subset_tracks_df['album.10']\n",
    "tracks = subset_tracks_df['track.19']\n",
    "tracks_br = subset_tracks_df['track'].astype(int)\n",
    "print('There are {} nulls in the artists name column'.format(artists.isnull().sum()))\n",
    "print('There are {} nulls in the album name column'.format(albums.isnull().sum()))\n",
    "print('There are {} nulls in the track name column'.format(tracks.isnull().sum()))\n",
    "print('There are {} nulls in the track bit rate column'.format(tracks_br.isnull().sum()))"
   ]
  },
  {
   "cell_type": "markdown",
   "metadata": {},
   "source": [
    "Function to clean track names into one string all lowercase, underscore for space"
   ]
  },
  {
   "cell_type": "code",
   "execution_count": 120,
   "metadata": {},
   "outputs": [],
   "source": [
    "def clean_tracks(tracks_series):\n",
    "    '''\n",
    "    Takes in a pandas series of track names and converts into clean format ex: 'example_song_fireside'\n",
    "    '''\n",
    "    pass"
   ]
  },
  {
   "cell_type": "markdown",
   "metadata": {},
   "source": [
    "Dontforget to set the smaple rate to none in order to mantain the original soundtrack sample rate"
   ]
  }
 ],
 "metadata": {
  "kernelspec": {
   "display_name": "Python 3",
   "language": "python",
   "name": "python3"
  },
  "language_info": {
   "codemirror_mode": {
    "name": "ipython",
    "version": 3
   },
   "file_extension": ".py",
   "mimetype": "text/x-python",
   "name": "python",
   "nbconvert_exporter": "python",
   "pygments_lexer": "ipython3",
   "version": "3.7.6"
  }
 },
 "nbformat": 4,
 "nbformat_minor": 4
}
