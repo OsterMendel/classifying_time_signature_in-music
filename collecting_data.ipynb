{
 "cells": [
  {
   "cell_type": "markdown",
   "metadata": {},
   "source": [
    "I need to decide which songs I want to collect"
   ]
  },
  {
   "cell_type": "code",
   "execution_count": 7,
   "metadata": {},
   "outputs": [],
   "source": [
    "\n",
    "import pandas as pd\n",
    "import numpy as np\n",
    "import matplotlib.pyplot as plt\n",
    "\n",
    "import config\n",
    "import spotipy\n",
    "from spotipy.oauth2 import SpotifyClientCredentials"
   ]
  },
  {
   "cell_type": "markdown",
   "metadata": {},
   "source": [
    "### FMA metadata needed for spotify scraping"
   ]
  },
  {
   "cell_type": "markdown",
   "metadata": {},
   "source": [
    "Get track names, artist names, album names, where set subset = 'small'"
   ]
  },
  {
   "cell_type": "code",
   "execution_count": 23,
   "metadata": {
    "scrolled": true
   },
   "outputs": [
    {
     "name": "stderr",
     "output_type": "stream",
     "text": [
      "C:\\Users\\Mendel Oster\\anaconda3\\lib\\site-packages\\IPython\\core\\interactiveshell.py:3063: DtypeWarning: Columns (0,1,5,6,8,12,18,20,21,22,24,33,34,38,39,44,47,49) have mixed types.Specify dtype option on import or set low_memory=False.\n",
      "  interactivity=interactivity, compiler=compiler, result=result)\n"
     ]
    }
   ],
   "source": [
    "tracks_file_raw = pd.read_csv('tracks.csv')"
   ]
  },
  {
   "cell_type": "code",
   "execution_count": 68,
   "metadata": {},
   "outputs": [],
   "source": [
    "# retrieve the indices for the 'small' subset\n",
    "small_indices = tracks_file_raw[tracks_file_raw['set.1'] == 'small'].index"
   ]
  },
  {
   "cell_type": "code",
   "execution_count": 72,
   "metadata": {},
   "outputs": [
    {
     "data": {
      "text/plain": [
       "(8000, 53)"
      ]
     },
     "execution_count": 72,
     "metadata": {},
     "output_type": "execute_result"
    }
   ],
   "source": [
    "subset_tracks_df = tracks_file_raw.iloc[small_indices]\n",
    "subset_tracks_df.shape"
   ]
  },
  {
   "cell_type": "code",
   "execution_count": 124,
   "metadata": {},
   "outputs": [
    {
     "data": {
      "text/html": [
       "<div>\n",
       "<style scoped>\n",
       "    .dataframe tbody tr th:only-of-type {\n",
       "        vertical-align: middle;\n",
       "    }\n",
       "\n",
       "    .dataframe tbody tr th {\n",
       "        vertical-align: top;\n",
       "    }\n",
       "\n",
       "    .dataframe thead th {\n",
       "        text-align: right;\n",
       "    }\n",
       "</style>\n",
       "<table border=\"1\" class=\"dataframe\">\n",
       "  <thead>\n",
       "    <tr style=\"text-align: right;\">\n",
       "      <th></th>\n",
       "      <th>Unnamed: 0</th>\n",
       "      <th>album</th>\n",
       "      <th>album.1</th>\n",
       "      <th>album.2</th>\n",
       "      <th>album.3</th>\n",
       "      <th>album.4</th>\n",
       "      <th>album.5</th>\n",
       "      <th>album.6</th>\n",
       "      <th>album.7</th>\n",
       "      <th>album.8</th>\n",
       "      <th>...</th>\n",
       "      <th>track.10</th>\n",
       "      <th>track.11</th>\n",
       "      <th>track.12</th>\n",
       "      <th>track.13</th>\n",
       "      <th>track.14</th>\n",
       "      <th>track.15</th>\n",
       "      <th>track.16</th>\n",
       "      <th>track.17</th>\n",
       "      <th>track.18</th>\n",
       "      <th>track.19</th>\n",
       "    </tr>\n",
       "  </thead>\n",
       "  <tbody>\n",
       "    <tr>\n",
       "      <th>0</th>\n",
       "      <td>NaN</td>\n",
       "      <td>comments</td>\n",
       "      <td>date_created</td>\n",
       "      <td>date_released</td>\n",
       "      <td>engineer</td>\n",
       "      <td>favorites</td>\n",
       "      <td>id</td>\n",
       "      <td>information</td>\n",
       "      <td>listens</td>\n",
       "      <td>producer</td>\n",
       "      <td>...</td>\n",
       "      <td>information</td>\n",
       "      <td>interest</td>\n",
       "      <td>language_code</td>\n",
       "      <td>license</td>\n",
       "      <td>listens</td>\n",
       "      <td>lyricist</td>\n",
       "      <td>number</td>\n",
       "      <td>publisher</td>\n",
       "      <td>tags</td>\n",
       "      <td>title</td>\n",
       "    </tr>\n",
       "  </tbody>\n",
       "</table>\n",
       "<p>1 rows × 53 columns</p>\n",
       "</div>"
      ],
      "text/plain": [
       "  Unnamed: 0     album       album.1        album.2   album.3    album.4  \\\n",
       "0        NaN  comments  date_created  date_released  engineer  favorites   \n",
       "\n",
       "  album.5      album.6  album.7   album.8  ...     track.10  track.11  \\\n",
       "0      id  information  listens  producer  ...  information  interest   \n",
       "\n",
       "        track.12 track.13 track.14  track.15 track.16   track.17 track.18  \\\n",
       "0  language_code  license  listens  lyricist   number  publisher     tags   \n",
       "\n",
       "  track.19  \n",
       "0    title  \n",
       "\n",
       "[1 rows x 53 columns]"
      ]
     },
     "execution_count": 124,
     "metadata": {},
     "output_type": "execute_result"
    }
   ],
   "source": [
    "# finding which columns I need\n",
    "tracks_file_raw.loc[[0]].iloc[:,:53]"
   ]
  },
  {
   "cell_type": "code",
   "execution_count": 119,
   "metadata": {},
   "outputs": [
    {
     "name": "stdout",
     "output_type": "stream",
     "text": [
      "There are 0 nulls in the artists name column\n",
      "There are 0 nulls in the album name column\n",
      "There are 0 nulls in the track name column\n",
      "There are 0 nulls in the track bit rate column\n"
     ]
    }
   ],
   "source": [
    "# slicing the tracks file to find the artist name, album name, track name, and track bit rate\n",
    "artists = subset_tracks_df['artist.12']\n",
    "albums = subset_tracks_df['album.10']\n",
    "tracks = subset_tracks_df['track.19']\n",
    "tracks_br = subset_tracks_df['track'].astype(int)\n",
    "print('There are {} nulls in the artists name column'.format(artists.isnull().sum()))\n",
    "print('There are {} nulls in the album name column'.format(albums.isnull().sum()))\n",
    "print('There are {} nulls in the track name column'.format(tracks.isnull().sum()))\n",
    "print('There are {} nulls in the track bit rate column'.format(tracks_br.isnull().sum()))"
   ]
  },
  {
   "cell_type": "markdown",
   "metadata": {},
   "source": [
    "Function to clean track names into one string all lowercase, underscore for space"
   ]
  },
  {
   "cell_type": "code",
   "execution_count": 120,
   "metadata": {},
   "outputs": [],
   "source": [
    "def clean_tracks(tracks_series):\n",
    "    '''\n",
    "    Takes in a pandas series of track names and converts into clean format ex: 'example_song_fireside'\n",
    "    '''\n",
    "    pass"
   ]
  },
  {
   "cell_type": "code",
   "execution_count": 123,
   "metadata": {
    "scrolled": true
   },
   "outputs": [
    {
     "data": {
      "text/plain": [
       "2                   Food\n",
       "4             This World\n",
       "5                Freeway\n",
       "17    Queen Of The Wires\n",
       "18                  Ohio\n",
       "Name: track.19, dtype: object"
      ]
     },
     "execution_count": 123,
     "metadata": {},
     "output_type": "execute_result"
    }
   ],
   "source": [
    "tracks.head()"
   ]
  },
  {
   "cell_type": "markdown",
   "metadata": {},
   "source": [
    "### Testing Spotipy to retrieve time signature of songs in FMA small dataset , from spotify"
   ]
  },
  {
   "cell_type": "code",
   "execution_count": 179,
   "metadata": {},
   "outputs": [],
   "source": [
    "# To match the search query results from spotify and the tracks which I have from FMA\n",
    "from fuzzywuzzy import fuzz\n",
    "from fuzzywuzzy import process"
   ]
  },
  {
   "cell_type": "code",
   "execution_count": 175,
   "metadata": {},
   "outputs": [],
   "source": [
    "spotify = spotipy.Spotify(\n",
    "    client_credentials_manager=SpotifyClientCredentials(\n",
    "        client_id=config.SPOTIPY_CLIENT_ID, client_secret= config.SPOTIPY_CLIENT_SECRET))"
   ]
  },
  {
   "cell_type": "markdown",
   "metadata": {},
   "source": [
    "Need to make the searh query to only bring up tracks with that artist name or album name"
   ]
  },
  {
   "cell_type": "code",
   "execution_count": 180,
   "metadata": {},
   "outputs": [],
   "source": [
    "test_srch_q = spotify.search(q='album:gold artist:abba', type='album')"
   ]
  },
  {
   "cell_type": "markdown",
   "metadata": {},
   "source": [
    "#### Trying regular spotify API"
   ]
  },
  {
   "cell_type": "code",
   "execution_count": 151,
   "metadata": {},
   "outputs": [],
   "source": [
    "# may need to re run this every hour - spotify shuts puts the access on a timer\n",
    "import requests\n",
    "\n",
    "auth_url = 'https://accounts.spotify.com/api/token'\n",
    "\n",
    "auth_response = requests.post(auth_url, {\n",
    "    'grant_type': 'client_credentials',\n",
    "    'client_id': config.SPOTIPY_CLIENT_ID,\n",
    "    'client_secret': config.SPOTIPY_CLIENT_SECRET\n",
    "})\n",
    "\n",
    "auth_response_data = auth_response.json()\n",
    "access_token = auth_response_data['access_token']\n",
    "spot_headers = {'Authorization': 'Bearer {token}'.format(token=access_token)}"
   ]
  },
  {
   "cell_type": "code",
   "execution_count": 171,
   "metadata": {},
   "outputs": [],
   "source": [
    "search_base_url = 'https://api.spotify.com/v1/search'\n",
    "r1 = requests.get(search_base_url, headers = spot_headers, params={'q':'album:gold artist:abba', 'type': 'album'})"
   ]
  },
  {
   "cell_type": "markdown",
   "metadata": {},
   "source": [
    "Dontforget to set the smaple rate to none in order to mantain the original soundtrack sample rate"
   ]
  }
 ],
 "metadata": {
  "kernelspec": {
   "display_name": "Python 3",
   "language": "python",
   "name": "python3"
  },
  "language_info": {
   "codemirror_mode": {
    "name": "ipython",
    "version": 3
   },
   "file_extension": ".py",
   "mimetype": "text/x-python",
   "name": "python",
   "nbconvert_exporter": "python",
   "pygments_lexer": "ipython3",
   "version": "3.7.6"
  }
 },
 "nbformat": 4,
 "nbformat_minor": 4
}
