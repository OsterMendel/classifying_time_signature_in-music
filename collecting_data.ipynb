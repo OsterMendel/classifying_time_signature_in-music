{
 "cells": [
  {
   "cell_type": "markdown",
   "metadata": {},
   "source": [
    "I need to decide which songs I want to collect"
   ]
  },
  {
   "cell_type": "code",
   "execution_count": 7,
   "metadata": {},
   "outputs": [],
   "source": [
    "\n",
    "import pandas as pd\n",
    "import numpy as np\n",
    "import matplotlib.pyplot as plt\n",
    "\n",
    "import config\n",
    "import spotipy\n",
    "from spotipy.oauth2 import SpotifyClientCredentials"
   ]
  },
  {
   "cell_type": "markdown",
   "metadata": {},
   "source": [
    "### FMA metadata needed for spotify scraping"
   ]
  },
  {
   "cell_type": "markdown",
   "metadata": {},
   "source": [
    "Get track names, artist names, album names, where set subset = 'small'"
   ]
  },
  {
   "cell_type": "code",
   "execution_count": 23,
   "metadata": {
    "scrolled": true
   },
   "outputs": [
    {
     "name": "stderr",
     "output_type": "stream",
     "text": [
      "C:\\Users\\Mendel Oster\\anaconda3\\lib\\site-packages\\IPython\\core\\interactiveshell.py:3063: DtypeWarning: Columns (0,1,5,6,8,12,18,20,21,22,24,33,34,38,39,44,47,49) have mixed types.Specify dtype option on import or set low_memory=False.\n",
      "  interactivity=interactivity, compiler=compiler, result=result)\n"
     ]
    }
   ],
   "source": [
    "tracks_file_raw = pd.read_csv('tracks.csv')"
   ]
  },
  {
   "cell_type": "code",
   "execution_count": 68,
   "metadata": {},
   "outputs": [],
   "source": [
    "# retrieve the indices for the 'small' subset\n",
    "small_indices = tracks_file_raw[tracks_file_raw['set.1'] == 'small'].index"
   ]
  },
  {
   "cell_type": "code",
   "execution_count": 72,
   "metadata": {},
   "outputs": [
    {
     "data": {
      "text/plain": [
       "(8000, 53)"
      ]
     },
     "execution_count": 72,
     "metadata": {},
     "output_type": "execute_result"
    }
   ],
   "source": [
    "subset_tracks_df = tracks_file_raw.iloc[small_indices]\n",
    "subset_tracks_df.shape"
   ]
  },
  {
   "cell_type": "code",
   "execution_count": 124,
   "metadata": {},
   "outputs": [
    {
     "data": {
      "text/html": [
       "<div>\n",
       "<style scoped>\n",
       "    .dataframe tbody tr th:only-of-type {\n",
       "        vertical-align: middle;\n",
       "    }\n",
       "\n",
       "    .dataframe tbody tr th {\n",
       "        vertical-align: top;\n",
       "    }\n",
       "\n",
       "    .dataframe thead th {\n",
       "        text-align: right;\n",
       "    }\n",
       "</style>\n",
       "<table border=\"1\" class=\"dataframe\">\n",
       "  <thead>\n",
       "    <tr style=\"text-align: right;\">\n",
       "      <th></th>\n",
       "      <th>Unnamed: 0</th>\n",
       "      <th>album</th>\n",
       "      <th>album.1</th>\n",
       "      <th>album.2</th>\n",
       "      <th>album.3</th>\n",
       "      <th>album.4</th>\n",
       "      <th>album.5</th>\n",
       "      <th>album.6</th>\n",
       "      <th>album.7</th>\n",
       "      <th>album.8</th>\n",
       "      <th>...</th>\n",
       "      <th>track.10</th>\n",
       "      <th>track.11</th>\n",
       "      <th>track.12</th>\n",
       "      <th>track.13</th>\n",
       "      <th>track.14</th>\n",
       "      <th>track.15</th>\n",
       "      <th>track.16</th>\n",
       "      <th>track.17</th>\n",
       "      <th>track.18</th>\n",
       "      <th>track.19</th>\n",
       "    </tr>\n",
       "  </thead>\n",
       "  <tbody>\n",
       "    <tr>\n",
       "      <th>0</th>\n",
       "      <td>NaN</td>\n",
       "      <td>comments</td>\n",
       "      <td>date_created</td>\n",
       "      <td>date_released</td>\n",
       "      <td>engineer</td>\n",
       "      <td>favorites</td>\n",
       "      <td>id</td>\n",
       "      <td>information</td>\n",
       "      <td>listens</td>\n",
       "      <td>producer</td>\n",
       "      <td>...</td>\n",
       "      <td>information</td>\n",
       "      <td>interest</td>\n",
       "      <td>language_code</td>\n",
       "      <td>license</td>\n",
       "      <td>listens</td>\n",
       "      <td>lyricist</td>\n",
       "      <td>number</td>\n",
       "      <td>publisher</td>\n",
       "      <td>tags</td>\n",
       "      <td>title</td>\n",
       "    </tr>\n",
       "  </tbody>\n",
       "</table>\n",
       "<p>1 rows × 53 columns</p>\n",
       "</div>"
      ],
      "text/plain": [
       "  Unnamed: 0     album       album.1        album.2   album.3    album.4  \\\n",
       "0        NaN  comments  date_created  date_released  engineer  favorites   \n",
       "\n",
       "  album.5      album.6  album.7   album.8  ...     track.10  track.11  \\\n",
       "0      id  information  listens  producer  ...  information  interest   \n",
       "\n",
       "        track.12 track.13 track.14  track.15 track.16   track.17 track.18  \\\n",
       "0  language_code  license  listens  lyricist   number  publisher     tags   \n",
       "\n",
       "  track.19  \n",
       "0    title  \n",
       "\n",
       "[1 rows x 53 columns]"
      ]
     },
     "execution_count": 124,
     "metadata": {},
     "output_type": "execute_result"
    }
   ],
   "source": [
    "# finding which columns I need\n",
    "tracks_file_raw.loc[[0]].iloc[:,:53]"
   ]
  },
  {
   "cell_type": "code",
   "execution_count": 119,
   "metadata": {},
   "outputs": [
    {
     "name": "stdout",
     "output_type": "stream",
     "text": [
      "There are 0 nulls in the artists name column\n",
      "There are 0 nulls in the album name column\n",
      "There are 0 nulls in the track name column\n",
      "There are 0 nulls in the track bit rate column\n"
     ]
    }
   ],
   "source": [
    "# slicing the tracks file to find the artist name, album name, track name, and track bit rate\n",
    "artists = subset_tracks_df['artist.12']\n",
    "albums = subset_tracks_df['album.10']\n",
    "tracks = subset_tracks_df['track.19']\n",
    "tracks_br = subset_tracks_df['track'].astype(int)\n",
    "print('There are {} nulls in the artists name column'.format(artists.isnull().sum()))\n",
    "print('There are {} nulls in the album name column'.format(albums.isnull().sum()))\n",
    "print('There are {} nulls in the track name column'.format(tracks.isnull().sum()))\n",
    "print('There are {} nulls in the track bit rate column'.format(tracks_br.isnull().sum()))"
   ]
  },
  {
   "cell_type": "markdown",
   "metadata": {},
   "source": [
    "Function to clean track names into one string all lowercase, underscore for space"
   ]
  },
  {
   "cell_type": "code",
   "execution_count": 120,
   "metadata": {},
   "outputs": [],
   "source": [
    "def clean_tracks(tracks_series):\n",
    "    '''\n",
    "    Takes in a pandas series of track names and converts into clean format ex: 'example_song_fireside'\n",
    "    '''\n",
    "    pass"
   ]
  },
  {
   "cell_type": "code",
   "execution_count": 123,
   "metadata": {
    "scrolled": true
   },
   "outputs": [
    {
     "data": {
      "text/plain": [
       "2                   Food\n",
       "4             This World\n",
       "5                Freeway\n",
       "17    Queen Of The Wires\n",
       "18                  Ohio\n",
       "Name: track.19, dtype: object"
      ]
     },
     "execution_count": 123,
     "metadata": {},
     "output_type": "execute_result"
    }
   ],
   "source": [
    "tracks.head()"
   ]
  },
  {
   "cell_type": "markdown",
   "metadata": {},
   "source": [
    "### Testing Spotipy to retrieve time signature of songs in FMA small dataset , from spotify"
   ]
  },
  {
   "cell_type": "code",
   "execution_count": 179,
   "metadata": {},
   "outputs": [],
   "source": [
    "# To match the search query results from spotify and the tracks which I have from FMA\n",
    "from fuzzywuzzy import fuzz\n",
    "from fuzzywuzzy import process"
   ]
  },
  {
   "cell_type": "code",
   "execution_count": 175,
   "metadata": {},
   "outputs": [],
   "source": [
    "spotify = spotipy.Spotify(\n",
    "    client_credentials_manager=SpotifyClientCredentials(\n",
    "        client_id=config.SPOTIPY_CLIENT_ID, client_secret= config.SPOTIPY_CLIENT_SECRET))"
   ]
  },
  {
   "cell_type": "markdown",
   "metadata": {},
   "source": [
    "Need to make the searh query to only bring up tracks with that artist name or album name"
   ]
  },
  {
   "cell_type": "code",
   "execution_count": 180,
   "metadata": {},
   "outputs": [],
   "source": [
    "test_srch_q = spotify.search(q='album:gold artist:abba', type='album')"
   ]
  },
  {
   "cell_type": "markdown",
   "metadata": {},
   "source": [
    "Function to set up search request for spotify"
   ]
  },
  {
   "cell_type": "code",
   "execution_count": 186,
   "metadata": {},
   "outputs": [],
   "source": [
    "def search_q(track, artist=None, album=None, qtype='track'):\n",
    "    '''\n",
    "    This function takes in a track name, artist name, and album name and will format a query for Spotipy.search.\n",
    "    The goal of the query is to find the qtype of the query given multiple conditions\n",
    "    for example 'album:gold artist:abba', type='album' will return albums with\n",
    "    'gold' in it as long as the artist contains 'abba'\n",
    "    qtype can be changed to anything spotify allows \n",
    "    see https://developer.spotify.com/documentation/web-api/reference/search/search/\n",
    "    '''\n",
    "    if artist and album:\n",
    "        return spotify.search(q = 'track:{t} artist:{ar} album:{al}'.format(t=track, ar= artist, al= album),type=qtype)\n",
    "    if artist and not album:\n",
    "        return spotify.search(q = 'track:{t} artist:{ar}'.format(t=track, ar= artist),type=qtype)\n",
    "    if not artist and album:\n",
    "        return spotify.search(q = 'track:{t} album:{al}'.format(t=track, al= album),type=qtype)\n",
    "    if not artist and not album:\n",
    "        return spotify.search(q = 'track:{t}'.format(t=track),type=qtype)"
   ]
  },
  {
   "cell_type": "code",
   "execution_count": 198,
   "metadata": {},
   "outputs": [],
   "source": [
    "#  testing\n",
    "s1 =   search_q(tracks.iloc[400], artists.iloc[400])"
   ]
  },
  {
   "cell_type": "code",
   "execution_count": 199,
   "metadata": {},
   "outputs": [
    {
     "data": {
      "text/plain": [
       "dict_keys(['album', 'artists', 'available_markets', 'disc_number', 'duration_ms', 'explicit', 'external_ids', 'external_urls', 'href', 'id', 'is_local', 'name', 'popularity', 'preview_url', 'track_number', 'type', 'uri'])"
      ]
     },
     "execution_count": 199,
     "metadata": {},
     "output_type": "execute_result"
    }
   ],
   "source": [
    "s1['tracks']['items'][0].keys()"
   ]
  },
  {
   "cell_type": "markdown",
   "metadata": {},
   "source": [
    "Function to test the search results using Fuzzywuzzy"
   ]
  },
  {
   "cell_type": "code",
   "execution_count": 208,
   "metadata": {},
   "outputs": [],
   "source": [
    "def match_results(query_result, track, artist=None, album=None):\n",
    "    '''\n",
    "    This function uses fuzzywuzzy to measure the similarity of the search query results and the tracks needed\n",
    "    query result should be json format direct result from the function 'search_q' above\n",
    "    returns a dictionary like so {'track': result, 'artist': result, 'album': result}\n",
    "    note: the search_q function must be used with q_type = 'track' for this function to work\n",
    "    '''\n",
    "    t = query_result['tracks']['items'][0]['name']\n",
    "    t_val = fuzz.ratio(t, track)\n",
    "    if artist:\n",
    "        ar = query_result['tracks']['items'][0]['artists'][0]['name']\n",
    "        ar_val = fuzz.ratio(ar, artist)\n",
    "    if album:\n",
    "        al = query_result['tracks']['items'][0]['album']['name']\n",
    "        al_val = fuzz.ratio(al, album)\n",
    "\n",
    "    if artist and album:\n",
    "        return {t: t_val, ar: ar_val, al: al_val}\n",
    "    if artist and not album:\n",
    "        return {t: t_val, ar: ar_val}\n",
    "    if not artist and album:\n",
    "        return {t: t_val, al: al_val}\n",
    "    if not artist and not album:\n",
    "        return {t: t_val}"
   ]
  },
  {
   "cell_type": "code",
   "execution_count": 219,
   "metadata": {},
   "outputs": [
    {
     "name": "stdout",
     "output_type": "stream",
     "text": [
      "Crooked : Speedbath (working)\n",
      "Kristin Hersh : Kristin Hersh\n",
      "Mississippi Kite : Mississippi Kite\n"
     ]
    }
   ],
   "source": [
    "print(s1['tracks']['items'][0]['album']['name'], ':',albums.iloc[400])\n",
    "print(s1['tracks']['items'][0]['artists'][0]['name'],':', artists.iloc[400])\n",
    "print(s1['tracks']['items'][0]['name'],':', tracks.iloc[400])"
   ]
  },
  {
   "cell_type": "code",
   "execution_count": 215,
   "metadata": {},
   "outputs": [
    {
     "name": "stdout",
     "output_type": "stream",
     "text": [
      "{'Mississippi Kite': 100}\n",
      "{'Mississippi Kite': 100, 'Kristin Hersh': 100}\n",
      "{'Mississippi Kite': 100, 'Crooked': 15}\n",
      "{'Mississippi Kite': 100, 'Kristin Hersh': 100, 'Crooked': 15}\n"
     ]
    }
   ],
   "source": [
    "print(match_results(s1, tracks.iloc[400]))\n",
    "print(match_results(s1, tracks.iloc[400], artist = artists.iloc[400]))\n",
    "print(match_results(s1, tracks.iloc[400], album = albums.iloc[400]))\n",
    "print(match_results(s1, tracks.iloc[400], artist = artists.iloc[400], album = albums.iloc[400]))"
   ]
  },
  {
   "cell_type": "code",
   "execution_count": 234,
   "metadata": {},
   "outputs": [],
   "source": [
    "def measure_results(match_results, thresh=66):\n",
    "    '''\n",
    "    This function takes in a dictionary of fuzz match results see function 'match_reults'\n",
    "    returns a boolean if the match is successful \n",
    "    default threshold is 66\n",
    "    '''\n",
    "    result = np.mean(list(match_results.values()))\n",
    "    if result >= thresh:\n",
    "        return True\n",
    "    else:\n",
    "        return False"
   ]
  },
  {
   "cell_type": "code",
   "execution_count": 235,
   "metadata": {},
   "outputs": [
    {
     "data": {
      "text/plain": [
       "True"
      ]
     },
     "execution_count": 235,
     "metadata": {},
     "output_type": "execute_result"
    }
   ],
   "source": [
    "measure_results(match_results(s1, tracks.iloc[400], artist = artists.iloc[400], album = albums.iloc[400]))"
   ]
  },
  {
   "cell_type": "code",
   "execution_count": null,
   "metadata": {},
   "outputs": [],
   "source": [
    "# be sure to avergae the fuzz values ad set a threshold for acceptance\n",
    "\n",
    "# for loop through tracks and scrape search queries for \n",
    "# matching tracks alone\n",
    "# track &artist & album\n",
    "# track & artist\n",
    "# track & album\n",
    "# see which one gets the best results \n",
    "\n",
    "# then retrieve the track ID and from there get anaysis data etc.."
   ]
  },
  {
   "cell_type": "code",
   "execution_count": 188,
   "metadata": {},
   "outputs": [],
   "source": [
    "# if passes the test, function to retrieve track ID then need to extract analysis > retrieve time signature yipee"
   ]
  },
  {
   "cell_type": "markdown",
   "metadata": {},
   "source": [
    "#### Trying regular spotify API"
   ]
  },
  {
   "cell_type": "code",
   "execution_count": 151,
   "metadata": {},
   "outputs": [],
   "source": [
    "# may need to re run this every hour - spotify shuts puts the access on a timer\n",
    "import requests\n",
    "\n",
    "auth_url = 'https://accounts.spotify.com/api/token'\n",
    "\n",
    "auth_response = requests.post(auth_url, {\n",
    "    'grant_type': 'client_credentials',\n",
    "    'client_id': config.SPOTIPY_CLIENT_ID,\n",
    "    'client_secret': config.SPOTIPY_CLIENT_SECRET\n",
    "})\n",
    "\n",
    "auth_response_data = auth_response.json()\n",
    "access_token = auth_response_data['access_token']\n",
    "spot_headers = {'Authorization': 'Bearer {token}'.format(token=access_token)}"
   ]
  },
  {
   "cell_type": "code",
   "execution_count": 171,
   "metadata": {},
   "outputs": [],
   "source": [
    "search_base_url = 'https://api.spotify.com/v1/search'\n",
    "r1 = requests.get(search_base_url, headers = spot_headers, params={'q':'album:gold artist:abba', 'type': 'album'})"
   ]
  },
  {
   "cell_type": "markdown",
   "metadata": {},
   "source": [
    "Dontforget to set the smaple rate to none in order to mantain the original soundtrack sample rate"
   ]
  }
 ],
 "metadata": {
  "kernelspec": {
   "display_name": "Python 3",
   "language": "python",
   "name": "python3"
  },
  "language_info": {
   "codemirror_mode": {
    "name": "ipython",
    "version": 3
   },
   "file_extension": ".py",
   "mimetype": "text/x-python",
   "name": "python",
   "nbconvert_exporter": "python",
   "pygments_lexer": "ipython3",
   "version": "3.7.6"
  }
 },
 "nbformat": 4,
 "nbformat_minor": 4
}
