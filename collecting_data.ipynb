{
 "cells": [
  {
   "cell_type": "markdown",
   "metadata": {},
   "source": [
    "I need to decide which songs I want to collect"
   ]
  },
  {
   "cell_type": "code",
   "execution_count": 7,
   "metadata": {},
   "outputs": [],
   "source": [
    "\n",
    "import pandas as pd\n",
    "import numpy as np\n",
    "import matplotlib.pyplot as plt\n",
    "\n",
    "import config\n",
    "import spotipy\n",
    "from spotipy.oauth2 import SpotifyClientCredentials"
   ]
  },
  {
   "cell_type": "markdown",
   "metadata": {},
   "source": [
    "### FMA metadata needed for spotify scraping"
   ]
  },
  {
   "cell_type": "markdown",
   "metadata": {},
   "source": [
    "Get track names, artist names, album names, where set subset = 'small'"
   ]
  },
  {
   "cell_type": "code",
   "execution_count": 23,
   "metadata": {
    "scrolled": true
   },
   "outputs": [
    {
     "name": "stderr",
     "output_type": "stream",
     "text": [
      "C:\\Users\\Mendel Oster\\anaconda3\\lib\\site-packages\\IPython\\core\\interactiveshell.py:3063: DtypeWarning: Columns (0,1,5,6,8,12,18,20,21,22,24,33,34,38,39,44,47,49) have mixed types.Specify dtype option on import or set low_memory=False.\n",
      "  interactivity=interactivity, compiler=compiler, result=result)\n"
     ]
    }
   ],
   "source": [
    "tracks_file_raw = pd.read_csv('tracks.csv')"
   ]
  },
  {
   "cell_type": "code",
   "execution_count": 68,
   "metadata": {},
   "outputs": [],
   "source": [
    "# retrieve the indices for the 'small' subset\n",
    "small_indices = tracks_file_raw[tracks_file_raw['set.1'] == 'small'].index"
   ]
  },
  {
   "cell_type": "code",
   "execution_count": 72,
   "metadata": {},
   "outputs": [
    {
     "data": {
      "text/plain": [
       "(8000, 53)"
      ]
     },
     "execution_count": 72,
     "metadata": {},
     "output_type": "execute_result"
    }
   ],
   "source": [
    "subset_tracks_df = tracks_file_raw.iloc[small_indices]\n",
    "subset_tracks_df.shape"
   ]
  },
  {
   "cell_type": "code",
   "execution_count": 124,
   "metadata": {},
   "outputs": [
    {
     "data": {
      "text/html": [
       "<div>\n",
       "<style scoped>\n",
       "    .dataframe tbody tr th:only-of-type {\n",
       "        vertical-align: middle;\n",
       "    }\n",
       "\n",
       "    .dataframe tbody tr th {\n",
       "        vertical-align: top;\n",
       "    }\n",
       "\n",
       "    .dataframe thead th {\n",
       "        text-align: right;\n",
       "    }\n",
       "</style>\n",
       "<table border=\"1\" class=\"dataframe\">\n",
       "  <thead>\n",
       "    <tr style=\"text-align: right;\">\n",
       "      <th></th>\n",
       "      <th>Unnamed: 0</th>\n",
       "      <th>album</th>\n",
       "      <th>album.1</th>\n",
       "      <th>album.2</th>\n",
       "      <th>album.3</th>\n",
       "      <th>album.4</th>\n",
       "      <th>album.5</th>\n",
       "      <th>album.6</th>\n",
       "      <th>album.7</th>\n",
       "      <th>album.8</th>\n",
       "      <th>...</th>\n",
       "      <th>track.10</th>\n",
       "      <th>track.11</th>\n",
       "      <th>track.12</th>\n",
       "      <th>track.13</th>\n",
       "      <th>track.14</th>\n",
       "      <th>track.15</th>\n",
       "      <th>track.16</th>\n",
       "      <th>track.17</th>\n",
       "      <th>track.18</th>\n",
       "      <th>track.19</th>\n",
       "    </tr>\n",
       "  </thead>\n",
       "  <tbody>\n",
       "    <tr>\n",
       "      <th>0</th>\n",
       "      <td>NaN</td>\n",
       "      <td>comments</td>\n",
       "      <td>date_created</td>\n",
       "      <td>date_released</td>\n",
       "      <td>engineer</td>\n",
       "      <td>favorites</td>\n",
       "      <td>id</td>\n",
       "      <td>information</td>\n",
       "      <td>listens</td>\n",
       "      <td>producer</td>\n",
       "      <td>...</td>\n",
       "      <td>information</td>\n",
       "      <td>interest</td>\n",
       "      <td>language_code</td>\n",
       "      <td>license</td>\n",
       "      <td>listens</td>\n",
       "      <td>lyricist</td>\n",
       "      <td>number</td>\n",
       "      <td>publisher</td>\n",
       "      <td>tags</td>\n",
       "      <td>title</td>\n",
       "    </tr>\n",
       "  </tbody>\n",
       "</table>\n",
       "<p>1 rows × 53 columns</p>\n",
       "</div>"
      ],
      "text/plain": [
       "  Unnamed: 0     album       album.1        album.2   album.3    album.4  \\\n",
       "0        NaN  comments  date_created  date_released  engineer  favorites   \n",
       "\n",
       "  album.5      album.6  album.7   album.8  ...     track.10  track.11  \\\n",
       "0      id  information  listens  producer  ...  information  interest   \n",
       "\n",
       "        track.12 track.13 track.14  track.15 track.16   track.17 track.18  \\\n",
       "0  language_code  license  listens  lyricist   number  publisher     tags   \n",
       "\n",
       "  track.19  \n",
       "0    title  \n",
       "\n",
       "[1 rows x 53 columns]"
      ]
     },
     "execution_count": 124,
     "metadata": {},
     "output_type": "execute_result"
    }
   ],
   "source": [
    "# finding which columns I need\n",
    "tracks_file_raw.loc[[0]].iloc[:,:53]"
   ]
  },
  {
   "cell_type": "code",
   "execution_count": 119,
   "metadata": {},
   "outputs": [
    {
     "name": "stdout",
     "output_type": "stream",
     "text": [
      "There are 0 nulls in the artists name column\n",
      "There are 0 nulls in the album name column\n",
      "There are 0 nulls in the track name column\n",
      "There are 0 nulls in the track bit rate column\n"
     ]
    }
   ],
   "source": [
    "# slicing the tracks file to find the artist name, album name, track name, and track bit rate\n",
    "artists = subset_tracks_df['artist.12']\n",
    "albums = subset_tracks_df['album.10']\n",
    "tracks = subset_tracks_df['track.19']\n",
    "tracks_br = subset_tracks_df['track'].astype(int)\n",
    "print('There are {} nulls in the artists name column'.format(artists.isnull().sum()))\n",
    "print('There are {} nulls in the album name column'.format(albums.isnull().sum()))\n",
    "print('There are {} nulls in the track name column'.format(tracks.isnull().sum()))\n",
    "print('There are {} nulls in the track bit rate column'.format(tracks_br.isnull().sum()))"
   ]
  },
  {
   "cell_type": "markdown",
   "metadata": {},
   "source": [
    "Function to clean track names into one string all lowercase, underscore for space"
   ]
  },
  {
   "cell_type": "code",
   "execution_count": 120,
   "metadata": {},
   "outputs": [],
   "source": [
    "def clean_tracks(tracks_series):\n",
    "    '''\n",
    "    Takes in a pandas series of track names and converts into clean format ex: 'example_song_fireside'\n",
    "    '''\n",
    "    pass"
   ]
  },
  {
   "cell_type": "code",
   "execution_count": 123,
   "metadata": {
    "scrolled": true
   },
   "outputs": [
    {
     "data": {
      "text/plain": [
       "2                   Food\n",
       "4             This World\n",
       "5                Freeway\n",
       "17    Queen Of The Wires\n",
       "18                  Ohio\n",
       "Name: track.19, dtype: object"
      ]
     },
     "execution_count": 123,
     "metadata": {},
     "output_type": "execute_result"
    }
   ],
   "source": [
    "tracks.head()"
   ]
  },
  {
   "cell_type": "markdown",
   "metadata": {},
   "source": [
    "### Testing Spotipy to retrieve time signature of songs in FMA small dataset , from spotify"
   ]
  },
  {
   "cell_type": "code",
   "execution_count": 179,
   "metadata": {},
   "outputs": [],
   "source": [
    "# To match the search query results from spotify and the tracks which I have from FMA\n",
    "from fuzzywuzzy import fuzz\n",
    "from fuzzywuzzy import process"
   ]
  },
  {
   "cell_type": "code",
   "execution_count": 175,
   "metadata": {},
   "outputs": [],
   "source": [
    "spotify = spotipy.Spotify(\n",
    "    client_credentials_manager=SpotifyClientCredentials(\n",
    "        client_id=config.SPOTIPY_CLIENT_ID, client_secret= config.SPOTIPY_CLIENT_SECRET))"
   ]
  },
  {
   "cell_type": "markdown",
   "metadata": {},
   "source": [
    "Need to make the searh query to only bring up tracks with that artist name or album name"
   ]
  },
  {
   "cell_type": "code",
   "execution_count": 180,
   "metadata": {},
   "outputs": [],
   "source": [
    "test_srch_q = spotify.search(q='album:gold artist:abba', type='album')"
   ]
  },
  {
   "cell_type": "markdown",
   "metadata": {},
   "source": [
    "Function to set up search request for spotify"
   ]
  },
  {
   "cell_type": "code",
   "execution_count": 186,
   "metadata": {},
   "outputs": [],
   "source": [
    "def search_q(track, artist=None, album=None, qtype='track'):\n",
    "    '''\n",
    "    This function takes in a track name, artist name, and album name and will format a query for Spotipy.search.\n",
    "    The goal of the query is to find the qtype of the query given multiple conditions\n",
    "    for example 'album:gold artist:abba', type='album' will return albums with\n",
    "    'gold' in it as long as the artist contains 'abba'\n",
    "    qtype can be changed to anything spotify allows \n",
    "    see https://developer.spotify.com/documentation/web-api/reference/search/search/\n",
    "    '''\n",
    "    if artist and album:\n",
    "        return spotify.search(q = 'track:{t} artist:{ar} album:{al}'.format(t=track, ar= artist, al= album),type=qtype)\n",
    "    if artist and not album:\n",
    "        return spotify.search(q = 'track:{t} artist:{ar}'.format(t=track, ar= artist),type=qtype)\n",
    "    if not artist and album:\n",
    "        return spotify.search(q = 'track:{t} album:{al}'.format(t=track, al= album),type=qtype)\n",
    "    if not artist and not album:\n",
    "        return spotify.search(q = 'track:{t}'.format(t=track),type=qtype)"
   ]
  },
  {
   "cell_type": "code",
   "execution_count": 295,
   "metadata": {},
   "outputs": [],
   "source": [
    "#  testing\n",
    "s1 =   search_q(tracks.iloc[400], artists.iloc[400])"
   ]
  },
  {
   "cell_type": "code",
   "execution_count": 254,
   "metadata": {},
   "outputs": [],
   "source": [
    "s2 = search_q(tracks.iloc[0],album=albums.iloc[0])"
   ]
  },
  {
   "cell_type": "code",
   "execution_count": 258,
   "metadata": {
    "scrolled": true
   },
   "outputs": [
    {
     "data": {
      "text/plain": [
       "{'tracks': {'href': 'https://api.spotify.com/v1/search?query=track%3AFood+album%3AAWOL+-+A+Way+Of+Life&type=track&offset=0&limit=10',\n",
       "  'items': [],\n",
       "  'limit': 10,\n",
       "  'next': None,\n",
       "  'offset': 0,\n",
       "  'previous': None,\n",
       "  'total': 0}}"
      ]
     },
     "execution_count": 258,
     "metadata": {},
     "output_type": "execute_result"
    }
   ],
   "source": [
    "s2"
   ]
  },
  {
   "cell_type": "code",
   "execution_count": 199,
   "metadata": {},
   "outputs": [
    {
     "data": {
      "text/plain": [
       "dict_keys(['album', 'artists', 'available_markets', 'disc_number', 'duration_ms', 'explicit', 'external_ids', 'external_urls', 'href', 'id', 'is_local', 'name', 'popularity', 'preview_url', 'track_number', 'type', 'uri'])"
      ]
     },
     "execution_count": 199,
     "metadata": {},
     "output_type": "execute_result"
    }
   ],
   "source": [
    "s1['tracks']['items'][0].keys()"
   ]
  },
  {
   "cell_type": "markdown",
   "metadata": {},
   "source": [
    "Function to test the search results using Fuzzywuzzy"
   ]
  },
  {
   "cell_type": "code",
   "execution_count": 208,
   "metadata": {},
   "outputs": [],
   "source": [
    "def match_results(query_result, track, artist=None, album=None):\n",
    "    '''\n",
    "    This function uses fuzzywuzzy to measure the similarity of the search query results and the tracks needed\n",
    "    query result should be json format direct result from the function 'search_q' above\n",
    "    returns a dictionary like so {'track': result, 'artist': result, 'album': result}\n",
    "    note: the search_q function must be used with q_type = 'track' for this function to work\n",
    "    '''\n",
    "    t = query_result['tracks']['items'][0]['name']\n",
    "    t_val = fuzz.ratio(t, track)\n",
    "    if artist:\n",
    "        ar = query_result['tracks']['items'][0]['artists'][0]['name']\n",
    "        ar_val = fuzz.ratio(ar, artist)\n",
    "    if album:\n",
    "        al = query_result['tracks']['items'][0]['album']['name']\n",
    "        al_val = fuzz.ratio(al, album)\n",
    "\n",
    "    if artist and album:\n",
    "        return {t: t_val, ar: ar_val, al: al_val}\n",
    "    if artist and not album:\n",
    "        return {t: t_val, ar: ar_val}\n",
    "    if not artist and album:\n",
    "        return {t: t_val, al: al_val}\n",
    "    if not artist and not album:\n",
    "        return {t: t_val}"
   ]
  },
  {
   "cell_type": "code",
   "execution_count": 219,
   "metadata": {},
   "outputs": [
    {
     "name": "stdout",
     "output_type": "stream",
     "text": [
      "Crooked : Speedbath (working)\n",
      "Kristin Hersh : Kristin Hersh\n",
      "Mississippi Kite : Mississippi Kite\n"
     ]
    }
   ],
   "source": [
    "print(s1['tracks']['items'][0]['album']['name'], ':',albums.iloc[400])\n",
    "print(s1['tracks']['items'][0]['artists'][0]['name'],':', artists.iloc[400])\n",
    "print(s1['tracks']['items'][0]['name'],':', tracks.iloc[400])"
   ]
  },
  {
   "cell_type": "code",
   "execution_count": 215,
   "metadata": {},
   "outputs": [
    {
     "name": "stdout",
     "output_type": "stream",
     "text": [
      "{'Mississippi Kite': 100}\n",
      "{'Mississippi Kite': 100, 'Kristin Hersh': 100}\n",
      "{'Mississippi Kite': 100, 'Crooked': 15}\n",
      "{'Mississippi Kite': 100, 'Kristin Hersh': 100, 'Crooked': 15}\n"
     ]
    }
   ],
   "source": [
    "print(match_results(s1, tracks.iloc[400]))\n",
    "print(match_results(s1, tracks.iloc[400], artist = artists.iloc[400]))\n",
    "print(match_results(s1, tracks.iloc[400], album = albums.iloc[400]))\n",
    "print(match_results(s1, tracks.iloc[400], artist = artists.iloc[400], album = albums.iloc[400]))"
   ]
  },
  {
   "cell_type": "code",
   "execution_count": 234,
   "metadata": {},
   "outputs": [],
   "source": [
    "def measure_results(match_results, thresh=66):\n",
    "    '''\n",
    "    This function takes in a dictionary of fuzz match results see function 'match_reults'\n",
    "    returns a boolean if the match is successful \n",
    "    default threshold is 66\n",
    "    '''\n",
    "    result = np.mean(list(match_results.values()))\n",
    "    if result >= thresh:\n",
    "        return True\n",
    "    else:\n",
    "        return False"
   ]
  },
  {
   "cell_type": "code",
   "execution_count": 235,
   "metadata": {},
   "outputs": [
    {
     "data": {
      "text/plain": [
       "True"
      ]
     },
     "execution_count": 235,
     "metadata": {},
     "output_type": "execute_result"
    }
   ],
   "source": [
    "measure_results(match_results(s1, tracks.iloc[400], artist = artists.iloc[400], album = albums.iloc[400]))"
   ]
  },
  {
   "cell_type": "markdown",
   "metadata": {},
   "source": [
    "### Loop through tracks to find which search method returns the most matches"
   ]
  },
  {
   "cell_type": "code",
   "execution_count": 296,
   "metadata": {},
   "outputs": [],
   "source": [
    "# stores (track index, returned query json) - should be len(8000)\n",
    "store_S = []\n",
    "# stores track index & match result for queries with a result like so \n",
    "# (400, {'Mississippi Kite': 100, 'Kristin Hersh': 100, 'Crooked': 15})\n",
    "store_M = []\n",
    "# stores track index & boolean like so (400,True)\n",
    "store_B = []\n",
    "# stores tuple of track index and its spotify ID - only for those who passed the test in B\n",
    "track_spot_id = []\n",
    "for i, song in tracks.items():\n",
    "    \n",
    "#     set variables to all have same index\n",
    "    track = tracks.loc[i]\n",
    "    artist = artists.loc[i]\n",
    "    album = albums.loc[i]\n",
    "       \n",
    "#     Spotipy makes a search query in spotify, returns json\n",
    "    S = search_q(track=track, artist=artist, album=album)\n",
    "    store_S.append((i, S))\n",
    "#     if search query returns empty list, move along\n",
    "    if not S['tracks']['items']:\n",
    "        continue\n",
    "        \n",
    "    M = match_results(S,track=track,artist=artist,album=album)\n",
    "    B = measure_results(M)\n",
    "    \n",
    "    store_M.append((i, M))\n",
    "    store_B.append((i, B))\n",
    "    \n",
    "#     if the search results don't pass the test for accuracy, move along\n",
    "    if not B:\n",
    "        continue\n",
    "    \n",
    "#     retrieve spotify id for song\n",
    "    spot_ID = S['tracks']['items'][0]['id']\n",
    "    track_spot_id.append((i, spot_ID))"
   ]
  },
  {
   "cell_type": "markdown",
   "metadata": {},
   "source": [
    "once I have a set of jsons to work with I will retrieve the track ID like so\n",
    "search_q['tracks]['items'][0]['id']\n",
    "which wil then be put into spotiy.audio_analysis(track_id)\n",
    "\n"
   ]
  },
  {
   "cell_type": "code",
   "execution_count": 243,
   "metadata": {
    "scrolled": true
   },
   "outputs": [],
   "source": [
    "s1_analysis = spotify.audio_analysis(s1['tracks']['items'][0]['id'])"
   ]
  },
  {
   "cell_type": "code",
   "execution_count": 247,
   "metadata": {},
   "outputs": [
    {
     "data": {
      "text/plain": [
       "dict_keys(['meta', 'track', 'bars', 'beats', 'sections', 'segments', 'tatums'])"
      ]
     },
     "execution_count": 247,
     "metadata": {},
     "output_type": "execute_result"
    }
   ],
   "source": [
    "s1_analysis.keys()"
   ]
  },
  {
   "cell_type": "code",
   "execution_count": 250,
   "metadata": {},
   "outputs": [
    {
     "data": {
      "text/plain": [
       "4"
      ]
     },
     "execution_count": 250,
     "metadata": {},
     "output_type": "execute_result"
    }
   ],
   "source": [
    "s1_analysis['track']['time_signature']"
   ]
  },
  {
   "cell_type": "code",
   "execution_count": 252,
   "metadata": {},
   "outputs": [
    {
     "data": {
      "text/plain": [
       "0.92"
      ]
     },
     "execution_count": 252,
     "metadata": {},
     "output_type": "execute_result"
    }
   ],
   "source": [
    "s1_analysis['track']['time_signature_confidence']"
   ]
  },
  {
   "cell_type": "code",
   "execution_count": 246,
   "metadata": {
    "collapsed": true
   },
   "outputs": [
    {
     "data": {
      "text/plain": [
       "[{'start': 0.1475, 'duration': 0.46129, 'confidence': 0.98},\n",
       " {'start': 0.60879, 'duration': 0.4603, 'confidence': 0.685},\n",
       " {'start': 1.0691, 'duration': 0.46558, 'confidence': 0.218},\n",
       " {'start': 1.53468, 'duration': 0.47882, 'confidence': 0.262},\n",
       " {'start': 2.0135, 'duration': 0.47536, 'confidence': 0.318},\n",
       " {'start': 2.48886, 'duration': 0.47364, 'confidence': 0.282},\n",
       " {'start': 2.9625, 'duration': 0.47439, 'confidence': 0.338},\n",
       " {'start': 3.43688, 'duration': 0.47617, 'confidence': 0.235},\n",
       " {'start': 3.91305, 'duration': 0.4736, 'confidence': 0.106},\n",
       " {'start': 4.38665, 'duration': 0.46682, 'confidence': 0.327},\n",
       " {'start': 4.85347, 'duration': 0.46702, 'confidence': 0.247},\n",
       " {'start': 5.32049, 'duration': 0.47059, 'confidence': 0.147},\n",
       " {'start': 5.79107, 'duration': 0.47594, 'confidence': 0.21},\n",
       " {'start': 6.26701, 'duration': 0.48064, 'confidence': 0.24},\n",
       " {'start': 6.74765, 'duration': 0.48126, 'confidence': 0.233},\n",
       " {'start': 7.22891, 'duration': 0.4838, 'confidence': 0.196},\n",
       " {'start': 7.71271, 'duration': 0.48628, 'confidence': 0.28},\n",
       " {'start': 8.199, 'duration': 0.48868, 'confidence': 0.226},\n",
       " {'start': 8.68768, 'duration': 0.49027, 'confidence': 0.249},\n",
       " {'start': 9.17795, 'duration': 0.48599, 'confidence': 0.34},\n",
       " {'start': 9.66394, 'duration': 0.48317, 'confidence': 0.184},\n",
       " {'start': 10.14711, 'duration': 0.48787, 'confidence': 0.271},\n",
       " {'start': 10.63497, 'duration': 0.49407, 'confidence': 0.275},\n",
       " {'start': 11.12904, 'duration': 0.50033, 'confidence': 0.371},\n",
       " {'start': 11.62938, 'duration': 0.50056, 'confidence': 0.397},\n",
       " {'start': 12.12994, 'duration': 0.50525, 'confidence': 0.186},\n",
       " {'start': 12.63519, 'duration': 0.51371, 'confidence': 0.346},\n",
       " {'start': 13.1489, 'duration': 0.51518, 'confidence': 0.333},\n",
       " {'start': 13.66409, 'duration': 0.51163, 'confidence': 0.131},\n",
       " {'start': 14.17572, 'duration': 0.50771, 'confidence': 0.223},\n",
       " {'start': 14.68342, 'duration': 0.5057, 'confidence': 0.447},\n",
       " {'start': 15.18912, 'duration': 0.50193, 'confidence': 0.395},\n",
       " {'start': 15.69105, 'duration': 0.49329, 'confidence': 0.421},\n",
       " {'start': 16.18434, 'duration': 0.48993, 'confidence': 0.267},\n",
       " {'start': 16.67427, 'duration': 0.496, 'confidence': 0.229},\n",
       " {'start': 17.17026, 'duration': 0.49396, 'confidence': 0.195},\n",
       " {'start': 17.66423, 'duration': 0.49194, 'confidence': 0.152},\n",
       " {'start': 18.15617, 'duration': 0.48931, 'confidence': 0.138},\n",
       " {'start': 18.64548, 'duration': 0.48786, 'confidence': 0.14},\n",
       " {'start': 19.13334, 'duration': 0.49185, 'confidence': 0.181},\n",
       " {'start': 19.62519, 'duration': 0.49615, 'confidence': 0.56},\n",
       " {'start': 20.12135, 'duration': 0.49059, 'confidence': 0.52},\n",
       " {'start': 20.61194, 'duration': 0.49106, 'confidence': 0.452},\n",
       " {'start': 21.10299, 'duration': 0.49491, 'confidence': 0.31},\n",
       " {'start': 21.5979, 'duration': 0.49877, 'confidence': 0.281},\n",
       " {'start': 22.09667, 'duration': 0.50204, 'confidence': 0.244},\n",
       " {'start': 22.59871, 'duration': 0.49441, 'confidence': 0.284},\n",
       " {'start': 23.09312, 'duration': 0.48723, 'confidence': 0.222},\n",
       " {'start': 23.58035, 'duration': 0.48682, 'confidence': 0.318},\n",
       " {'start': 24.06717, 'duration': 0.48346, 'confidence': 0.287},\n",
       " {'start': 24.55063, 'duration': 0.47907, 'confidence': 0.316},\n",
       " {'start': 25.0297, 'duration': 0.48117, 'confidence': 0.259},\n",
       " {'start': 25.51086, 'duration': 0.48002, 'confidence': 0.207},\n",
       " {'start': 25.99088, 'duration': 0.48476, 'confidence': 0.275},\n",
       " {'start': 26.47565, 'duration': 0.48716, 'confidence': 0.339},\n",
       " {'start': 26.96281, 'duration': 0.49087, 'confidence': 0.265},\n",
       " {'start': 27.45368, 'duration': 0.50064, 'confidence': 0.256},\n",
       " {'start': 27.95431, 'duration': 0.50245, 'confidence': 0.234},\n",
       " {'start': 28.45676, 'duration': 0.49395, 'confidence': 0.111},\n",
       " {'start': 28.95071, 'duration': 0.48972, 'confidence': 0.351},\n",
       " {'start': 29.44044, 'duration': 0.49331, 'confidence': 0.344},\n",
       " {'start': 29.93375, 'duration': 0.49572, 'confidence': 0.342},\n",
       " {'start': 30.42947, 'duration': 0.4924, 'confidence': 0.209},\n",
       " {'start': 30.92187, 'duration': 0.48879, 'confidence': 0.294},\n",
       " {'start': 31.41066, 'duration': 0.49329, 'confidence': 0.281},\n",
       " {'start': 31.90395, 'duration': 0.5012, 'confidence': 0.178},\n",
       " {'start': 32.40515, 'duration': 0.50218, 'confidence': 0.241},\n",
       " {'start': 32.90733, 'duration': 0.49461, 'confidence': 0.195},\n",
       " {'start': 33.40194, 'duration': 0.49236, 'confidence': 0.177},\n",
       " {'start': 33.89429, 'duration': 0.49718, 'confidence': 0.452},\n",
       " {'start': 34.39148, 'duration': 0.50366, 'confidence': 0.461},\n",
       " {'start': 34.89513, 'duration': 0.50628, 'confidence': 0.478},\n",
       " {'start': 35.40142, 'duration': 0.50507, 'confidence': 0.302},\n",
       " {'start': 35.90648, 'duration': 0.50767, 'confidence': 0.192},\n",
       " {'start': 36.41415, 'duration': 0.5116, 'confidence': 0.141},\n",
       " {'start': 36.92575, 'duration': 0.51094, 'confidence': 0.226},\n",
       " {'start': 37.43668, 'duration': 0.50895, 'confidence': 0.213},\n",
       " {'start': 37.94563, 'duration': 0.50044, 'confidence': 0.506},\n",
       " {'start': 38.44607, 'duration': 0.49444, 'confidence': 0.404},\n",
       " {'start': 38.94051, 'duration': 0.49523, 'confidence': 0.435},\n",
       " {'start': 39.43575, 'duration': 0.49943, 'confidence': 0.269},\n",
       " {'start': 39.93518, 'duration': 0.49845, 'confidence': 0.306},\n",
       " {'start': 40.43363, 'duration': 0.4954, 'confidence': 0.161},\n",
       " {'start': 40.92902, 'duration': 0.49322, 'confidence': 0.122},\n",
       " {'start': 41.42224, 'duration': 0.49623, 'confidence': 0.121},\n",
       " {'start': 41.91848, 'duration': 0.49317, 'confidence': 0.199},\n",
       " {'start': 42.41165, 'duration': 0.49293, 'confidence': 0.256},\n",
       " {'start': 42.90457, 'duration': 0.49578, 'confidence': 0.326},\n",
       " {'start': 43.40035, 'duration': 0.50175, 'confidence': 0.311},\n",
       " {'start': 43.90211, 'duration': 0.50563, 'confidence': 0.274},\n",
       " {'start': 44.40774, 'duration': 0.51293, 'confidence': 0.058},\n",
       " {'start': 44.92067, 'duration': 0.51549, 'confidence': 0.093},\n",
       " {'start': 45.43617, 'duration': 0.51627, 'confidence': 0.11},\n",
       " {'start': 45.95244, 'duration': 0.51084, 'confidence': 0.092},\n",
       " {'start': 46.46328, 'duration': 0.50511, 'confidence': 0.149},\n",
       " {'start': 46.96839, 'duration': 0.50574, 'confidence': 0.39},\n",
       " {'start': 47.47412, 'duration': 0.50431, 'confidence': 0.437},\n",
       " {'start': 47.97843, 'duration': 0.49487, 'confidence': 0.305},\n",
       " {'start': 48.4733, 'duration': 0.48957, 'confidence': 0.146},\n",
       " {'start': 48.96287, 'duration': 0.49242, 'confidence': 0.121},\n",
       " {'start': 49.45529, 'duration': 0.49661, 'confidence': 0.255},\n",
       " {'start': 49.9519, 'duration': 0.49635, 'confidence': 0.309},\n",
       " {'start': 50.44826, 'duration': 0.4918, 'confidence': 0.21},\n",
       " {'start': 50.94005, 'duration': 0.4933, 'confidence': 0.361},\n",
       " {'start': 51.43335, 'duration': 0.49866, 'confidence': 0.256},\n",
       " {'start': 51.93202, 'duration': 0.50091, 'confidence': 0.424},\n",
       " {'start': 52.43293, 'duration': 0.50182, 'confidence': 0.422},\n",
       " {'start': 52.93475, 'duration': 0.50124, 'confidence': 0.328},\n",
       " {'start': 53.43599, 'duration': 0.50304, 'confidence': 0.234},\n",
       " {'start': 53.93903, 'duration': 0.49934, 'confidence': 0.328},\n",
       " {'start': 54.43837, 'duration': 0.49727, 'confidence': 0.275},\n",
       " {'start': 54.93564, 'duration': 0.49283, 'confidence': 0.236},\n",
       " {'start': 55.42847, 'duration': 0.48928, 'confidence': 0.127},\n",
       " {'start': 55.91775, 'duration': 0.48646, 'confidence': 0.211},\n",
       " {'start': 56.40421, 'duration': 0.48809, 'confidence': 0.364},\n",
       " {'start': 56.8923, 'duration': 0.49239, 'confidence': 0.298},\n",
       " {'start': 57.38469, 'duration': 0.50187, 'confidence': 0.206},\n",
       " {'start': 57.88656, 'duration': 0.50572, 'confidence': 0.172},\n",
       " {'start': 58.39228, 'duration': 0.50749, 'confidence': 0.148},\n",
       " {'start': 58.89978, 'duration': 0.50896, 'confidence': 0.233},\n",
       " {'start': 59.40874, 'duration': 0.5116, 'confidence': 0.269},\n",
       " {'start': 59.92034, 'duration': 0.50964, 'confidence': 0.189},\n",
       " {'start': 60.42997, 'duration': 0.50425, 'confidence': 0.277},\n",
       " {'start': 60.93423, 'duration': 0.49827, 'confidence': 0.269},\n",
       " {'start': 61.4325, 'duration': 0.49954, 'confidence': 0.2},\n",
       " {'start': 61.93203, 'duration': 0.50496, 'confidence': 0.113},\n",
       " {'start': 62.43699, 'duration': 0.50401, 'confidence': 0.12},\n",
       " {'start': 62.941, 'duration': 0.49921, 'confidence': 0.062},\n",
       " {'start': 63.44021, 'duration': 0.49353, 'confidence': 0.062},\n",
       " {'start': 63.93373, 'duration': 0.48741, 'confidence': 0.086},\n",
       " {'start': 64.42114, 'duration': 0.48958, 'confidence': 0.112},\n",
       " {'start': 64.91072, 'duration': 0.49029, 'confidence': 0.154},\n",
       " {'start': 65.401, 'duration': 0.48596, 'confidence': 0.196},\n",
       " {'start': 65.88696, 'duration': 0.48387, 'confidence': 0.187},\n",
       " {'start': 66.37083, 'duration': 0.4834, 'confidence': 0.168},\n",
       " {'start': 66.85423, 'duration': 0.4899, 'confidence': 0.207},\n",
       " {'start': 67.34413, 'duration': 0.49286, 'confidence': 0.155},\n",
       " {'start': 67.83699, 'duration': 0.48781, 'confidence': 0.111},\n",
       " {'start': 68.32481, 'duration': 0.48677, 'confidence': 0.131},\n",
       " {'start': 68.81158, 'duration': 0.4878, 'confidence': 0.075},\n",
       " {'start': 69.29937, 'duration': 0.49386, 'confidence': 0.156},\n",
       " {'start': 69.79323, 'duration': 0.49489, 'confidence': 0.132},\n",
       " {'start': 70.28812, 'duration': 0.48674, 'confidence': 0.082},\n",
       " {'start': 70.77486, 'duration': 0.48569, 'confidence': 0.078},\n",
       " {'start': 71.26055, 'duration': 0.48997, 'confidence': 0.053},\n",
       " {'start': 71.75052, 'duration': 0.48996, 'confidence': 0.134},\n",
       " {'start': 72.24048, 'duration': 0.48239, 'confidence': 0.144},\n",
       " {'start': 72.72287, 'duration': 0.4763, 'confidence': 0.095},\n",
       " {'start': 73.19917, 'duration': 0.47864, 'confidence': 0.169},\n",
       " {'start': 73.6778, 'duration': 0.48171, 'confidence': 0.166},\n",
       " {'start': 74.15952, 'duration': 0.48435, 'confidence': 0.134},\n",
       " {'start': 74.64386, 'duration': 0.48328, 'confidence': 0.252},\n",
       " {'start': 75.12715, 'duration': 0.4837, 'confidence': 0.243},\n",
       " {'start': 75.61084, 'duration': 0.49092, 'confidence': 0.21},\n",
       " {'start': 76.10177, 'duration': 0.49549, 'confidence': 0.16},\n",
       " {'start': 76.59726, 'duration': 0.49755, 'confidence': 0.147},\n",
       " {'start': 77.09481, 'duration': 0.50286, 'confidence': 0.099},\n",
       " {'start': 77.59767, 'duration': 0.50935, 'confidence': 0.162},\n",
       " {'start': 78.10702, 'duration': 0.5185, 'confidence': 0.114},\n",
       " {'start': 78.62551, 'duration': 0.52422, 'confidence': 0.103},\n",
       " {'start': 79.14973, 'duration': 0.52267, 'confidence': 0.044},\n",
       " {'start': 79.6724, 'duration': 0.52452, 'confidence': 0.046},\n",
       " {'start': 80.19692, 'duration': 0.52919, 'confidence': 0.141},\n",
       " {'start': 80.72611, 'duration': 0.52839, 'confidence': 0.128},\n",
       " {'start': 81.25451, 'duration': 0.52034, 'confidence': 0.158},\n",
       " {'start': 81.77485, 'duration': 0.50964, 'confidence': 0.157},\n",
       " {'start': 82.28449, 'duration': 0.50207, 'confidence': 0.309},\n",
       " {'start': 82.78656, 'duration': 0.50591, 'confidence': 0.327},\n",
       " {'start': 83.29248, 'duration': 0.50236, 'confidence': 0.315},\n",
       " {'start': 83.79484, 'duration': 0.49349, 'confidence': 0.297},\n",
       " {'start': 84.28833, 'duration': 0.49289, 'confidence': 0.308},\n",
       " {'start': 84.78122, 'duration': 0.49896, 'confidence': 0.334},\n",
       " {'start': 85.28018, 'duration': 0.49955, 'confidence': 0.3},\n",
       " {'start': 85.77973, 'duration': 0.50101, 'confidence': 0.155},\n",
       " {'start': 86.28074, 'duration': 0.50292, 'confidence': 0.15},\n",
       " {'start': 86.78366, 'duration': 0.50379, 'confidence': 0.148},\n",
       " {'start': 87.28745, 'duration': 0.5048, 'confidence': 0.173},\n",
       " {'start': 87.79225, 'duration': 0.50448, 'confidence': 0.252},\n",
       " {'start': 88.29673, 'duration': 0.50577, 'confidence': 0.439},\n",
       " {'start': 88.80251, 'duration': 0.50633, 'confidence': 0.398},\n",
       " {'start': 89.30884, 'duration': 0.49847, 'confidence': 0.324},\n",
       " {'start': 89.80731, 'duration': 0.49016, 'confidence': 0.198},\n",
       " {'start': 90.29747, 'duration': 0.49131, 'confidence': 0.322},\n",
       " {'start': 90.78879, 'duration': 0.49838, 'confidence': 0.283},\n",
       " {'start': 91.28716, 'duration': 0.49791, 'confidence': 0.312},\n",
       " {'start': 91.78508, 'duration': 0.49242, 'confidence': 0.266},\n",
       " {'start': 92.2775, 'duration': 0.49506, 'confidence': 0.219},\n",
       " {'start': 92.77255, 'duration': 0.50153, 'confidence': 0.342},\n",
       " {'start': 93.27409, 'duration': 0.50536, 'confidence': 0.35},\n",
       " {'start': 93.77944, 'duration': 0.50135, 'confidence': 0.262},\n",
       " {'start': 94.28079, 'duration': 0.49068, 'confidence': 0.436},\n",
       " {'start': 94.77147, 'duration': 0.48873, 'confidence': 0.35},\n",
       " {'start': 95.2602, 'duration': 0.49032, 'confidence': 0.255},\n",
       " {'start': 95.75052, 'duration': 0.49072, 'confidence': 0.222},\n",
       " {'start': 96.24125, 'duration': 0.4932, 'confidence': 0.162},\n",
       " {'start': 96.73444, 'duration': 0.49345, 'confidence': 0.088},\n",
       " {'start': 97.22789, 'duration': 0.49607, 'confidence': 0.187},\n",
       " {'start': 97.72396, 'duration': 0.50001, 'confidence': 0.244},\n",
       " {'start': 98.22398, 'duration': 0.50101, 'confidence': 0.395},\n",
       " {'start': 98.72499, 'duration': 0.49933, 'confidence': 0.421},\n",
       " {'start': 99.22432, 'duration': 0.49694, 'confidence': 0.531},\n",
       " {'start': 99.72126, 'duration': 0.49025, 'confidence': 0.649},\n",
       " {'start': 100.21151, 'duration': 0.48948, 'confidence': 0.575},\n",
       " {'start': 100.70099, 'duration': 0.4893, 'confidence': 0.132},\n",
       " {'start': 101.19029, 'duration': 0.49148, 'confidence': 0.234},\n",
       " {'start': 101.68177, 'duration': 0.49277, 'confidence': 0.285},\n",
       " {'start': 102.17454, 'duration': 0.49024, 'confidence': 0.441},\n",
       " {'start': 102.66478, 'duration': 0.48859, 'confidence': 0.369},\n",
       " {'start': 103.15337, 'duration': 0.49358, 'confidence': 0.354},\n",
       " {'start': 103.64695, 'duration': 0.49209, 'confidence': 0.218},\n",
       " {'start': 104.13904, 'duration': 0.49177, 'confidence': 0.161},\n",
       " {'start': 104.63081, 'duration': 0.49205, 'confidence': 0.235},\n",
       " {'start': 105.12286, 'duration': 0.49129, 'confidence': 0.309},\n",
       " {'start': 105.61415, 'duration': 0.49171, 'confidence': 0.418},\n",
       " {'start': 106.10586, 'duration': 0.49007, 'confidence': 0.494},\n",
       " {'start': 106.59594, 'duration': 0.48311, 'confidence': 0.491},\n",
       " {'start': 107.07905, 'duration': 0.48323, 'confidence': 0.272},\n",
       " {'start': 107.56228, 'duration': 0.4863, 'confidence': 0.341},\n",
       " {'start': 108.04858, 'duration': 0.48672, 'confidence': 0.267},\n",
       " {'start': 108.5353, 'duration': 0.48787, 'confidence': 0.43},\n",
       " {'start': 109.02318, 'duration': 0.48682, 'confidence': 0.362},\n",
       " {'start': 109.51, 'duration': 0.48724, 'confidence': 0.232},\n",
       " {'start': 109.99724, 'duration': 0.49032, 'confidence': 0.277},\n",
       " {'start': 110.48757, 'duration': 0.49193, 'confidence': 0.371},\n",
       " {'start': 110.97949, 'duration': 0.49235, 'confidence': 0.313},\n",
       " {'start': 111.47184, 'duration': 0.49145, 'confidence': 0.339},\n",
       " {'start': 111.96329, 'duration': 0.49717, 'confidence': 0.306},\n",
       " {'start': 112.46046, 'duration': 0.50291, 'confidence': 0.115},\n",
       " {'start': 112.96337, 'duration': 0.50215, 'confidence': 0.147},\n",
       " {'start': 113.46552, 'duration': 0.50465, 'confidence': 0.098},\n",
       " {'start': 113.97017, 'duration': 0.5112, 'confidence': 0.145},\n",
       " {'start': 114.48137, 'duration': 0.5077, 'confidence': 0.145},\n",
       " {'start': 114.98907, 'duration': 0.5042, 'confidence': 0.145},\n",
       " {'start': 115.49327, 'duration': 0.5007, 'confidence': 0.145},\n",
       " {'start': 115.99396, 'duration': 0.4972, 'confidence': 0.145},\n",
       " {'start': 116.49116, 'duration': 0.48715, 'confidence': 0.145},\n",
       " {'start': 116.97831, 'duration': 0.48058, 'confidence': 0.318},\n",
       " {'start': 117.45889, 'duration': 0.48641, 'confidence': 0.229},\n",
       " {'start': 117.94531, 'duration': 0.49714, 'confidence': 0.436},\n",
       " {'start': 118.44245, 'duration': 0.49459, 'confidence': 0.268},\n",
       " {'start': 118.93704, 'duration': 0.49828, 'confidence': 0.33},\n",
       " {'start': 119.43532, 'duration': 0.50372, 'confidence': 0.273},\n",
       " {'start': 119.93904, 'duration': 0.50297, 'confidence': 0.269},\n",
       " {'start': 120.44201, 'duration': 0.50884, 'confidence': 0.435},\n",
       " {'start': 120.95085, 'duration': 0.49967, 'confidence': 0.259},\n",
       " {'start': 121.45052, 'duration': 0.49667, 'confidence': 0.305},\n",
       " {'start': 121.94719, 'duration': 0.49501, 'confidence': 0.215},\n",
       " {'start': 122.4422, 'duration': 0.49197, 'confidence': 0.223},\n",
       " {'start': 122.93418, 'duration': 0.48585, 'confidence': 0.423},\n",
       " {'start': 123.42003, 'duration': 0.48989, 'confidence': 0.312},\n",
       " {'start': 123.90992, 'duration': 0.49527, 'confidence': 0.302},\n",
       " {'start': 124.40519, 'duration': 0.5024, 'confidence': 0.33},\n",
       " {'start': 124.90759, 'duration': 0.49891, 'confidence': 0.276},\n",
       " {'start': 125.40649, 'duration': 0.49806, 'confidence': 0.166},\n",
       " {'start': 125.90455, 'duration': 0.50212, 'confidence': 0.238},\n",
       " {'start': 126.40667, 'duration': 0.50838, 'confidence': 0.3},\n",
       " {'start': 126.91504, 'duration': 0.51112, 'confidence': 0.393},\n",
       " {'start': 127.42616, 'duration': 0.5103, 'confidence': 0.361},\n",
       " {'start': 127.93646, 'duration': 0.50908, 'confidence': 0.303},\n",
       " {'start': 128.44554, 'duration': 0.50917, 'confidence': 0.158},\n",
       " {'start': 128.95471, 'duration': 0.51331, 'confidence': 0.08},\n",
       " {'start': 129.46802, 'duration': 0.51122, 'confidence': 0.192},\n",
       " {'start': 129.97923, 'duration': 0.5114, 'confidence': 0.341},\n",
       " {'start': 130.49065, 'duration': 0.516, 'confidence': 0.414},\n",
       " {'start': 131.00664, 'duration': 0.50595, 'confidence': 0.235},\n",
       " {'start': 131.51259, 'duration': 0.50387, 'confidence': 0.305},\n",
       " {'start': 132.01646, 'duration': 0.50538, 'confidence': 0.11},\n",
       " {'start': 132.52185, 'duration': 0.49795, 'confidence': 0.123},\n",
       " {'start': 133.0198, 'duration': 0.49989, 'confidence': 0.052},\n",
       " {'start': 133.51968, 'duration': 0.49064, 'confidence': 0.185},\n",
       " {'start': 134.01033, 'duration': 0.48363, 'confidence': 0.1},\n",
       " {'start': 134.49396, 'duration': 0.4935, 'confidence': 0.459},\n",
       " {'start': 134.98746, 'duration': 0.49801, 'confidence': 0.3},\n",
       " {'start': 135.48547, 'duration': 0.50116, 'confidence': 0.366},\n",
       " {'start': 135.98663, 'duration': 0.50209, 'confidence': 0.247},\n",
       " {'start': 136.48872, 'duration': 0.49229, 'confidence': 0.162},\n",
       " {'start': 136.98102, 'duration': 0.50167, 'confidence': 0.144},\n",
       " {'start': 137.4827, 'duration': 0.50301, 'confidence': 0.205},\n",
       " {'start': 137.9857, 'duration': 0.49857, 'confidence': 0.16},\n",
       " {'start': 138.48427, 'duration': 0.49012, 'confidence': 0.137},\n",
       " {'start': 138.9744, 'duration': 0.48746, 'confidence': 0.164},\n",
       " {'start': 139.46185, 'duration': 0.4964, 'confidence': 0.278},\n",
       " {'start': 139.95825, 'duration': 0.49998, 'confidence': 0.246},\n",
       " {'start': 140.45824, 'duration': 0.49286, 'confidence': 0.285},\n",
       " {'start': 140.9511, 'duration': 0.49644, 'confidence': 0.197},\n",
       " {'start': 141.44754, 'duration': 0.50536, 'confidence': 0.15},\n",
       " {'start': 141.9529, 'duration': 0.50491, 'confidence': 0.235},\n",
       " {'start': 142.45782, 'duration': 0.50402, 'confidence': 0.256},\n",
       " {'start': 142.96184, 'duration': 0.49511, 'confidence': 0.108},\n",
       " {'start': 143.45694, 'duration': 0.50359, 'confidence': 0.225},\n",
       " {'start': 143.96053, 'duration': 0.50716, 'confidence': 0.263},\n",
       " {'start': 144.4677, 'duration': 0.50138, 'confidence': 0.333},\n",
       " {'start': 144.96907, 'duration': 0.50005, 'confidence': 0.262},\n",
       " {'start': 145.46912, 'duration': 0.50631, 'confidence': 0.154},\n",
       " {'start': 145.97543, 'duration': 0.509, 'confidence': 0.256},\n",
       " {'start': 146.48444, 'duration': 0.51213, 'confidence': 0.232},\n",
       " {'start': 146.99657, 'duration': 0.50145, 'confidence': 0.243},\n",
       " {'start': 147.49802, 'duration': 0.49879, 'confidence': 0.321},\n",
       " {'start': 147.9968, 'duration': 0.50148, 'confidence': 0.218},\n",
       " {'start': 148.49828, 'duration': 0.49524, 'confidence': 0.203},\n",
       " {'start': 148.99352, 'duration': 0.48811, 'confidence': 0.09},\n",
       " {'start': 149.48161, 'duration': 0.49347, 'confidence': 0.372},\n",
       " {'start': 149.97508, 'duration': 0.49883, 'confidence': 0.376},\n",
       " {'start': 150.47392, 'duration': 0.51176, 'confidence': 0.297},\n",
       " {'start': 150.98569, 'duration': 0.51399, 'confidence': 0.341},\n",
       " {'start': 151.49966, 'duration': 0.51622, 'confidence': 0.287},\n",
       " {'start': 152.01588, 'duration': 0.52379, 'confidence': 0.154},\n",
       " {'start': 152.53967, 'duration': 0.53048, 'confidence': 0.138},\n",
       " {'start': 153.07016, 'duration': 0.51665, 'confidence': 0.2},\n",
       " {'start': 153.5868, 'duration': 0.51219, 'confidence': 0.127},\n",
       " {'start': 154.099, 'duration': 0.50683, 'confidence': 0.111},\n",
       " {'start': 154.60583, 'duration': 0.50504, 'confidence': 0.103},\n",
       " {'start': 155.11087, 'duration': 0.50547, 'confidence': 0.139},\n",
       " {'start': 155.61633, 'duration': 0.49878, 'confidence': 0.146},\n",
       " {'start': 156.11513, 'duration': 0.50011, 'confidence': 0.31},\n",
       " {'start': 156.61523, 'duration': 0.50902, 'confidence': 0.243},\n",
       " {'start': 157.12424, 'duration': 0.50454, 'confidence': 0.343},\n",
       " {'start': 157.62878, 'duration': 0.50364, 'confidence': 0.375},\n",
       " {'start': 158.13242, 'duration': 0.49827, 'confidence': 0.391},\n",
       " {'start': 158.63069, 'duration': 0.49557, 'confidence': 0.284},\n",
       " {'start': 159.12627, 'duration': 0.49822, 'confidence': 0.185},\n",
       " {'start': 159.62448, 'duration': 0.49909, 'confidence': 0.105},\n",
       " {'start': 160.12357, 'duration': 0.49951, 'confidence': 0.107},\n",
       " {'start': 160.62308, 'duration': 0.50217, 'confidence': 0.195},\n",
       " {'start': 161.12524, 'duration': 0.49769, 'confidence': 0.212},\n",
       " {'start': 161.62294, 'duration': 0.50257, 'confidence': 0.137},\n",
       " {'start': 162.1255, 'duration': 0.49853, 'confidence': 0.097},\n",
       " {'start': 162.62405, 'duration': 0.50029, 'confidence': 0.088},\n",
       " {'start': 163.12434, 'duration': 0.50116, 'confidence': 0.248},\n",
       " {'start': 163.6255, 'duration': 0.49936, 'confidence': 0.187},\n",
       " {'start': 164.12486, 'duration': 0.50246, 'confidence': 0.142},\n",
       " {'start': 164.62732, 'duration': 0.50868, 'confidence': 0.29},\n",
       " {'start': 165.136, 'duration': 0.50063, 'confidence': 0.301},\n",
       " {'start': 165.63663, 'duration': 0.50239, 'confidence': 0.241},\n",
       " {'start': 166.13902, 'duration': 0.50369, 'confidence': 0.177},\n",
       " {'start': 166.64272, 'duration': 0.50188, 'confidence': 0.082},\n",
       " {'start': 167.1446, 'duration': 0.50362, 'confidence': 0.212},\n",
       " {'start': 167.64821, 'duration': 0.49868, 'confidence': 0.171},\n",
       " {'start': 168.1469, 'duration': 0.50039, 'confidence': 0.293},\n",
       " {'start': 168.64728, 'duration': 0.51103, 'confidence': 0.441},\n",
       " {'start': 169.15831, 'duration': 0.50607, 'confidence': 0.459},\n",
       " {'start': 169.66438, 'duration': 0.49889, 'confidence': 0.317},\n",
       " {'start': 170.16328, 'duration': 0.49571, 'confidence': 0.178},\n",
       " {'start': 170.659, 'duration': 0.493, 'confidence': 0.081},\n",
       " {'start': 171.152, 'duration': 0.50141, 'confidence': 0.228},\n",
       " {'start': 171.6534, 'duration': 0.4996, 'confidence': 0.197},\n",
       " {'start': 172.15298, 'duration': 0.496, 'confidence': 0.184},\n",
       " {'start': 172.64899, 'duration': 0.50132, 'confidence': 0.116},\n",
       " {'start': 173.15031, 'duration': 0.50397, 'confidence': 0.134},\n",
       " {'start': 173.65428, 'duration': 0.50663, 'confidence': 0.175},\n",
       " {'start': 174.1609, 'duration': 0.50839, 'confidence': 0.125},\n",
       " {'start': 174.6693, 'duration': 0.49904, 'confidence': 0.11},\n",
       " {'start': 175.16833, 'duration': 0.49636, 'confidence': 0.072},\n",
       " {'start': 175.66469, 'duration': 0.49724, 'confidence': 0.094},\n",
       " {'start': 176.16193, 'duration': 0.49901, 'confidence': 0.111},\n",
       " {'start': 176.66093, 'duration': 0.49989, 'confidence': 0.192},\n",
       " {'start': 177.16083, 'duration': 0.49631, 'confidence': 0.225},\n",
       " {'start': 177.65714, 'duration': 0.49407, 'confidence': 0.17},\n",
       " {'start': 178.15121, 'duration': 0.49492, 'confidence': 0.148},\n",
       " {'start': 178.64613, 'duration': 0.50111, 'confidence': 0.105},\n",
       " {'start': 179.14725, 'duration': 0.50284, 'confidence': 0.18},\n",
       " {'start': 179.65009, 'duration': 0.50368, 'confidence': 0.135},\n",
       " {'start': 180.15375, 'duration': 0.50315, 'confidence': 0.189},\n",
       " {'start': 180.6569, 'duration': 0.50397, 'confidence': 0.311},\n",
       " {'start': 181.16087, 'duration': 0.50388, 'confidence': 0.344},\n",
       " {'start': 181.66475, 'duration': 0.50735, 'confidence': 0.231},\n",
       " {'start': 182.1721, 'duration': 0.49613, 'confidence': 0.174},\n",
       " {'start': 182.66823, 'duration': 0.49515, 'confidence': 0.164},\n",
       " {'start': 183.16338, 'duration': 0.49548, 'confidence': 0.24},\n",
       " {'start': 183.65886, 'duration': 0.49407, 'confidence': 0.168},\n",
       " {'start': 184.15292, 'duration': 0.49664, 'confidence': 0.129},\n",
       " {'start': 184.64957, 'duration': 0.49703, 'confidence': 0.241},\n",
       " {'start': 185.1466, 'duration': 0.49784, 'confidence': 0.257},\n",
       " {'start': 185.64444, 'duration': 0.50091, 'confidence': 0.212},\n",
       " {'start': 186.14536, 'duration': 0.49908, 'confidence': 0.164},\n",
       " {'start': 186.64442, 'duration': 0.49727, 'confidence': 0.108},\n",
       " {'start': 187.1417, 'duration': 0.49945, 'confidence': 0.214},\n",
       " {'start': 187.64114, 'duration': 0.49898, 'confidence': 0.221},\n",
       " {'start': 188.14012, 'duration': 0.49539, 'confidence': 0.191},\n",
       " {'start': 188.63551, 'duration': 0.48516, 'confidence': 0.201},\n",
       " {'start': 189.12067, 'duration': 0.49355, 'confidence': 0.218},\n",
       " {'start': 189.61423, 'duration': 0.50061, 'confidence': 0.168},\n",
       " {'start': 190.11482, 'duration': 0.49968, 'confidence': 0.107},\n",
       " {'start': 190.61452, 'duration': 0.49654, 'confidence': 0.081},\n",
       " {'start': 191.11105, 'duration': 0.49783, 'confidence': 0.078},\n",
       " {'start': 191.60889, 'duration': 0.50401, 'confidence': 0.047},\n",
       " {'start': 192.11288, 'duration': 0.51239, 'confidence': 0.05},\n",
       " {'start': 192.62529, 'duration': 0.50836, 'confidence': 0.02},\n",
       " {'start': 193.13365, 'duration': 0.50166, 'confidence': 0.065},\n",
       " {'start': 193.63531, 'duration': 0.49851, 'confidence': 0.079},\n",
       " {'start': 194.13382, 'duration': 0.49358, 'confidence': 0.078},\n",
       " {'start': 194.6274, 'duration': 0.48644, 'confidence': 0.112},\n",
       " {'start': 195.11385, 'duration': 0.48283, 'confidence': 0.228},\n",
       " {'start': 195.59668, 'duration': 0.47879, 'confidence': 0.228},\n",
       " {'start': 196.07547, 'duration': 0.47474, 'confidence': 0.204},\n",
       " {'start': 196.55022, 'duration': 0.48, 'confidence': 0.25},\n",
       " {'start': 197.03021, 'duration': 0.48172, 'confidence': 0.303},\n",
       " {'start': 197.51192, 'duration': 0.48522, 'confidence': 0.295},\n",
       " {'start': 197.99715, 'duration': 0.48871, 'confidence': 0.227},\n",
       " {'start': 198.48586, 'duration': 0.49267, 'confidence': 0.217},\n",
       " {'start': 198.97852, 'duration': 0.50237, 'confidence': 0.297},\n",
       " {'start': 199.4809, 'duration': 0.50367, 'confidence': 0.374},\n",
       " {'start': 199.98456, 'duration': 0.49654, 'confidence': 0.289},\n",
       " {'start': 200.48111, 'duration': 0.50226, 'confidence': 0.138},\n",
       " {'start': 200.98337, 'duration': 0.50088, 'confidence': 0.216},\n",
       " {'start': 201.48425, 'duration': 0.50305, 'confidence': 0.269},\n",
       " {'start': 201.9873, 'duration': 0.49501, 'confidence': 0.263},\n",
       " {'start': 202.48232, 'duration': 0.48078, 'confidence': 0.279},\n",
       " {'start': 202.96309, 'duration': 0.47759, 'confidence': 0.247},\n",
       " {'start': 203.44067, 'duration': 0.47354, 'confidence': 0.36},\n",
       " {'start': 203.91422, 'duration': 0.46636, 'confidence': 0.128},\n",
       " {'start': 204.38058, 'duration': 0.46672, 'confidence': 0.2},\n",
       " {'start': 204.8473, 'duration': 0.46311, 'confidence': 0.181},\n",
       " {'start': 205.31041, 'duration': 0.4626, 'confidence': 0.229},\n",
       " {'start': 205.77301, 'duration': 0.46386, 'confidence': 0.309},\n",
       " {'start': 206.23688, 'duration': 0.46115, 'confidence': 0.258},\n",
       " {'start': 206.69801, 'duration': 0.46243, 'confidence': 0.163},\n",
       " {'start': 207.16045, 'duration': 0.46107, 'confidence': 0.176},\n",
       " {'start': 207.62152, 'duration': 0.45482, 'confidence': 0.14},\n",
       " {'start': 208.07632, 'duration': 0.45605, 'confidence': 0.124},\n",
       " {'start': 208.53238, 'duration': 0.4595, 'confidence': 0.098},\n",
       " {'start': 208.99188, 'duration': 0.46737, 'confidence': 0.25},\n",
       " {'start': 209.45924, 'duration': 0.47434, 'confidence': 0.23},\n",
       " {'start': 209.9336, 'duration': 0.4769, 'confidence': 0.173},\n",
       " {'start': 210.4105, 'duration': 0.47989, 'confidence': 0.107},\n",
       " {'start': 210.8904, 'duration': 0.48599, 'confidence': 0.117},\n",
       " {'start': 211.37637, 'duration': 0.48681, 'confidence': 0.175},\n",
       " {'start': 211.86319, 'duration': 0.48631, 'confidence': 0.206},\n",
       " {'start': 212.3495, 'duration': 0.48534, 'confidence': 0.263},\n",
       " {'start': 212.83484, 'duration': 0.48128, 'confidence': 0.161},\n",
       " {'start': 213.31612, 'duration': 0.48049, 'confidence': 0.072},\n",
       " {'start': 213.7966, 'duration': 0.49084, 'confidence': 0.036},\n",
       " {'start': 214.28745, 'duration': 0.49084, 'confidence': 0.07}]"
      ]
     },
     "execution_count": 246,
     "metadata": {},
     "output_type": "execute_result"
    }
   ],
   "source": [
    "s1_analysis['beats']"
   ]
  },
  {
   "cell_type": "code",
   "execution_count": null,
   "metadata": {},
   "outputs": [],
   "source": [
    "# be sure to avergae the fuzz values ad set a threshold for acceptance\n",
    "\n",
    "# for loop through tracks and scrape search queries for \n",
    "# matching tracks alone\n",
    "# track &artist & album\n",
    "# track & artist\n",
    "# track & album\n",
    "# see which one gets the best results \n",
    "\n",
    "# then retrieve the track ID and from there get anaysis data etc.."
   ]
  },
  {
   "cell_type": "code",
   "execution_count": 188,
   "metadata": {},
   "outputs": [],
   "source": [
    "# if passes the test, function to retrieve track ID then need to extract analysis > retrieve time signature yipee"
   ]
  },
  {
   "cell_type": "markdown",
   "metadata": {},
   "source": [
    "#### Trying regular spotify API"
   ]
  },
  {
   "cell_type": "code",
   "execution_count": 151,
   "metadata": {},
   "outputs": [],
   "source": [
    "# may need to re run this every hour - spotify shuts puts the access on a timer\n",
    "import requests\n",
    "\n",
    "auth_url = 'https://accounts.spotify.com/api/token'\n",
    "\n",
    "auth_response = requests.post(auth_url, {\n",
    "    'grant_type': 'client_credentials',\n",
    "    'client_id': config.SPOTIPY_CLIENT_ID,\n",
    "    'client_secret': config.SPOTIPY_CLIENT_SECRET\n",
    "})\n",
    "\n",
    "auth_response_data = auth_response.json()\n",
    "access_token = auth_response_data['access_token']\n",
    "spot_headers = {'Authorization': 'Bearer {token}'.format(token=access_token)}"
   ]
  },
  {
   "cell_type": "code",
   "execution_count": 171,
   "metadata": {},
   "outputs": [],
   "source": [
    "search_base_url = 'https://api.spotify.com/v1/search'\n",
    "r1 = requests.get(search_base_url, headers = spot_headers, params={'q':'album:gold artist:abba', 'type': 'album'})"
   ]
  },
  {
   "cell_type": "markdown",
   "metadata": {},
   "source": [
    "Dontforget to set the smaple rate to none in order to mantain the original soundtrack sample rate"
   ]
  }
 ],
 "metadata": {
  "kernelspec": {
   "display_name": "Python 3",
   "language": "python",
   "name": "python3"
  },
  "language_info": {
   "codemirror_mode": {
    "name": "ipython",
    "version": 3
   },
   "file_extension": ".py",
   "mimetype": "text/x-python",
   "name": "python",
   "nbconvert_exporter": "python",
   "pygments_lexer": "ipython3",
   "version": "3.7.6"
  }
 },
 "nbformat": 4,
 "nbformat_minor": 4
}
