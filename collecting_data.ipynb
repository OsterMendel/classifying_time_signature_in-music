{
 "cells": [
  {
   "cell_type": "markdown",
   "metadata": {},
   "source": [
    "I need to decide which songs I want to collect"
   ]
  },
  {
   "cell_type": "code",
   "execution_count": 427,
   "metadata": {},
   "outputs": [],
   "source": [
    "import os\n",
    "import pandas as pd\n",
    "import numpy as np\n",
    "import matplotlib.pyplot as plt\n",
    "\n",
    "import config\n",
    "import spotipy\n",
    "from spotipy.oauth2 import SpotifyClientCredentials"
   ]
  },
  {
   "cell_type": "markdown",
   "metadata": {},
   "source": [
    "### FMA metadata needed for spotify scraping"
   ]
  },
  {
   "cell_type": "markdown",
   "metadata": {},
   "source": [
    "Get track names, artist names, album names, where set-subset = 'small'"
   ]
  },
  {
   "cell_type": "code",
   "execution_count": 23,
   "metadata": {
    "scrolled": true
   },
   "outputs": [
    {
     "name": "stderr",
     "output_type": "stream",
     "text": [
      "C:\\Users\\Mendel Oster\\anaconda3\\lib\\site-packages\\IPython\\core\\interactiveshell.py:3063: DtypeWarning: Columns (0,1,5,6,8,12,18,20,21,22,24,33,34,38,39,44,47,49) have mixed types.Specify dtype option on import or set low_memory=False.\n",
      "  interactivity=interactivity, compiler=compiler, result=result)\n"
     ]
    }
   ],
   "source": [
    "tracks_file_raw = pd.read_csv('tracks.csv')"
   ]
  },
  {
   "cell_type": "code",
   "execution_count": 68,
   "metadata": {},
   "outputs": [],
   "source": [
    "# retrieve the indices for the 'small' subset\n",
    "small_indices = tracks_file_raw[tracks_file_raw['set.1'] == 'small'].index"
   ]
  },
  {
   "cell_type": "code",
   "execution_count": 72,
   "metadata": {},
   "outputs": [
    {
     "data": {
      "text/plain": [
       "(8000, 53)"
      ]
     },
     "execution_count": 72,
     "metadata": {},
     "output_type": "execute_result"
    }
   ],
   "source": [
    "subset_tracks_df = tracks_file_raw.iloc[small_indices]\n",
    "subset_tracks_df.shape"
   ]
  },
  {
   "cell_type": "code",
   "execution_count": 417,
   "metadata": {},
   "outputs": [
    {
     "data": {
      "text/html": [
       "<div>\n",
       "<style scoped>\n",
       "    .dataframe tbody tr th:only-of-type {\n",
       "        vertical-align: middle;\n",
       "    }\n",
       "\n",
       "    .dataframe tbody tr th {\n",
       "        vertical-align: top;\n",
       "    }\n",
       "\n",
       "    .dataframe thead th {\n",
       "        text-align: right;\n",
       "    }\n",
       "</style>\n",
       "<table border=\"1\" class=\"dataframe\">\n",
       "  <thead>\n",
       "    <tr style=\"text-align: right;\">\n",
       "      <th></th>\n",
       "      <th>track</th>\n",
       "      <th>track.1</th>\n",
       "      <th>track.2</th>\n",
       "      <th>track.3</th>\n",
       "      <th>track.4</th>\n",
       "      <th>track.5</th>\n",
       "      <th>track.6</th>\n",
       "      <th>track.7</th>\n",
       "      <th>track.8</th>\n",
       "      <th>track.9</th>\n",
       "      <th>track.10</th>\n",
       "      <th>track.11</th>\n",
       "      <th>track.12</th>\n",
       "      <th>track.13</th>\n",
       "      <th>track.14</th>\n",
       "      <th>track.15</th>\n",
       "      <th>track.16</th>\n",
       "      <th>track.17</th>\n",
       "      <th>track.18</th>\n",
       "      <th>track.19</th>\n",
       "    </tr>\n",
       "  </thead>\n",
       "  <tbody>\n",
       "    <tr>\n",
       "      <th>0</th>\n",
       "      <td>bit_rate</td>\n",
       "      <td>comments</td>\n",
       "      <td>composer</td>\n",
       "      <td>date_created</td>\n",
       "      <td>date_recorded</td>\n",
       "      <td>duration</td>\n",
       "      <td>favorites</td>\n",
       "      <td>genre_top</td>\n",
       "      <td>genres</td>\n",
       "      <td>genres_all</td>\n",
       "      <td>information</td>\n",
       "      <td>interest</td>\n",
       "      <td>language_code</td>\n",
       "      <td>license</td>\n",
       "      <td>listens</td>\n",
       "      <td>lyricist</td>\n",
       "      <td>number</td>\n",
       "      <td>publisher</td>\n",
       "      <td>tags</td>\n",
       "      <td>title</td>\n",
       "    </tr>\n",
       "  </tbody>\n",
       "</table>\n",
       "</div>"
      ],
      "text/plain": [
       "      track   track.1   track.2       track.3        track.4   track.5  \\\n",
       "0  bit_rate  comments  composer  date_created  date_recorded  duration   \n",
       "\n",
       "     track.6    track.7 track.8     track.9     track.10  track.11  \\\n",
       "0  favorites  genre_top  genres  genres_all  information  interest   \n",
       "\n",
       "        track.12 track.13 track.14  track.15 track.16   track.17 track.18  \\\n",
       "0  language_code  license  listens  lyricist   number  publisher     tags   \n",
       "\n",
       "  track.19  \n",
       "0    title  "
      ]
     },
     "execution_count": 417,
     "metadata": {},
     "output_type": "execute_result"
    }
   ],
   "source": [
    "# finding which columns I need\n",
    "tracks_file_raw.loc[[0]].iloc[:,33:53]"
   ]
  },
  {
   "cell_type": "code",
   "execution_count": 425,
   "metadata": {},
   "outputs": [
    {
     "name": "stdout",
     "output_type": "stream",
     "text": [
      "There are 0 nulls in the artists name column\n",
      "There are 0 nulls in the album name column\n",
      "There are 0 nulls in the track name column\n",
      "There are 0 nulls in the track bit rate column\n",
      "There are 0 nulls in the track top genre column\n"
     ]
    }
   ],
   "source": [
    "# slicing the tracks file to find the artist name, album name, track name, track bit rate,and track top genre\n",
    "artists = subset_tracks_df['artist.12']\n",
    "albums = subset_tracks_df['album.10']\n",
    "tracks = subset_tracks_df['track.19']\n",
    "tracks_br = subset_tracks_df['track'].astype(int)\n",
    "tracks_top_genre = subset_tracks_df['track.7']\n",
    "print('There are {} nulls in the artists name column'.format(artists.isnull().sum()))\n",
    "print('There are {} nulls in the album name column'.format(albums.isnull().sum()))\n",
    "print('There are {} nulls in the track name column'.format(tracks.isnull().sum()))\n",
    "print('There are {} nulls in the track bit rate column'.format(tracks_br.isnull().sum()))\n",
    "print('There are {} nulls in the track top genre column'.format(tracks_top_genre.isnull().sum()))"
   ]
  },
  {
   "cell_type": "code",
   "execution_count": 123,
   "metadata": {
    "scrolled": true
   },
   "outputs": [
    {
     "data": {
      "text/plain": [
       "2                   Food\n",
       "4             This World\n",
       "5                Freeway\n",
       "17    Queen Of The Wires\n",
       "18                  Ohio\n",
       "Name: track.19, dtype: object"
      ]
     },
     "execution_count": 123,
     "metadata": {},
     "output_type": "execute_result"
    }
   ],
   "source": [
    "tracks.head()"
   ]
  },
  {
   "cell_type": "code",
   "execution_count": 461,
   "metadata": {},
   "outputs": [],
   "source": [
    " df = pd.concat([tracks,artists,albums,tracks_br,tracks_top_genre],axis=1)"
   ]
  },
  {
   "cell_type": "code",
   "execution_count": 467,
   "metadata": {},
   "outputs": [],
   "source": [
    "new_col_names={'track.19': 'track_name',\n",
    "               'artist.12':'artist_name',\n",
    "               'album.10':'album_name', \n",
    "               'track': 'track_bit', \n",
    "               'track.7':'track_top_genre'}"
   ]
  },
  {
   "cell_type": "code",
   "execution_count": 469,
   "metadata": {},
   "outputs": [],
   "source": [
    "df.rename(columns=new_col_names,inplace=True)"
   ]
  },
  {
   "cell_type": "markdown",
   "metadata": {},
   "source": [
    "### Using Spotipy to retrieve time signature of songs in FMA small dataset (tracks above) , from spotify"
   ]
  },
  {
   "cell_type": "code",
   "execution_count": 179,
   "metadata": {},
   "outputs": [],
   "source": [
    "# To match the search query results from spotify and the tracks which I have from FMA\n",
    "from fuzzywuzzy import fuzz\n",
    "from fuzzywuzzy import process"
   ]
  },
  {
   "cell_type": "code",
   "execution_count": 175,
   "metadata": {},
   "outputs": [],
   "source": [
    "spotify = spotipy.Spotify(\n",
    "    client_credentials_manager=SpotifyClientCredentials(\n",
    "        client_id=config.SPOTIPY_CLIENT_ID, client_secret= config.SPOTIPY_CLIENT_SECRET))"
   ]
  },
  {
   "cell_type": "markdown",
   "metadata": {},
   "source": [
    "Function to set up search request for spotify, for searching with multiple criteria"
   ]
  },
  {
   "cell_type": "code",
   "execution_count": 186,
   "metadata": {},
   "outputs": [],
   "source": [
    "def search_q(track, artist=None, album=None, qtype='track'):\n",
    "    '''\n",
    "    This function takes in a track name, artist name, and album name and will format a query for Spotipy.search.\n",
    "    The goal of the query is to find the qtype of the query given multiple conditions\n",
    "    for example 'album:gold artist:abba', type='album' will return albums with\n",
    "    'gold' in it as long as the artist contains 'abba'\n",
    "    qtype can be changed to anything spotify allows \n",
    "    see https://developer.spotify.com/documentation/web-api/reference/search/search/\n",
    "    '''\n",
    "    if artist and album:\n",
    "        return spotify.search(q = 'track:{t} artist:{ar} album:{al}'.format(t=track, ar= artist, al= album),type=qtype)\n",
    "    if artist and not album:\n",
    "        return spotify.search(q = 'track:{t} artist:{ar}'.format(t=track, ar= artist),type=qtype)\n",
    "    if not artist and album:\n",
    "        return spotify.search(q = 'track:{t} album:{al}'.format(t=track, al= album),type=qtype)\n",
    "    if not artist and not album:\n",
    "        return spotify.search(q = 'track:{t}'.format(t=track),type=qtype)"
   ]
  },
  {
   "cell_type": "code",
   "execution_count": 295,
   "metadata": {},
   "outputs": [],
   "source": [
    "#  testing\n",
    "s1 =   search_q(tracks.iloc[400], artists.iloc[400])"
   ]
  },
  {
   "cell_type": "code",
   "execution_count": 199,
   "metadata": {},
   "outputs": [
    {
     "data": {
      "text/plain": [
       "dict_keys(['album', 'artists', 'available_markets', 'disc_number', 'duration_ms', 'explicit', 'external_ids', 'external_urls', 'href', 'id', 'is_local', 'name', 'popularity', 'preview_url', 'track_number', 'type', 'uri'])"
      ]
     },
     "execution_count": 199,
     "metadata": {},
     "output_type": "execute_result"
    }
   ],
   "source": [
    "s1['tracks']['items'][0].keys()"
   ]
  },
  {
   "cell_type": "markdown",
   "metadata": {},
   "source": [
    "Function to test how well the search results match using Fuzzywuzzy"
   ]
  },
  {
   "cell_type": "code",
   "execution_count": 208,
   "metadata": {},
   "outputs": [],
   "source": [
    "def match_results(query_result, track, artist=None, album=None):\n",
    "    '''\n",
    "    This function uses fuzzywuzzy to measure the similarity of the search query results and the tracks needed\n",
    "    query result should be json format direct result from the function 'search_q' above\n",
    "    returns a dictionary like so {'track': result, 'artist': result, 'album': result}\n",
    "    note: the search_q function must be used with q_type = 'track' for this function to work\n",
    "    '''\n",
    "    t = query_result['tracks']['items'][0]['name']\n",
    "    t_val = fuzz.ratio(t, track)\n",
    "    if artist:\n",
    "        ar = query_result['tracks']['items'][0]['artists'][0]['name']\n",
    "        ar_val = fuzz.ratio(ar, artist)\n",
    "    if album:\n",
    "        al = query_result['tracks']['items'][0]['album']['name']\n",
    "        al_val = fuzz.ratio(al, album)\n",
    "\n",
    "    if artist and album:\n",
    "        return {t: t_val, ar: ar_val, al: al_val}\n",
    "    if artist and not album:\n",
    "        return {t: t_val, ar: ar_val}\n",
    "    if not artist and album:\n",
    "        return {t: t_val, al: al_val}\n",
    "    if not artist and not album:\n",
    "        return {t: t_val}"
   ]
  },
  {
   "cell_type": "code",
   "execution_count": 219,
   "metadata": {},
   "outputs": [
    {
     "name": "stdout",
     "output_type": "stream",
     "text": [
      "Crooked : Speedbath (working)\n",
      "Kristin Hersh : Kristin Hersh\n",
      "Mississippi Kite : Mississippi Kite\n"
     ]
    }
   ],
   "source": [
    "# testing\n",
    "print(s1['tracks']['items'][0]['album']['name'], ':',albums.iloc[400])\n",
    "print(s1['tracks']['items'][0]['artists'][0]['name'],':', artists.iloc[400])\n",
    "print(s1['tracks']['items'][0]['name'],':', tracks.iloc[400])"
   ]
  },
  {
   "cell_type": "code",
   "execution_count": 215,
   "metadata": {},
   "outputs": [
    {
     "name": "stdout",
     "output_type": "stream",
     "text": [
      "{'Mississippi Kite': 100}\n",
      "{'Mississippi Kite': 100, 'Kristin Hersh': 100}\n",
      "{'Mississippi Kite': 100, 'Crooked': 15}\n",
      "{'Mississippi Kite': 100, 'Kristin Hersh': 100, 'Crooked': 15}\n"
     ]
    }
   ],
   "source": [
    "print(match_results(s1, tracks.iloc[400]))\n",
    "print(match_results(s1, tracks.iloc[400], artist = artists.iloc[400]))\n",
    "print(match_results(s1, tracks.iloc[400], album = albums.iloc[400]))\n",
    "print(match_results(s1, tracks.iloc[400], artist = artists.iloc[400], album = albums.iloc[400]))"
   ]
  },
  {
   "cell_type": "code",
   "execution_count": 234,
   "metadata": {},
   "outputs": [],
   "source": [
    "def measure_results(match_results, thresh=66):\n",
    "    '''\n",
    "    This function takes in a dictionary of fuzz match results see function 'match_reults'\n",
    "    returns a boolean if the match is successful \n",
    "    default threshold is 66\n",
    "    '''\n",
    "    result = np.mean(list(match_results.values()))\n",
    "    if result >= thresh:\n",
    "        return True\n",
    "    else:\n",
    "        return False"
   ]
  },
  {
   "cell_type": "code",
   "execution_count": 235,
   "metadata": {},
   "outputs": [
    {
     "data": {
      "text/plain": [
       "True"
      ]
     },
     "execution_count": 235,
     "metadata": {},
     "output_type": "execute_result"
    }
   ],
   "source": [
    "measure_results(match_results(s1, tracks.iloc[400], artist = artists.iloc[400], album = albums.iloc[400]))"
   ]
  },
  {
   "cell_type": "markdown",
   "metadata": {},
   "source": [
    "### Loop through tracks to find song ID by search Spotify and maintaining a score above a certain threshold"
   ]
  },
  {
   "cell_type": "code",
   "execution_count": 296,
   "metadata": {},
   "outputs": [],
   "source": [
    "# stores (track index, returned query json) - should be len(8000)\n",
    "store_S = []\n",
    "# stores track index & match result for queries with a result like so \n",
    "# (400, {'Mississippi Kite': 100, 'Kristin Hersh': 100, 'Crooked': 15})\n",
    "store_M = []\n",
    "# stores track index & boolean like so (400,True)\n",
    "store_B = []\n",
    "# stores tuple of track index and its spotify ID - only for those who passed the test in B\n",
    "track_spot_id = []\n",
    "for i, song in tracks.items():\n",
    "    \n",
    "#     set variables to all have same index\n",
    "    track = tracks.loc[i]\n",
    "    artist = artists.loc[i]\n",
    "    album = albums.loc[i]\n",
    "       \n",
    "#     Spotipy makes a search query in spotify, returns json\n",
    "    S = search_q(track=track, artist=artist, album=album)\n",
    "    store_S.append((i, S))\n",
    "#     if search query returns empty list, move along\n",
    "    if not S['tracks']['items']:\n",
    "        continue\n",
    "        \n",
    "    M = match_results(S,track=track,artist=artist,album=album)\n",
    "    B = measure_results(M)\n",
    "    \n",
    "    store_M.append((i, M))\n",
    "    store_B.append((i, B))\n",
    "    \n",
    "#     if the search results don't pass the test for accuracy, move along\n",
    "    if not B:\n",
    "        continue\n",
    "    \n",
    "#     retrieve spotify id for song\n",
    "    spot_ID = S['tracks']['items'][0]['id']\n",
    "    track_spot_id.append((i, spot_ID))"
   ]
  },
  {
   "cell_type": "code",
   "execution_count": 243,
   "metadata": {
    "scrolled": true
   },
   "outputs": [],
   "source": [
    "s1_analysis = spotify.audio_analysis(s1['tracks']['items'][0]['id'])"
   ]
  },
  {
   "cell_type": "code",
   "execution_count": 365,
   "metadata": {
    "scrolled": true
   },
   "outputs": [
    {
     "name": "stdout",
     "output_type": "stream",
     "text": [
      "There are 1419 songs which matched over 66% retreived from spotify\n"
     ]
    }
   ],
   "source": [
    "print('There are {} songs which matched over 66% retreived from spotify'.format(len(track_spot_id)))"
   ]
  },
  {
   "cell_type": "code",
   "execution_count": 366,
   "metadata": {},
   "outputs": [
    {
     "data": {
      "text/html": [
       "<div>\n",
       "<style scoped>\n",
       "    .dataframe tbody tr th:only-of-type {\n",
       "        vertical-align: middle;\n",
       "    }\n",
       "\n",
       "    .dataframe tbody tr th {\n",
       "        vertical-align: top;\n",
       "    }\n",
       "\n",
       "    .dataframe thead th {\n",
       "        text-align: right;\n",
       "    }\n",
       "</style>\n",
       "<table border=\"1\" class=\"dataframe\">\n",
       "  <thead>\n",
       "    <tr style=\"text-align: right;\">\n",
       "      <th></th>\n",
       "      <th>spotify_track_id</th>\n",
       "    </tr>\n",
       "  </thead>\n",
       "  <tbody>\n",
       "    <tr>\n",
       "      <th>5</th>\n",
       "      <td>66381EvBZ6e3RXzYATpGmN</td>\n",
       "    </tr>\n",
       "    <tr>\n",
       "      <th>18</th>\n",
       "      <td>2ee4Do6eRNXGg7XqKGkvz3</td>\n",
       "    </tr>\n",
       "    <tr>\n",
       "      <th>86</th>\n",
       "      <td>1OrbImTwzIVWtW1msIfa2r</td>\n",
       "    </tr>\n",
       "    <tr>\n",
       "      <th>316</th>\n",
       "      <td>4ypiBQX6nsXTwLkaHwnaRI</td>\n",
       "    </tr>\n",
       "    <tr>\n",
       "      <th>322</th>\n",
       "      <td>4m8jcQJ7wg4RyFNnIvZZgn</td>\n",
       "    </tr>\n",
       "  </tbody>\n",
       "</table>\n",
       "</div>"
      ],
      "text/plain": [
       "           spotify_track_id\n",
       "5    66381EvBZ6e3RXzYATpGmN\n",
       "18   2ee4Do6eRNXGg7XqKGkvz3\n",
       "86   1OrbImTwzIVWtW1msIfa2r\n",
       "316  4ypiBQX6nsXTwLkaHwnaRI\n",
       "322  4m8jcQJ7wg4RyFNnIvZZgn"
      ]
     },
     "execution_count": 366,
     "metadata": {},
     "output_type": "execute_result"
    }
   ],
   "source": [
    "spot_id_df = pd.DataFrame([x[1] for x in track_spot_id],index=[i[0] for i in track_spot_id],columns=['spotify_track_id'])\n",
    "spot_id_df.head()"
   ]
  },
  {
   "cell_type": "markdown",
   "metadata": {},
   "source": [
    "### Loop through songs with a spotify ID and retrieve their time signature"
   ]
  },
  {
   "cell_type": "code",
   "execution_count": 379,
   "metadata": {},
   "outputs": [],
   "source": [
    "spot_time_sig = []\n",
    "for i, s_id in track_spot_id:\n",
    "    try:\n",
    "        S_ID = spotify.audio_analysis(s_id)\n",
    "        S_time = S_ID['track']['time_signature']\n",
    "        S_time_conf = S_ID['track']['time_signature_confidence']\n",
    "\n",
    "        spot_time_sig.append((i, s_id, S_time, S_time_conf))\n",
    "    except:\n",
    "        continue"
   ]
  },
  {
   "cell_type": "code",
   "execution_count": 393,
   "metadata": {},
   "outputs": [],
   "source": [
    "time_sig_df = pd.DataFrame(spot_time_sig,columns=['track_fma_id', 'track_spot_id', 'time_signature', 'time_sig_confidence'])"
   ]
  },
  {
   "cell_type": "code",
   "execution_count": 487,
   "metadata": {
    "scrolled": true
   },
   "outputs": [
    {
     "data": {
      "text/html": [
       "<div>\n",
       "<style scoped>\n",
       "    .dataframe tbody tr th:only-of-type {\n",
       "        vertical-align: middle;\n",
       "    }\n",
       "\n",
       "    .dataframe tbody tr th {\n",
       "        vertical-align: top;\n",
       "    }\n",
       "\n",
       "    .dataframe thead th {\n",
       "        text-align: right;\n",
       "    }\n",
       "</style>\n",
       "<table border=\"1\" class=\"dataframe\">\n",
       "  <thead>\n",
       "    <tr style=\"text-align: right;\">\n",
       "      <th></th>\n",
       "      <th>track_fma_id</th>\n",
       "      <th>track_spot_id</th>\n",
       "      <th>time_signature</th>\n",
       "      <th>time_sig_confidence</th>\n",
       "    </tr>\n",
       "  </thead>\n",
       "  <tbody>\n",
       "    <tr>\n",
       "      <th>0</th>\n",
       "      <td>5</td>\n",
       "      <td>66381EvBZ6e3RXzYATpGmN</td>\n",
       "      <td>4</td>\n",
       "      <td>1.000</td>\n",
       "    </tr>\n",
       "    <tr>\n",
       "      <th>1</th>\n",
       "      <td>18</td>\n",
       "      <td>2ee4Do6eRNXGg7XqKGkvz3</td>\n",
       "      <td>3</td>\n",
       "      <td>1.000</td>\n",
       "    </tr>\n",
       "    <tr>\n",
       "      <th>2</th>\n",
       "      <td>86</td>\n",
       "      <td>1OrbImTwzIVWtW1msIfa2r</td>\n",
       "      <td>4</td>\n",
       "      <td>0.815</td>\n",
       "    </tr>\n",
       "  </tbody>\n",
       "</table>\n",
       "</div>"
      ],
      "text/plain": [
       "   track_fma_id           track_spot_id  time_signature  time_sig_confidence\n",
       "0             5  66381EvBZ6e3RXzYATpGmN               4                1.000\n",
       "1            18  2ee4Do6eRNXGg7XqKGkvz3               3                1.000\n",
       "2            86  1OrbImTwzIVWtW1msIfa2r               4                0.815"
      ]
     },
     "execution_count": 487,
     "metadata": {},
     "output_type": "execute_result"
    }
   ],
   "source": [
    "time_sig_df.head(3)"
   ]
  },
  {
   "cell_type": "code",
   "execution_count": 472,
   "metadata": {},
   "outputs": [],
   "source": [
    "complete_df = pd.merge(time_sig_df, df, right_index=True, left_on='track_fma_id')"
   ]
  },
  {
   "cell_type": "code",
   "execution_count": 488,
   "metadata": {},
   "outputs": [
    {
     "data": {
      "text/html": [
       "<div>\n",
       "<style scoped>\n",
       "    .dataframe tbody tr th:only-of-type {\n",
       "        vertical-align: middle;\n",
       "    }\n",
       "\n",
       "    .dataframe tbody tr th {\n",
       "        vertical-align: top;\n",
       "    }\n",
       "\n",
       "    .dataframe thead th {\n",
       "        text-align: right;\n",
       "    }\n",
       "</style>\n",
       "<table border=\"1\" class=\"dataframe\">\n",
       "  <thead>\n",
       "    <tr style=\"text-align: right;\">\n",
       "      <th></th>\n",
       "      <th>track_fma_id</th>\n",
       "      <th>track_spot_id</th>\n",
       "      <th>time_signature</th>\n",
       "      <th>time_sig_confidence</th>\n",
       "      <th>track_name</th>\n",
       "      <th>artist_name</th>\n",
       "      <th>album_name</th>\n",
       "      <th>track_bit</th>\n",
       "      <th>track_top_genre</th>\n",
       "    </tr>\n",
       "  </thead>\n",
       "  <tbody>\n",
       "    <tr>\n",
       "      <th>0</th>\n",
       "      <td>5</td>\n",
       "      <td>66381EvBZ6e3RXzYATpGmN</td>\n",
       "      <td>4</td>\n",
       "      <td>1.000</td>\n",
       "      <td>Freeway</td>\n",
       "      <td>Kurt Vile</td>\n",
       "      <td>Constant Hitmaker</td>\n",
       "      <td>192000</td>\n",
       "      <td>Pop</td>\n",
       "    </tr>\n",
       "    <tr>\n",
       "      <th>1</th>\n",
       "      <td>18</td>\n",
       "      <td>2ee4Do6eRNXGg7XqKGkvz3</td>\n",
       "      <td>3</td>\n",
       "      <td>1.000</td>\n",
       "      <td>Ohio</td>\n",
       "      <td>Alec K. Redfearn &amp; the Eyesores</td>\n",
       "      <td>Every Man For Himself</td>\n",
       "      <td>128000</td>\n",
       "      <td>Folk</td>\n",
       "    </tr>\n",
       "    <tr>\n",
       "      <th>2</th>\n",
       "      <td>86</td>\n",
       "      <td>1OrbImTwzIVWtW1msIfa2r</td>\n",
       "      <td>4</td>\n",
       "      <td>0.815</td>\n",
       "      <td>Boute</td>\n",
       "      <td>Au</td>\n",
       "      <td>Au</td>\n",
       "      <td>256000</td>\n",
       "      <td>Pop</td>\n",
       "    </tr>\n",
       "    <tr>\n",
       "      <th>3</th>\n",
       "      <td>316</td>\n",
       "      <td>4ypiBQX6nsXTwLkaHwnaRI</td>\n",
       "      <td>4</td>\n",
       "      <td>0.349</td>\n",
       "      <td>I Can See You</td>\n",
       "      <td>Charles Manson</td>\n",
       "      <td>One Mind</td>\n",
       "      <td>128000</td>\n",
       "      <td>Folk</td>\n",
       "    </tr>\n",
       "    <tr>\n",
       "      <th>4</th>\n",
       "      <td>322</td>\n",
       "      <td>4m8jcQJ7wg4RyFNnIvZZgn</td>\n",
       "      <td>3</td>\n",
       "      <td>0.143</td>\n",
       "      <td>The Black Pirate</td>\n",
       "      <td>Charles Manson</td>\n",
       "      <td>One Mind</td>\n",
       "      <td>128000</td>\n",
       "      <td>Folk</td>\n",
       "    </tr>\n",
       "  </tbody>\n",
       "</table>\n",
       "</div>"
      ],
      "text/plain": [
       "   track_fma_id           track_spot_id  time_signature  time_sig_confidence  \\\n",
       "0             5  66381EvBZ6e3RXzYATpGmN               4                1.000   \n",
       "1            18  2ee4Do6eRNXGg7XqKGkvz3               3                1.000   \n",
       "2            86  1OrbImTwzIVWtW1msIfa2r               4                0.815   \n",
       "3           316  4ypiBQX6nsXTwLkaHwnaRI               4                0.349   \n",
       "4           322  4m8jcQJ7wg4RyFNnIvZZgn               3                0.143   \n",
       "\n",
       "         track_name                      artist_name             album_name  \\\n",
       "0           Freeway                        Kurt Vile      Constant Hitmaker   \n",
       "1              Ohio  Alec K. Redfearn & the Eyesores  Every Man For Himself   \n",
       "2             Boute                               Au                     Au   \n",
       "3     I Can See You                   Charles Manson               One Mind   \n",
       "4  The Black Pirate                   Charles Manson               One Mind   \n",
       "\n",
       "   track_bit track_top_genre  \n",
       "0     192000             Pop  \n",
       "1     128000            Folk  \n",
       "2     256000             Pop  \n",
       "3     128000            Folk  \n",
       "4     128000            Folk  "
      ]
     },
     "execution_count": 488,
     "metadata": {},
     "output_type": "execute_result"
    }
   ],
   "source": [
    "complete_df.head()"
   ]
  },
  {
   "cell_type": "code",
   "execution_count": 485,
   "metadata": {},
   "outputs": [],
   "source": [
    "complete_df.to_csv('clean_track_info.csv')"
   ]
  }
 ],
 "metadata": {
  "kernelspec": {
   "display_name": "Python 3",
   "language": "python",
   "name": "python3"
  },
  "language_info": {
   "codemirror_mode": {
    "name": "ipython",
    "version": 3
   },
   "file_extension": ".py",
   "mimetype": "text/x-python",
   "name": "python",
   "nbconvert_exporter": "python",
   "pygments_lexer": "ipython3",
   "version": "3.7.6"
  }
 },
 "nbformat": 4,
 "nbformat_minor": 4
}
