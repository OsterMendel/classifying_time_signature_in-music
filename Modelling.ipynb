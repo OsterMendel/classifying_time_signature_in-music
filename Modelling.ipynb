{
 "cells": [
  {
   "cell_type": "code",
   "execution_count": 37,
   "metadata": {},
   "outputs": [],
   "source": [
    "import numpy as np\n",
    "import pandas as pd\n",
    "import matplotlib.pyplot as plt\n",
    "import seaborn as sns\n",
    "\n",
    "from sklearn.metrics import accuracy_score, recall_score, precision_score, f1_score, confusion_matrix\n",
    "\n",
    "from sklearn.neighbors import KNeighborsClassifier\n",
    "from sklearn.preprocessing import StandardScaler\n",
    "from sklearn.model_selection import train_test_split\n",
    "from sklearn.dummy import DummyClassifier\n",
    "from sklearn.model_selection import GridSearchCV\n",
    "from sklearn.model_selection import RandomizedSearchCV, KFold\n",
    "from sklearn.ensemble import RandomForestClassifier\n",
    "from sklearn.svm import SVC\n",
    "\n",
    "from xgboost import XGBClassifier\n",
    "# for class imbalance\n",
    "from imblearn.over_sampling import SMOTE\n",
    "\n",
    "from keras import models\n",
    "from keras import layers\n",
    "from keras import optimizers"
   ]
  },
  {
   "cell_type": "markdown",
   "metadata": {},
   "source": [
    "-----"
   ]
  },
  {
   "cell_type": "markdown",
   "metadata": {},
   "source": [
    "### --In the process & Further steps--"
   ]
  },
  {
   "cell_type": "markdown",
   "metadata": {},
   "source": [
    "-Model tuninig<br>\n",
    "-remove 5/4 timing, try predicting the two most common classes in time signature 4/4 and 3/4<br>\n",
    "-check on time signature confidence, set a threshold and remove rows which don't pass the threshold feed this into models<br>\n",
    "-More feature engineering, the mean for each MFCC vector may not be the correct choice\n",
    "-Use the full MFCC vector and feed into Sequential neural net"
   ]
  },
  {
   "cell_type": "markdown",
   "metadata": {},
   "source": [
    "----"
   ]
  },
  {
   "cell_type": "markdown",
   "metadata": {},
   "source": [
    "### Baseline Model"
   ]
  },
  {
   "cell_type": "code",
   "execution_count": 3,
   "metadata": {
    "scrolled": true
   },
   "outputs": [
    {
     "data": {
      "text/html": [
       "<div>\n",
       "<style scoped>\n",
       "    .dataframe tbody tr th:only-of-type {\n",
       "        vertical-align: middle;\n",
       "    }\n",
       "\n",
       "    .dataframe tbody tr th {\n",
       "        vertical-align: top;\n",
       "    }\n",
       "\n",
       "    .dataframe thead th {\n",
       "        text-align: right;\n",
       "    }\n",
       "</style>\n",
       "<table border=\"1\" class=\"dataframe\">\n",
       "  <thead>\n",
       "    <tr style=\"text-align: right;\">\n",
       "      <th></th>\n",
       "      <th>track_id</th>\n",
       "      <th>mfcc1</th>\n",
       "      <th>mfcc2</th>\n",
       "      <th>mfcc3</th>\n",
       "      <th>mfcc4</th>\n",
       "      <th>mfcc5</th>\n",
       "      <th>mfcc6</th>\n",
       "      <th>mfcc7</th>\n",
       "      <th>mfcc8</th>\n",
       "      <th>mfcc9</th>\n",
       "      <th>...</th>\n",
       "      <th>mfcc12</th>\n",
       "      <th>mfcc13</th>\n",
       "      <th>mfcc14</th>\n",
       "      <th>mfcc15</th>\n",
       "      <th>mfcc16</th>\n",
       "      <th>mfcc17</th>\n",
       "      <th>mfcc18</th>\n",
       "      <th>mfcc19</th>\n",
       "      <th>mfcc20</th>\n",
       "      <th>time_signature</th>\n",
       "    </tr>\n",
       "  </thead>\n",
       "  <tbody>\n",
       "    <tr>\n",
       "      <th>0</th>\n",
       "      <td>10.0</td>\n",
       "      <td>-17.238174</td>\n",
       "      <td>94.442024</td>\n",
       "      <td>-48.614548</td>\n",
       "      <td>32.370766</td>\n",
       "      <td>-4.550584</td>\n",
       "      <td>2.220590</td>\n",
       "      <td>-2.271865</td>\n",
       "      <td>2.682117</td>\n",
       "      <td>-5.288854</td>\n",
       "      <td>...</td>\n",
       "      <td>2.239940</td>\n",
       "      <td>-6.416430</td>\n",
       "      <td>2.677109</td>\n",
       "      <td>-5.104513</td>\n",
       "      <td>-0.911098</td>\n",
       "      <td>-3.207996</td>\n",
       "      <td>3.043154</td>\n",
       "      <td>-1.036512</td>\n",
       "      <td>3.882601</td>\n",
       "      <td>4.0</td>\n",
       "    </tr>\n",
       "    <tr>\n",
       "      <th>1</th>\n",
       "      <td>141.0</td>\n",
       "      <td>-208.569260</td>\n",
       "      <td>116.633934</td>\n",
       "      <td>-1.723712</td>\n",
       "      <td>26.018599</td>\n",
       "      <td>9.688706</td>\n",
       "      <td>-4.179668</td>\n",
       "      <td>7.235491</td>\n",
       "      <td>-5.119752</td>\n",
       "      <td>-0.052033</td>\n",
       "      <td>...</td>\n",
       "      <td>-3.396803</td>\n",
       "      <td>-4.810870</td>\n",
       "      <td>3.130367</td>\n",
       "      <td>-2.126665</td>\n",
       "      <td>5.053833</td>\n",
       "      <td>-0.170090</td>\n",
       "      <td>3.087436</td>\n",
       "      <td>-8.665928</td>\n",
       "      <td>-1.098168</td>\n",
       "      <td>3.0</td>\n",
       "    </tr>\n",
       "    <tr>\n",
       "      <th>2</th>\n",
       "      <td>213.0</td>\n",
       "      <td>-264.020782</td>\n",
       "      <td>160.387070</td>\n",
       "      <td>0.499303</td>\n",
       "      <td>15.058126</td>\n",
       "      <td>12.012090</td>\n",
       "      <td>-8.957160</td>\n",
       "      <td>-10.785332</td>\n",
       "      <td>0.959413</td>\n",
       "      <td>-8.229311</td>\n",
       "      <td>...</td>\n",
       "      <td>-5.370893</td>\n",
       "      <td>-4.490613</td>\n",
       "      <td>-11.134265</td>\n",
       "      <td>-18.518158</td>\n",
       "      <td>-2.583431</td>\n",
       "      <td>-4.884125</td>\n",
       "      <td>1.371706</td>\n",
       "      <td>4.428988</td>\n",
       "      <td>-3.584380</td>\n",
       "      <td>4.0</td>\n",
       "    </tr>\n",
       "  </tbody>\n",
       "</table>\n",
       "<p>3 rows × 22 columns</p>\n",
       "</div>"
      ],
      "text/plain": [
       "   track_id       mfcc1       mfcc2      mfcc3      mfcc4      mfcc5  \\\n",
       "0      10.0  -17.238174   94.442024 -48.614548  32.370766  -4.550584   \n",
       "1     141.0 -208.569260  116.633934  -1.723712  26.018599   9.688706   \n",
       "2     213.0 -264.020782  160.387070   0.499303  15.058126  12.012090   \n",
       "\n",
       "      mfcc6      mfcc7     mfcc8     mfcc9  ...    mfcc12    mfcc13  \\\n",
       "0  2.220590  -2.271865  2.682117 -5.288854  ...  2.239940 -6.416430   \n",
       "1 -4.179668   7.235491 -5.119752 -0.052033  ... -3.396803 -4.810870   \n",
       "2 -8.957160 -10.785332  0.959413 -8.229311  ... -5.370893 -4.490613   \n",
       "\n",
       "      mfcc14     mfcc15    mfcc16    mfcc17    mfcc18    mfcc19    mfcc20  \\\n",
       "0   2.677109  -5.104513 -0.911098 -3.207996  3.043154 -1.036512  3.882601   \n",
       "1   3.130367  -2.126665  5.053833 -0.170090  3.087436 -8.665928 -1.098168   \n",
       "2 -11.134265 -18.518158 -2.583431 -4.884125  1.371706  4.428988 -3.584380   \n",
       "\n",
       "   time_signature  \n",
       "0             4.0  \n",
       "1             3.0  \n",
       "2             4.0  \n",
       "\n",
       "[3 rows x 22 columns]"
      ]
     },
     "execution_count": 3,
     "metadata": {},
     "output_type": "execute_result"
    }
   ],
   "source": [
    "df = pd.read_csv('final_df.csv', index_col=0)\n",
    "df.head(3)"
   ]
  },
  {
   "cell_type": "code",
   "execution_count": 4,
   "metadata": {},
   "outputs": [
    {
     "data": {
      "text/plain": [
       "4.0    1034\n",
       "3.0     128\n",
       "5.0      42\n",
       "1.0      17\n",
       "0.0       1\n",
       "Name: time_signature, dtype: int64"
      ]
     },
     "execution_count": 4,
     "metadata": {},
     "output_type": "execute_result"
    }
   ],
   "source": [
    "df['time_signature'].value_counts()"
   ]
  },
  {
   "cell_type": "code",
   "execution_count": 5,
   "metadata": {},
   "outputs": [],
   "source": [
    "# dropping all rows where the time signature is 1 or 0\n",
    "df = df[(df['time_signature'] != 0) & (df['time_signature'] != 1)]"
   ]
  },
  {
   "cell_type": "code",
   "execution_count": 6,
   "metadata": {},
   "outputs": [
    {
     "data": {
      "text/plain": [
       "4.0    1034\n",
       "3.0     128\n",
       "5.0      42\n",
       "Name: time_signature, dtype: int64"
      ]
     },
     "execution_count": 6,
     "metadata": {},
     "output_type": "execute_result"
    }
   ],
   "source": [
    "df['time_signature'].value_counts()"
   ]
  },
  {
   "cell_type": "code",
   "execution_count": 7,
   "metadata": {},
   "outputs": [],
   "source": [
    "X = df.drop(columns=['track_id', 'time_signature'])\n",
    "y = df['time_signature']"
   ]
  },
  {
   "cell_type": "code",
   "execution_count": 8,
   "metadata": {},
   "outputs": [
    {
     "data": {
      "text/plain": [
       "0.8588039867109635"
      ]
     },
     "execution_count": 8,
     "metadata": {},
     "output_type": "execute_result"
    }
   ],
   "source": [
    "dummy_clf = DummyClassifier(strategy=\"most_frequent\")\n",
    "dummy_clf.fit(X, y)\n",
    "dummy_clf.predict(X)\n",
    "dummy_clf.score(X, y)"
   ]
  },
  {
   "cell_type": "code",
   "execution_count": 9,
   "metadata": {},
   "outputs": [],
   "source": [
    "colors =  ['#73997b','#617f8c','#675970']"
   ]
  },
  {
   "cell_type": "code",
   "execution_count": 12,
   "metadata": {},
   "outputs": [
    {
     "data": {
      "image/png": "[encoded data removed]",
      "text/plain": [
       "<Figure size 576x432 with 1 Axes>"
      ]
     },
     "metadata": {},
     "output_type": "display_data"
    }
   ],
   "source": [
    "plt.figure(figsize=(8,6));\n",
    "plt.pie(y_train.value_counts(), colors=colors);\n",
    "plt.text(.03,.4,'4')\n",
    "plt.text(.7,-.09,'5')\n",
    "plt.text(.4,-.4,'3')\n",
    "plt.title('Class imbalance');\n",
    "plt.savefig('class_imbalance.png')"
   ]
  },
  {
   "cell_type": "code",
   "execution_count": 13,
   "metadata": {},
   "outputs": [
    {
     "data": {
      "text/plain": [
       "4.0    0.859813\n",
       "3.0    0.106957\n",
       "5.0    0.033229\n",
       "Name: time_signature, dtype: float64"
      ]
     },
     "execution_count": 13,
     "metadata": {},
     "output_type": "execute_result"
    }
   ],
   "source": [
    "y_train.value_counts(normalize=True)"
   ]
  },
  {
   "cell_type": "markdown",
   "metadata": {},
   "source": [
    "#### Train test split"
   ]
  },
  {
   "cell_type": "code",
   "execution_count": 11,
   "metadata": {},
   "outputs": [],
   "source": [
    "X_train, X_test, y_train, y_test = train_test_split(X, y, test_size=.20, random_state=12)"
   ]
  },
  {
   "cell_type": "code",
   "execution_count": 14,
   "metadata": {},
   "outputs": [
    {
     "name": "stdout",
     "output_type": "stream",
     "text": [
      "(963, 20)\n",
      "(241, 20)\n",
      "(963,)\n",
      "(241,)\n"
     ]
    }
   ],
   "source": [
    "print(X_train.shape)\n",
    "print(X_test.shape)\n",
    "print(y_train.shape)\n",
    "print(y_test.shape)"
   ]
  },
  {
   "cell_type": "markdown",
   "metadata": {},
   "source": [
    "### Upsampling the smaller classes"
   ]
  },
  {
   "cell_type": "code",
   "execution_count": 15,
   "metadata": {},
   "outputs": [],
   "source": [
    "sm = SMOTE(random_state=42)\n",
    "X_res, y_res = sm.fit_resample(X_train, y_train)"
   ]
  },
  {
   "cell_type": "code",
   "execution_count": 16,
   "metadata": {},
   "outputs": [
    {
     "name": "stdout",
     "output_type": "stream",
     "text": [
      "(2484, 20)\n",
      "(2484,)\n"
     ]
    }
   ],
   "source": [
    "print(X_res.shape)\n",
    "print(y_res.shape)"
   ]
  },
  {
   "cell_type": "code",
   "execution_count": 17,
   "metadata": {},
   "outputs": [
    {
     "data": {
      "text/plain": [
       "3.0    0.333333\n",
       "5.0    0.333333\n",
       "4.0    0.333333\n",
       "Name: 0, dtype: float64"
      ]
     },
     "execution_count": 17,
     "metadata": {},
     "output_type": "execute_result"
    }
   ],
   "source": [
    "pd.DataFrame(y_res)[0].value_counts(normalize=True)"
   ]
  },
  {
   "cell_type": "markdown",
   "metadata": {},
   "source": [
    "### Knn Model"
   ]
  },
  {
   "cell_type": "code",
   "execution_count": 88,
   "metadata": {},
   "outputs": [],
   "source": [
    "# Need to scale the data"
   ]
  },
  {
   "cell_type": "code",
   "execution_count": 85,
   "metadata": {},
   "outputs": [
    {
     "name": "stdout",
     "output_type": "stream",
     "text": [
      "0.5020746887966805\n",
      "[0.1978022  0.65853659 0.12698413]\n"
     ]
    },
    {
     "data": {
      "text/plain": [
       "array([[  9,  11,   5],\n",
       "       [ 54, 108,  44],\n",
       "       [  3,   3,   4]])"
      ]
     },
     "execution_count": 85,
     "metadata": {},
     "output_type": "execute_result"
    }
   ],
   "source": [
    "knn = KNeighborsClassifier()\n",
    "knn.fit(X_res, y_res)\n",
    "knn_preds = knn.predict(X_test)\n",
    "print(accuracy_score(y_test, knn_preds))\n",
    "print(f1_score(y_test, knn_preds, average=None))\n",
    "confusion_matrix(y_test, knn_preds)"
   ]
  },
  {
   "cell_type": "code",
   "execution_count": null,
   "metadata": {},
   "outputs": [],
   "source": []
  },
  {
   "cell_type": "code",
   "execution_count": null,
   "metadata": {},
   "outputs": [],
   "source": []
  },
  {
   "cell_type": "code",
   "execution_count": null,
   "metadata": {},
   "outputs": [],
   "source": []
  },
  {
   "cell_type": "code",
   "execution_count": null,
   "metadata": {},
   "outputs": [],
   "source": []
  },
  {
   "cell_type": "markdown",
   "metadata": {},
   "source": [
    "### Random Forest"
   ]
  },
  {
   "cell_type": "code",
   "execution_count": 65,
   "metadata": {},
   "outputs": [],
   "source": [
    "rf_clf = RandomForestClassifier(n_estimators=50)\n",
    "rf_clf.fit(X_res, y_res)\n",
    "rf_preds = rf_clf.predict(X_test)"
   ]
  },
  {
   "cell_type": "code",
   "execution_count": 86,
   "metadata": {
    "scrolled": true
   },
   "outputs": [
    {
     "name": "stdout",
     "output_type": "stream",
     "text": [
      "0.7717842323651453\n",
      "[0.12       0.87290168 0.13333333]\n",
      "[[  3  22   0]\n",
      " [ 20 182   4]\n",
      " [  2   7   1]]\n"
     ]
    }
   ],
   "source": [
    "print(accuracy_score(y_test, rf_preds))\n",
    "print(f1_score(y_test, rf_preds, average=None))\n",
    "print(confusion_matrix(y_test, rf_preds))"
   ]
  },
  {
   "cell_type": "code",
   "execution_count": 68,
   "metadata": {},
   "outputs": [],
   "source": [
    "########  NOTES\n",
    "\n",
    "# this seems to be working well. got to play with hyper parameters"
   ]
  },
  {
   "cell_type": "code",
   "execution_count": null,
   "metadata": {},
   "outputs": [],
   "source": []
  },
  {
   "cell_type": "code",
   "execution_count": null,
   "metadata": {},
   "outputs": [],
   "source": []
  },
  {
   "cell_type": "code",
   "execution_count": null,
   "metadata": {},
   "outputs": [],
   "source": []
  },
  {
   "cell_type": "code",
   "execution_count": null,
   "metadata": {},
   "outputs": [],
   "source": []
  },
  {
   "cell_type": "code",
   "execution_count": null,
   "metadata": {},
   "outputs": [],
   "source": []
  },
  {
   "cell_type": "markdown",
   "metadata": {},
   "source": [
    "### X gboost"
   ]
  },
  {
   "cell_type": "code",
   "execution_count": 91,
   "metadata": {},
   "outputs": [
    {
     "data": {
      "text/plain": [
       "0.7759336099585062"
      ]
     },
     "execution_count": 91,
     "metadata": {},
     "output_type": "execute_result"
    }
   ],
   "source": [
    "xgb_clf = XGBClassifier(objective='multi:softmax')\n",
    "xgb_clf.fit(pd.DataFrame(X_res, columns=X_train.columns), y_res)\n",
    "xgb_preds = xgb_clf.predict(X_test)\n",
    "accuracy_score(y_test, xgb_preds)"
   ]
  },
  {
   "cell_type": "code",
   "execution_count": 92,
   "metadata": {},
   "outputs": [
    {
     "data": {
      "text/plain": [
       "array([0.17021277, 0.87290168, 0.11111111])"
      ]
     },
     "execution_count": 92,
     "metadata": {},
     "output_type": "execute_result"
    }
   ],
   "source": [
    "f1_score(y_test, xgb_preds, average=None)"
   ]
  },
  {
   "cell_type": "markdown",
   "metadata": {},
   "source": [
    "### GridSearch"
   ]
  },
  {
   "cell_type": "code",
   "execution_count": 93,
   "metadata": {},
   "outputs": [],
   "source": [
    "param_xgb = {'n_estimators': [100,300,500],\n",
    "              'learning_rate': [0.1,0.07,0.05,0.03,0.01],\n",
    "              'max_depth': [3, 4, 5, 6, 7],\n",
    "              'colsample_bytree': [0.5,0.45,0.4],\n",
    "              'min_child_weight': [1, 2, 3]\n",
    "             }"
   ]
  },
  {
   "cell_type": "code",
   "execution_count": 95,
   "metadata": {},
   "outputs": [],
   "source": [
    "gsearch_xgb = GridSearchCV(\n",
    "                estimator = xgb_clf,\n",
    "                param_grid = param_xgb, \n",
    "                scoring='accuracy',\n",
    "                n_jobs=-1,\n",
    "                verbose=1, \n",
    "                cv=5)"
   ]
  },
  {
   "cell_type": "code",
   "execution_count": 96,
   "metadata": {},
   "outputs": [
    {
     "name": "stdout",
     "output_type": "stream",
     "text": [
      "Fitting 5 folds for each of 675 candidates, totalling 3375 fits\n"
     ]
    },
    {
     "name": "stderr",
     "output_type": "stream",
     "text": [
      "[Parallel(n_jobs=-1)]: Using backend LokyBackend with 8 concurrent workers.\n",
      "[Parallel(n_jobs=-1)]: Done  34 tasks      | elapsed:   14.6s\n",
      "[Parallel(n_jobs=-1)]: Done 184 tasks      | elapsed:  1.4min\n",
      "[Parallel(n_jobs=-1)]: Done 434 tasks      | elapsed:  3.6min\n",
      "[Parallel(n_jobs=-1)]: Done 784 tasks      | elapsed:  6.5min\n",
      "[Parallel(n_jobs=-1)]: Done 1234 tasks      | elapsed: 11.7min\n",
      "[Parallel(n_jobs=-1)]: Done 1784 tasks      | elapsed: 20.0min\n",
      "[Parallel(n_jobs=-1)]: Done 2434 tasks      | elapsed: 25.3min\n",
      "[Parallel(n_jobs=-1)]: Done 3184 tasks      | elapsed: 31.1min\n",
      "[Parallel(n_jobs=-1)]: Done 3375 out of 3375 | elapsed: 32.8min finished\n"
     ]
    },
    {
     "data": {
      "text/plain": [
       "GridSearchCV(cv=5, error_score='raise-deprecating',\n",
       "             estimator=XGBClassifier(base_score=0.5, booster='gbtree',\n",
       "                                     colsample_bylevel=1, colsample_bynode=1,\n",
       "                                     colsample_bytree=1, gamma=0, gpu_id=-1,\n",
       "                                     importance_type='gain',\n",
       "                                     interaction_constraints='',\n",
       "                                     learning_rate=0.300000012,\n",
       "                                     max_delta_step=0, max_depth=6,\n",
       "                                     min_child_weight=1, missing=nan,\n",
       "                                     monotone_constraints='()',\n",
       "                                     n_esti...\n",
       "                                     scale_pos_weight=None, subsample=1,\n",
       "                                     tree_method='exact', validate_parameters=1,\n",
       "                                     verbosity=None),\n",
       "             iid='warn', n_jobs=-1,\n",
       "             param_grid={'colsample_bytree': [0.5, 0.45, 0.4],\n",
       "                         'learning_rate': [0.1, 0.07, 0.05, 0.03, 0.01],\n",
       "                         'max_depth': [3, 4, 5, 6, 7],\n",
       "                         'min_child_weight': [1, 2, 3],\n",
       "                         'n_estimators': [100, 300, 500]},\n",
       "             pre_dispatch='2*n_jobs', refit=True, return_train_score=False,\n",
       "             scoring='accuracy', verbose=1)"
      ]
     },
     "execution_count": 96,
     "metadata": {},
     "output_type": "execute_result"
    }
   ],
   "source": [
    "gsearch_xgb.fit(pd.DataFrame(X_res, columns=X_train.columns), y_res)"
   ]
  },
  {
   "cell_type": "code",
   "execution_count": 97,
   "metadata": {},
   "outputs": [],
   "source": [
    "gsxbg_preds = gsearch_xgb.best_estimator_.predict(X_test)"
   ]
  },
  {
   "cell_type": "code",
   "execution_count": 99,
   "metadata": {},
   "outputs": [
    {
     "name": "stdout",
     "output_type": "stream",
     "text": [
      "0.7842323651452282\n",
      "[0.17021277 0.88192771 0.2       ]\n"
     ]
    },
    {
     "data": {
      "text/plain": [
       "array([[  4,  20,   1],\n",
       "       [ 16, 183,   7],\n",
       "       [  2,   6,   2]])"
      ]
     },
     "execution_count": 99,
     "metadata": {},
     "output_type": "execute_result"
    }
   ],
   "source": [
    "print(accuracy_score(y_test, gsxbg_preds))\n",
    "print(f1_score(y_test, gsxbg_preds, average=None))\n",
    "confusion_matrix(y_test, gsxbg_preds)"
   ]
  },
  {
   "cell_type": "markdown",
   "metadata": {},
   "source": [
    "### Neural Nets"
   ]
  },
  {
   "cell_type": "code",
   "execution_count": 101,
   "metadata": {},
   "outputs": [],
   "source": [
    "nn = models.Sequential()"
   ]
  },
  {
   "cell_type": "code",
   "execution_count": null,
   "metadata": {},
   "outputs": [],
   "source": []
  },
  {
   "cell_type": "code",
   "execution_count": null,
   "metadata": {},
   "outputs": [],
   "source": []
  },
  {
   "cell_type": "markdown",
   "metadata": {},
   "source": [
    "## Setting threshold for time sig confidence & removing 5/4 timing"
   ]
  },
  {
   "cell_type": "code",
   "execution_count": 23,
   "metadata": {},
   "outputs": [],
   "source": [
    "# retrieving track id and time signature\n",
    "conf_df = pd.read_csv('clean_track_info.csv',index_col=0)[['tracks_id', 'time_sig_confidence']]"
   ]
  },
  {
   "cell_type": "code",
   "execution_count": 47,
   "metadata": {},
   "outputs": [
    {
     "data": {
      "text/plain": [
       "0.804"
      ]
     },
     "execution_count": 47,
     "metadata": {},
     "output_type": "execute_result"
    }
   ],
   "source": [
    "# checking dist\n",
    "conf_df['time_sig_confidence'].quantile(.25)"
   ]
  },
  {
   "cell_type": "code",
   "execution_count": 53,
   "metadata": {},
   "outputs": [
    {
     "data": {
      "image/png": "[encoded data removed]",
      "text/plain": [
       "<Figure size 576x432 with 1 Axes>"
      ]
     },
     "metadata": {
      "needs_background": "light"
     },
     "output_type": "display_data"
    }
   ],
   "source": [
    "# visualizing dist\n",
    "plt.figure(figsize=(8,6));\n",
    "plt.title('Time Signature confidence histogram');\n",
    "plt.ylabel('count');\n",
    "sns.distplot(conf_df['time_sig_confidence']);\n",
    "plt.axvline(conf_df['time_sig_confidence'].quantile(.25),color='r');"
   ]
  },
  {
   "cell_type": "code",
   "execution_count": 56,
   "metadata": {},
   "outputs": [],
   "source": [
    "# joining tables for filtering later\n",
    "merged_df = pd.merge(df,conf_df,left_on='track_id', right_on='tracks_id').drop(columns=['tracks_id'])"
   ]
  },
  {
   "cell_type": "code",
   "execution_count": 61,
   "metadata": {},
   "outputs": [],
   "source": [
    "# filtered data frame for sig confidence above .8\n",
    "filtered_df = merged_df[(merged_df['time_sig_confidence'] >= .8) & (merged_df['time_signature'] != 5)]"
   ]
  },
  {
   "cell_type": "code",
   "execution_count": 63,
   "metadata": {},
   "outputs": [
    {
     "data": {
      "text/plain": [
       "4.0    0.934444\n",
       "3.0    0.065556\n",
       "Name: time_signature, dtype: float64"
      ]
     },
     "execution_count": 63,
     "metadata": {},
     "output_type": "execute_result"
    }
   ],
   "source": [
    "# checking distribution on filtered dataframe\n",
    "filtered_df['time_signature'].value_counts(normalize=True)"
   ]
  },
  {
   "cell_type": "code",
   "execution_count": null,
   "metadata": {},
   "outputs": [],
   "source": []
  }
 ],
 "metadata": {
  "kernelspec": {
   "display_name": "Python 3",
   "language": "python",
   "name": "python3"
  },
  "language_info": {
   "codemirror_mode": {
    "name": "ipython",
    "version": 3
   },
   "file_extension": ".py",
   "mimetype": "text/x-python",
   "name": "python",
   "nbconvert_exporter": "python",
   "pygments_lexer": "ipython3",
   "version": "3.7.4"
  }
 },
 "nbformat": 4,
 "nbformat_minor": 2
}
