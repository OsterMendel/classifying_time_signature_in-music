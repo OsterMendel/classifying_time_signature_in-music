{
 "cells": [
  {
   "cell_type": "code",
   "execution_count": 192,
   "metadata": {},
   "outputs": [],
   "source": [
    "import os\n",
    "import pandas as pd\n",
    "import numpy as np\n",
    "import matplotlib.pyplot as plt\n",
    "\n",
    "import librosa\n",
    "import librosa.display\n",
    "import IPython.display as ipd"
   ]
  },
  {
   "cell_type": "markdown",
   "metadata": {},
   "source": [
    "### Classes"
   ]
  },
  {
   "cell_type": "code",
   "execution_count": 17,
   "metadata": {
    "scrolled": true
   },
   "outputs": [
    {
     "data": {
      "text/html": [
       "<div>\n",
       "<style scoped>\n",
       "    .dataframe tbody tr th:only-of-type {\n",
       "        vertical-align: middle;\n",
       "    }\n",
       "\n",
       "    .dataframe tbody tr th {\n",
       "        vertical-align: top;\n",
       "    }\n",
       "\n",
       "    .dataframe thead th {\n",
       "        text-align: right;\n",
       "    }\n",
       "</style>\n",
       "<table border=\"1\" class=\"dataframe\">\n",
       "  <thead>\n",
       "    <tr style=\"text-align: right;\">\n",
       "      <th></th>\n",
       "      <th>track_fma_id</th>\n",
       "      <th>track_spot_id</th>\n",
       "      <th>time_signature</th>\n",
       "      <th>time_sig_confidence</th>\n",
       "      <th>tracks_id</th>\n",
       "      <th>track_name</th>\n",
       "      <th>artist_name</th>\n",
       "      <th>album_name</th>\n",
       "      <th>track_bit</th>\n",
       "      <th>track_top_genre</th>\n",
       "    </tr>\n",
       "  </thead>\n",
       "  <tbody>\n",
       "    <tr>\n",
       "      <th>0</th>\n",
       "      <td>5</td>\n",
       "      <td>66381EvBZ6e3RXzYATpGmN</td>\n",
       "      <td>4</td>\n",
       "      <td>1.000</td>\n",
       "      <td>10</td>\n",
       "      <td>Freeway</td>\n",
       "      <td>Kurt Vile</td>\n",
       "      <td>Constant Hitmaker</td>\n",
       "      <td>192000</td>\n",
       "      <td>Pop</td>\n",
       "    </tr>\n",
       "    <tr>\n",
       "      <th>1</th>\n",
       "      <td>18</td>\n",
       "      <td>2ee4Do6eRNXGg7XqKGkvz3</td>\n",
       "      <td>3</td>\n",
       "      <td>1.000</td>\n",
       "      <td>141</td>\n",
       "      <td>Ohio</td>\n",
       "      <td>Alec K. Redfearn &amp; the Eyesores</td>\n",
       "      <td>Every Man For Himself</td>\n",
       "      <td>128000</td>\n",
       "      <td>Folk</td>\n",
       "    </tr>\n",
       "    <tr>\n",
       "      <th>2</th>\n",
       "      <td>86</td>\n",
       "      <td>1OrbImTwzIVWtW1msIfa2r</td>\n",
       "      <td>4</td>\n",
       "      <td>0.815</td>\n",
       "      <td>213</td>\n",
       "      <td>Boute</td>\n",
       "      <td>Au</td>\n",
       "      <td>Au</td>\n",
       "      <td>256000</td>\n",
       "      <td>Pop</td>\n",
       "    </tr>\n",
       "    <tr>\n",
       "      <th>3</th>\n",
       "      <td>316</td>\n",
       "      <td>4ypiBQX6nsXTwLkaHwnaRI</td>\n",
       "      <td>4</td>\n",
       "      <td>0.349</td>\n",
       "      <td>534</td>\n",
       "      <td>I Can See You</td>\n",
       "      <td>Charles Manson</td>\n",
       "      <td>One Mind</td>\n",
       "      <td>128000</td>\n",
       "      <td>Folk</td>\n",
       "    </tr>\n",
       "    <tr>\n",
       "      <th>4</th>\n",
       "      <td>322</td>\n",
       "      <td>4m8jcQJ7wg4RyFNnIvZZgn</td>\n",
       "      <td>3</td>\n",
       "      <td>0.143</td>\n",
       "      <td>540</td>\n",
       "      <td>The Black Pirate</td>\n",
       "      <td>Charles Manson</td>\n",
       "      <td>One Mind</td>\n",
       "      <td>128000</td>\n",
       "      <td>Folk</td>\n",
       "    </tr>\n",
       "  </tbody>\n",
       "</table>\n",
       "</div>"
      ],
      "text/plain": [
       "   track_fma_id           track_spot_id  time_signature  time_sig_confidence  \\\n",
       "0             5  66381EvBZ6e3RXzYATpGmN               4                1.000   \n",
       "1            18  2ee4Do6eRNXGg7XqKGkvz3               3                1.000   \n",
       "2            86  1OrbImTwzIVWtW1msIfa2r               4                0.815   \n",
       "3           316  4ypiBQX6nsXTwLkaHwnaRI               4                0.349   \n",
       "4           322  4m8jcQJ7wg4RyFNnIvZZgn               3                0.143   \n",
       "\n",
       "   tracks_id        track_name                      artist_name  \\\n",
       "0         10           Freeway                        Kurt Vile   \n",
       "1        141              Ohio  Alec K. Redfearn & the Eyesores   \n",
       "2        213             Boute                               Au   \n",
       "3        534     I Can See You                   Charles Manson   \n",
       "4        540  The Black Pirate                   Charles Manson   \n",
       "\n",
       "              album_name  track_bit track_top_genre  \n",
       "0      Constant Hitmaker     192000             Pop  \n",
       "1  Every Man For Himself     128000            Folk  \n",
       "2                     Au     256000             Pop  \n",
       "3               One Mind     128000            Folk  \n",
       "4               One Mind     128000            Folk  "
      ]
     },
     "execution_count": 17,
     "metadata": {},
     "output_type": "execute_result"
    }
   ],
   "source": [
    "df = pd.read_csv('clean_track_info.csv',index_col=0)\n",
    "df.head()"
   ]
  },
  {
   "cell_type": "code",
   "execution_count": null,
   "metadata": {},
   "outputs": [],
   "source": []
  },
  {
   "cell_type": "markdown",
   "metadata": {},
   "source": [
    "### Collecting actual audio files for scraped data"
   ]
  },
  {
   "cell_type": "code",
   "execution_count": null,
   "metadata": {},
   "outputs": [],
   "source": [
    "# df['tracks_id'] is the track ID for the audio clips in the fma small dataset"
   ]
  },
  {
   "cell_type": "code",
   "execution_count": 99,
   "metadata": {},
   "outputs": [],
   "source": [
    "# getting filepaths for the tracks in the df\n",
    "mp3_file_paths = []\n",
    "for root, dirs, files in os.walk(r'C:\\Users\\Mendel Oster\\data_science\\fma_small\\fma_small'):\n",
    "    for file in files:\n",
    "        if file.endswith(\".mp3\"):\n",
    "            if int(file[:-4]) in list(df['tracks_id'].unique()):\n",
    "                mp3_file_paths.append(os.path.join(root,file))"
   ]
  },
  {
   "cell_type": "code",
   "execution_count": 148,
   "metadata": {},
   "outputs": [],
   "source": [
    "# copying the 1222 samples into new directory\n",
    "for mp3 in mp3_file_paths:\n",
    "    copy2(mp3, r'C:\\Users\\Mendel Oster\\data_science\\fma_small\\all_tracks')"
   ]
  },
  {
   "cell_type": "code",
   "execution_count": null,
   "metadata": {},
   "outputs": [],
   "source": []
  }
 ],
 "metadata": {
  "kernelspec": {
   "display_name": "Python 3",
   "language": "python",
   "name": "python3"
  },
  "language_info": {
   "codemirror_mode": {
    "name": "ipython",
    "version": 3
   },
   "file_extension": ".py",
   "mimetype": "text/x-python",
   "name": "python",
   "nbconvert_exporter": "python",
   "pygments_lexer": "ipython3",
   "version": "3.7.6"
  }
 },
 "nbformat": 4,
 "nbformat_minor": 4
}
