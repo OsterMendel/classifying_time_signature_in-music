{
 "cells": [
  {
   "cell_type": "code",
   "execution_count": 1,
   "metadata": {},
   "outputs": [],
   "source": [
    "import os\n",
    "import pandas as pd\n",
    "import numpy as np\n",
    "import matplotlib.pyplot as plt\n",
    "import seaborn as sns\n",
    "import librosa\n",
    "import librosa.display\n",
    "import IPython.display as ipd\n",
    "from sklearn.preprocessing import scale"
   ]
  },
  {
   "cell_type": "markdown",
   "metadata": {},
   "source": [
    "### Prepared DataDrame"
   ]
  },
  {
   "cell_type": "code",
   "execution_count": 2,
   "metadata": {
    "scrolled": true
   },
   "outputs": [
    {
     "data": {
      "text/html": [
       "<div>\n",
       "<style scoped>\n",
       "    .dataframe tbody tr th:only-of-type {\n",
       "        vertical-align: middle;\n",
       "    }\n",
       "\n",
       "    .dataframe tbody tr th {\n",
       "        vertical-align: top;\n",
       "    }\n",
       "\n",
       "    .dataframe thead th {\n",
       "        text-align: right;\n",
       "    }\n",
       "</style>\n",
       "<table border=\"1\" class=\"dataframe\">\n",
       "  <thead>\n",
       "    <tr style=\"text-align: right;\">\n",
       "      <th></th>\n",
       "      <th>track_fma_id</th>\n",
       "      <th>track_spot_id</th>\n",
       "      <th>time_signature</th>\n",
       "      <th>time_sig_confidence</th>\n",
       "      <th>tracks_id</th>\n",
       "      <th>track_name</th>\n",
       "      <th>artist_name</th>\n",
       "      <th>album_name</th>\n",
       "      <th>track_bit</th>\n",
       "      <th>track_top_genre</th>\n",
       "    </tr>\n",
       "  </thead>\n",
       "  <tbody>\n",
       "    <tr>\n",
       "      <th>0</th>\n",
       "      <td>5</td>\n",
       "      <td>66381EvBZ6e3RXzYATpGmN</td>\n",
       "      <td>4</td>\n",
       "      <td>1.000</td>\n",
       "      <td>10</td>\n",
       "      <td>Freeway</td>\n",
       "      <td>Kurt Vile</td>\n",
       "      <td>Constant Hitmaker</td>\n",
       "      <td>192000</td>\n",
       "      <td>Pop</td>\n",
       "    </tr>\n",
       "    <tr>\n",
       "      <th>1</th>\n",
       "      <td>18</td>\n",
       "      <td>2ee4Do6eRNXGg7XqKGkvz3</td>\n",
       "      <td>3</td>\n",
       "      <td>1.000</td>\n",
       "      <td>141</td>\n",
       "      <td>Ohio</td>\n",
       "      <td>Alec K. Redfearn &amp; the Eyesores</td>\n",
       "      <td>Every Man For Himself</td>\n",
       "      <td>128000</td>\n",
       "      <td>Folk</td>\n",
       "    </tr>\n",
       "    <tr>\n",
       "      <th>2</th>\n",
       "      <td>86</td>\n",
       "      <td>1OrbImTwzIVWtW1msIfa2r</td>\n",
       "      <td>4</td>\n",
       "      <td>0.815</td>\n",
       "      <td>213</td>\n",
       "      <td>Boute</td>\n",
       "      <td>Au</td>\n",
       "      <td>Au</td>\n",
       "      <td>256000</td>\n",
       "      <td>Pop</td>\n",
       "    </tr>\n",
       "    <tr>\n",
       "      <th>3</th>\n",
       "      <td>316</td>\n",
       "      <td>4ypiBQX6nsXTwLkaHwnaRI</td>\n",
       "      <td>4</td>\n",
       "      <td>0.349</td>\n",
       "      <td>534</td>\n",
       "      <td>I Can See You</td>\n",
       "      <td>Charles Manson</td>\n",
       "      <td>One Mind</td>\n",
       "      <td>128000</td>\n",
       "      <td>Folk</td>\n",
       "    </tr>\n",
       "    <tr>\n",
       "      <th>4</th>\n",
       "      <td>322</td>\n",
       "      <td>4m8jcQJ7wg4RyFNnIvZZgn</td>\n",
       "      <td>3</td>\n",
       "      <td>0.143</td>\n",
       "      <td>540</td>\n",
       "      <td>The Black Pirate</td>\n",
       "      <td>Charles Manson</td>\n",
       "      <td>One Mind</td>\n",
       "      <td>128000</td>\n",
       "      <td>Folk</td>\n",
       "    </tr>\n",
       "  </tbody>\n",
       "</table>\n",
       "</div>"
      ],
      "text/plain": [
       "   track_fma_id           track_spot_id  time_signature  time_sig_confidence  \\\n",
       "0             5  66381EvBZ6e3RXzYATpGmN               4                1.000   \n",
       "1            18  2ee4Do6eRNXGg7XqKGkvz3               3                1.000   \n",
       "2            86  1OrbImTwzIVWtW1msIfa2r               4                0.815   \n",
       "3           316  4ypiBQX6nsXTwLkaHwnaRI               4                0.349   \n",
       "4           322  4m8jcQJ7wg4RyFNnIvZZgn               3                0.143   \n",
       "\n",
       "   tracks_id        track_name                      artist_name  \\\n",
       "0         10           Freeway                        Kurt Vile   \n",
       "1        141              Ohio  Alec K. Redfearn & the Eyesores   \n",
       "2        213             Boute                               Au   \n",
       "3        534     I Can See You                   Charles Manson   \n",
       "4        540  The Black Pirate                   Charles Manson   \n",
       "\n",
       "              album_name  track_bit track_top_genre  \n",
       "0      Constant Hitmaker     192000             Pop  \n",
       "1  Every Man For Himself     128000            Folk  \n",
       "2                     Au     256000             Pop  \n",
       "3               One Mind     128000            Folk  \n",
       "4               One Mind     128000            Folk  "
      ]
     },
     "execution_count": 2,
     "metadata": {},
     "output_type": "execute_result"
    }
   ],
   "source": [
    "df = pd.read_csv('clean_track_info.csv',index_col=0)\n",
    "df.head()"
   ]
  },
  {
   "cell_type": "markdown",
   "metadata": {},
   "source": [
    "### Visual"
   ]
  },
  {
   "cell_type": "code",
   "execution_count": 15,
   "metadata": {},
   "outputs": [
    {
     "data": {
      "image/png": "[encoded data removed]",
      "text/plain": [
       "<Figure size 576x432 with 1 Axes>"
      ]
     },
     "metadata": {
      "needs_background": "light"
     },
     "output_type": "display_data"
    }
   ],
   "source": [
    "plt.figure(figsize=(8,6))\n",
    "\n",
    "df[df['time_signature'] == 4]['track_top_genre'].value_counts().plot(kind='bar',color='#73997b', label='4');\n",
    "df[df['time_signature'] == 3]['track_top_genre'].value_counts().plot(kind='bar',color='#617f8c', label='3');\n",
    "df[df['time_signature'] == 5]['track_top_genre'].value_counts().plot(kind='bar',color='#675970', label='5');\n",
    "plt.title('Class distribution by genre');\n",
    "plt.xlabel('Genre');\n",
    "plt.ylabel('Counts');\n",
    "plt.xticks(rotation=45)\n",
    "plt.legend();\n",
    "plt.savefig('class_dist_by_genre.png')"
   ]
  },
  {
   "cell_type": "markdown",
   "metadata": {},
   "source": [
    "### Collecting actual audio files for scraped data"
   ]
  },
  {
   "cell_type": "code",
   "execution_count": null,
   "metadata": {},
   "outputs": [],
   "source": [
    "# df['tracks_id'] is the track ID for the audio clips in the fma small dataset"
   ]
  },
  {
   "cell_type": "code",
   "execution_count": 99,
   "metadata": {},
   "outputs": [],
   "source": [
    "# getting filepaths for the tracks in the df\n",
    "mp3_file_paths = []\n",
    "for root, dirs, files in os.walk(r'C:\\Users\\Mendel Oster\\data_science\\fma_small\\fma_small'):\n",
    "    for file in files:\n",
    "        if file.endswith(\".mp3\"):\n",
    "            if int(file[:-4]) in list(df['tracks_id'].unique()):\n",
    "                mp3_file_paths.append(os.path.join(root,file))"
   ]
  },
  {
   "cell_type": "code",
   "execution_count": 148,
   "metadata": {},
   "outputs": [],
   "source": [
    "# copying the 1222 samples into new directory\n",
    "for mp3 in mp3_file_paths:\n",
    "    copy2(mp3, r'C:\\Users\\Mendel Oster\\data_science\\fma_small\\all_tracks')"
   ]
  },
  {
   "cell_type": "code",
   "execution_count": 31,
   "metadata": {},
   "outputs": [],
   "source": [
    "# for root, dirs, files in os.walk(r'C:\\Users\\Mendel Oster\\data_science\\fma_small\\wav'):\n",
    "#     for file in files:\n",
    "#         dst = os.path.join(root,file[:-8]+'.wav')\n",
    "#         src = os.path.join(root,file)\n",
    "#         os.rename(src, dst)"
   ]
  },
  {
   "cell_type": "code",
   "execution_count": 32,
   "metadata": {},
   "outputs": [],
   "source": [
    "wav_paths = []\n",
    "for root, dirs, files in os.walk(r'C:\\Users\\Mendel Oster\\data_science\\fma_small\\wav'):\n",
    "    for file in files:\n",
    "        wav_paths.append(os.path.join(root,file))"
   ]
  },
  {
   "cell_type": "markdown",
   "metadata": {},
   "source": [
    "### Feature Engineering"
   ]
  },
  {
   "cell_type": "markdown",
   "metadata": {},
   "source": [
    "1. First approach is to get the average of each MFCC vector and use that as the songs features"
   ]
  },
  {
   "cell_type": "code",
   "execution_count": 120,
   "metadata": {},
   "outputs": [
    {
     "data": {
      "text/plain": [
       "<matplotlib.axes._subplots.AxesSubplot at 0x22b0e93fa08>"
      ]
     },
     "execution_count": 120,
     "metadata": {},
     "output_type": "execute_result"
    },
    {
     "data": {
      "image/png": "[encoded data removed]",
      "text/plain": [
       "<Figure size 432x288 with 1 Axes>"
      ]
     },
     "metadata": {
      "needs_background": "light"
     },
     "output_type": "display_data"
    }
   ],
   "source": [
    "# Show what it looks like?? and explain this approach\n",
    "librosa.display.specshow(scaled_mfcc[1:4,:430], sr=test_sr, x_axis='time')"
   ]
  },
  {
   "cell_type": "code",
   "execution_count": 277,
   "metadata": {},
   "outputs": [],
   "source": [
    "def get_features(song_path, df):\n",
    "    '''\n",
    "    This function takes in a path to an audio and \n",
    "    1. converts it into a audio time series using librosa.load\n",
    "    2. uses librosa.feature.mfcc to get the transformed coefficients\n",
    "    3. computes the mean for each coef across time (axis=1 for computed mfcc) \n",
    "    4. retrievs the track id and time signature from the df\n",
    "    5. returns a tuple (track_id, X, y) X, and y where Xi is each computed mean is and y is the class time signature \n",
    "    X.shape = (1,20) y.shape = (1,1)\n",
    "    '''\n",
    "    column_names = ['mfcc' + str(i) for i in range(1,21)]\n",
    "    \n",
    "#     audio time series, and audio sample rate\n",
    "    A_y, A_sr = librosa.load(song_path)\n",
    "#     compute mfcc features\n",
    "    MFCCs = librosa.feature.mfcc(y=A_y, sr=A_sr)\n",
    "    \n",
    "#     computing mean and converting into DataFrame\n",
    "    X = pd.DataFrame(MFCCs.mean(axis=1)).T\n",
    "    X_cols = {old: new for old, new in zip(X.columns,column_names)}\n",
    "    X.rename(columns=X_cols,inplace=True)\n",
    "    \n",
    "    track_id = int(song_path[-10:-4])\n",
    "    y = df[df['tracks_id'] == track_id]['time_signature'].unique()[0]\n",
    "    \n",
    "    return (track_id, X, y)   "
   ]
  },
  {
   "cell_type": "code",
   "execution_count": 316,
   "metadata": {},
   "outputs": [],
   "source": [
    "def preprocess(path_to_songs, df_with_time_sig):\n",
    "    '''\n",
    "    This function executes the 'get_features' function over all songs and returns a final DF ready for modeling\n",
    "    '''\n",
    "    track, xs, target = get_features(path_to_songs[0], df_with_time_sig)\n",
    "    processed_df = pd.concat([pd.Series(track),xs, pd.Series(target)],axis=1)\n",
    "    for i, song in enumerate(path_to_songs):\n",
    "        t_id, X, y = get_features(song, df_with_time_sig)\n",
    "        new_df = pd.concat([pd.Series(t_id), X, pd.Series(y)],axis=1)\n",
    "        processed_df.loc[i] = new_df.loc[0]\n",
    "    \n",
    "    return processed_df.rename(columns={0: 'track_id', 1: 'time_signature'})"
   ]
  },
  {
   "cell_type": "code",
   "execution_count": 317,
   "metadata": {},
   "outputs": [],
   "source": [
    "final_df = preprocess(wav_paths, df)"
   ]
  },
  {
   "cell_type": "code",
   "execution_count": 318,
   "metadata": {},
   "outputs": [
    {
     "data": {
      "text/html": [
       "<div>\n",
       "<style scoped>\n",
       "    .dataframe tbody tr th:only-of-type {\n",
       "        vertical-align: middle;\n",
       "    }\n",
       "\n",
       "    .dataframe tbody tr th {\n",
       "        vertical-align: top;\n",
       "    }\n",
       "\n",
       "    .dataframe thead th {\n",
       "        text-align: right;\n",
       "    }\n",
       "</style>\n",
       "<table border=\"1\" class=\"dataframe\">\n",
       "  <thead>\n",
       "    <tr style=\"text-align: right;\">\n",
       "      <th></th>\n",
       "      <th>track_id</th>\n",
       "      <th>mfcc1</th>\n",
       "      <th>mfcc2</th>\n",
       "      <th>mfcc3</th>\n",
       "      <th>mfcc4</th>\n",
       "      <th>mfcc5</th>\n",
       "      <th>mfcc6</th>\n",
       "      <th>mfcc7</th>\n",
       "      <th>mfcc8</th>\n",
       "      <th>mfcc9</th>\n",
       "      <th>...</th>\n",
       "      <th>mfcc12</th>\n",
       "      <th>mfcc13</th>\n",
       "      <th>mfcc14</th>\n",
       "      <th>mfcc15</th>\n",
       "      <th>mfcc16</th>\n",
       "      <th>mfcc17</th>\n",
       "      <th>mfcc18</th>\n",
       "      <th>mfcc19</th>\n",
       "      <th>mfcc20</th>\n",
       "      <th>time_signature</th>\n",
       "    </tr>\n",
       "  </thead>\n",
       "  <tbody>\n",
       "    <tr>\n",
       "      <th>0</th>\n",
       "      <td>10.0</td>\n",
       "      <td>-17.238174</td>\n",
       "      <td>94.442024</td>\n",
       "      <td>-48.614548</td>\n",
       "      <td>32.370766</td>\n",
       "      <td>-4.550584</td>\n",
       "      <td>2.220590</td>\n",
       "      <td>-2.271865</td>\n",
       "      <td>2.682117</td>\n",
       "      <td>-5.288854</td>\n",
       "      <td>...</td>\n",
       "      <td>2.239940</td>\n",
       "      <td>-6.416430</td>\n",
       "      <td>2.677109</td>\n",
       "      <td>-5.104513</td>\n",
       "      <td>-0.911098</td>\n",
       "      <td>-3.207996</td>\n",
       "      <td>3.043154</td>\n",
       "      <td>-1.036512</td>\n",
       "      <td>3.882601</td>\n",
       "      <td>4.0</td>\n",
       "    </tr>\n",
       "    <tr>\n",
       "      <th>1</th>\n",
       "      <td>141.0</td>\n",
       "      <td>-208.569260</td>\n",
       "      <td>116.633934</td>\n",
       "      <td>-1.723712</td>\n",
       "      <td>26.018599</td>\n",
       "      <td>9.688706</td>\n",
       "      <td>-4.179668</td>\n",
       "      <td>7.235491</td>\n",
       "      <td>-5.119752</td>\n",
       "      <td>-0.052033</td>\n",
       "      <td>...</td>\n",
       "      <td>-3.396803</td>\n",
       "      <td>-4.810870</td>\n",
       "      <td>3.130367</td>\n",
       "      <td>-2.126665</td>\n",
       "      <td>5.053833</td>\n",
       "      <td>-0.170090</td>\n",
       "      <td>3.087436</td>\n",
       "      <td>-8.665928</td>\n",
       "      <td>-1.098168</td>\n",
       "      <td>3.0</td>\n",
       "    </tr>\n",
       "    <tr>\n",
       "      <th>2</th>\n",
       "      <td>213.0</td>\n",
       "      <td>-264.020782</td>\n",
       "      <td>160.387070</td>\n",
       "      <td>0.499303</td>\n",
       "      <td>15.058126</td>\n",
       "      <td>12.012090</td>\n",
       "      <td>-8.957160</td>\n",
       "      <td>-10.785332</td>\n",
       "      <td>0.959413</td>\n",
       "      <td>-8.229311</td>\n",
       "      <td>...</td>\n",
       "      <td>-5.370893</td>\n",
       "      <td>-4.490613</td>\n",
       "      <td>-11.134265</td>\n",
       "      <td>-18.518158</td>\n",
       "      <td>-2.583431</td>\n",
       "      <td>-4.884125</td>\n",
       "      <td>1.371706</td>\n",
       "      <td>4.428988</td>\n",
       "      <td>-3.584380</td>\n",
       "      <td>4.0</td>\n",
       "    </tr>\n",
       "    <tr>\n",
       "      <th>3</th>\n",
       "      <td>534.0</td>\n",
       "      <td>-259.794342</td>\n",
       "      <td>150.240814</td>\n",
       "      <td>34.139011</td>\n",
       "      <td>54.562172</td>\n",
       "      <td>-13.361850</td>\n",
       "      <td>4.054343</td>\n",
       "      <td>11.771365</td>\n",
       "      <td>-16.188499</td>\n",
       "      <td>-5.989110</td>\n",
       "      <td>...</td>\n",
       "      <td>-4.746535</td>\n",
       "      <td>-8.018499</td>\n",
       "      <td>5.037824</td>\n",
       "      <td>-1.814148</td>\n",
       "      <td>0.693389</td>\n",
       "      <td>-1.805767</td>\n",
       "      <td>-3.202060</td>\n",
       "      <td>-3.180232</td>\n",
       "      <td>0.088710</td>\n",
       "      <td>4.0</td>\n",
       "    </tr>\n",
       "    <tr>\n",
       "      <th>4</th>\n",
       "      <td>540.0</td>\n",
       "      <td>-205.833633</td>\n",
       "      <td>137.933197</td>\n",
       "      <td>-4.343196</td>\n",
       "      <td>56.332245</td>\n",
       "      <td>-8.318016</td>\n",
       "      <td>-1.263402</td>\n",
       "      <td>12.592693</td>\n",
       "      <td>-10.305142</td>\n",
       "      <td>-17.365618</td>\n",
       "      <td>...</td>\n",
       "      <td>-1.929460</td>\n",
       "      <td>-11.026438</td>\n",
       "      <td>-0.828957</td>\n",
       "      <td>-10.977595</td>\n",
       "      <td>-1.921654</td>\n",
       "      <td>-6.113031</td>\n",
       "      <td>-1.286377</td>\n",
       "      <td>-0.227222</td>\n",
       "      <td>0.419077</td>\n",
       "      <td>3.0</td>\n",
       "    </tr>\n",
       "  </tbody>\n",
       "</table>\n",
       "<p>5 rows × 22 columns</p>\n",
       "</div>"
      ],
      "text/plain": [
       "   track_id       mfcc1       mfcc2      mfcc3      mfcc4      mfcc5  \\\n",
       "0      10.0  -17.238174   94.442024 -48.614548  32.370766  -4.550584   \n",
       "1     141.0 -208.569260  116.633934  -1.723712  26.018599   9.688706   \n",
       "2     213.0 -264.020782  160.387070   0.499303  15.058126  12.012090   \n",
       "3     534.0 -259.794342  150.240814  34.139011  54.562172 -13.361850   \n",
       "4     540.0 -205.833633  137.933197  -4.343196  56.332245  -8.318016   \n",
       "\n",
       "      mfcc6      mfcc7      mfcc8      mfcc9  ...    mfcc12     mfcc13  \\\n",
       "0  2.220590  -2.271865   2.682117  -5.288854  ...  2.239940  -6.416430   \n",
       "1 -4.179668   7.235491  -5.119752  -0.052033  ... -3.396803  -4.810870   \n",
       "2 -8.957160 -10.785332   0.959413  -8.229311  ... -5.370893  -4.490613   \n",
       "3  4.054343  11.771365 -16.188499  -5.989110  ... -4.746535  -8.018499   \n",
       "4 -1.263402  12.592693 -10.305142 -17.365618  ... -1.929460 -11.026438   \n",
       "\n",
       "      mfcc14     mfcc15    mfcc16    mfcc17    mfcc18    mfcc19    mfcc20  \\\n",
       "0   2.677109  -5.104513 -0.911098 -3.207996  3.043154 -1.036512  3.882601   \n",
       "1   3.130367  -2.126665  5.053833 -0.170090  3.087436 -8.665928 -1.098168   \n",
       "2 -11.134265 -18.518158 -2.583431 -4.884125  1.371706  4.428988 -3.584380   \n",
       "3   5.037824  -1.814148  0.693389 -1.805767 -3.202060 -3.180232  0.088710   \n",
       "4  -0.828957 -10.977595 -1.921654 -6.113031 -1.286377 -0.227222  0.419077   \n",
       "\n",
       "   time_signature  \n",
       "0             4.0  \n",
       "1             3.0  \n",
       "2             4.0  \n",
       "3             4.0  \n",
       "4             3.0  \n",
       "\n",
       "[5 rows x 22 columns]"
      ]
     },
     "execution_count": 318,
     "metadata": {},
     "output_type": "execute_result"
    }
   ],
   "source": [
    "final_df.head()"
   ]
  },
  {
   "cell_type": "code",
   "execution_count": null,
   "metadata": {},
   "outputs": [],
   "source": []
  }
 ],
 "metadata": {
  "kernelspec": {
   "display_name": "Python 3",
   "language": "python",
   "name": "python3"
  },
  "language_info": {
   "codemirror_mode": {
    "name": "ipython",
    "version": 3
   },
   "file_extension": ".py",
   "mimetype": "text/x-python",
   "name": "python",
   "nbconvert_exporter": "python",
   "pygments_lexer": "ipython3",
   "version": "3.7.4"
  }
 },
 "nbformat": 4,
 "nbformat_minor": 4
}
